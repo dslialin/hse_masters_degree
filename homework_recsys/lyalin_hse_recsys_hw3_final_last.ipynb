{
  "cells": [
    {
      "cell_type": "markdown",
      "id": "a331a3e9",
      "metadata": {
        "id": "a331a3e9",
        "papermill": {
          "duration": 0.025275,
          "end_time": "2025-04-07T00:51:28.247539",
          "exception": false,
          "start_time": "2025-04-07T00:51:28.222264",
          "status": "completed"
        },
        "tags": []
      },
      "source": [
        "## ДЗ №3 Двухуровневый пайплайн\n",
        "#### В этой домашке вам предстоит написать с нуля двустадийную рекомендательную систему.\n",
        "\n",
        "#### Дата выдачи: 10.03.25\n",
        "\n",
        "#### Мягкий дедлайн: 31.03.25 23:59 MSK\n",
        "\n",
        "#### Жесткий дедлайн: 7.04.25 23:59 MSK"
      ]
    },
    {
      "cell_type": "markdown",
      "id": "56b28ec9",
      "metadata": {
        "id": "56b28ec9",
        "papermill": {
          "duration": 0.023563,
          "end_time": "2025-04-07T00:51:28.295630",
          "exception": false,
          "start_time": "2025-04-07T00:51:28.272067",
          "status": "completed"
        },
        "tags": []
      },
      "source": [
        "### Описание\n",
        "Это творческое задание, в котором вам необходимо реализовать полный цикл построения рекомендательной системы: реализовать кандидат генераторов, придумать и собрать признаки, обучить итоговый ранкер и заинференсить модели на всех пользователей.\n",
        "\n",
        "Вам предоставляется два набора данных: `train.csv` и `test.csv`"
      ]
    },
    {
      "cell_type": "code",
      "execution_count": null,
      "id": "08a7cd48",
      "metadata": {
        "execution": {
          "iopub.execute_input": "2025-04-07T00:51:28.344504Z",
          "iopub.status.busy": "2025-04-07T00:51:28.344185Z",
          "iopub.status.idle": "2025-04-07T00:51:28.348368Z",
          "shell.execute_reply": "2025-04-07T00:51:28.347578Z"
        },
        "id": "08a7cd48",
        "papermill": {
          "duration": 0.030133,
          "end_time": "2025-04-07T00:51:28.349745",
          "exception": false,
          "start_time": "2025-04-07T00:51:28.319612",
          "status": "completed"
        },
        "tags": []
      },
      "outputs": [],
      "source": [
        "# %pip install --upgrade pip -q"
      ]
    },
    {
      "cell_type": "code",
      "execution_count": null,
      "id": "56e6e1a1",
      "metadata": {
        "execution": {
          "iopub.execute_input": "2025-04-07T00:51:28.397353Z",
          "iopub.status.busy": "2025-04-07T00:51:28.397129Z",
          "iopub.status.idle": "2025-04-07T00:51:29.112454Z",
          "shell.execute_reply": "2025-04-07T00:51:29.111799Z"
        },
        "id": "56e6e1a1",
        "papermill": {
          "duration": 0.740794,
          "end_time": "2025-04-07T00:51:29.113957",
          "exception": false,
          "start_time": "2025-04-07T00:51:28.373163",
          "status": "completed"
        },
        "tags": []
      },
      "outputs": [],
      "source": [
        "import pandas as pd\n",
        "import numpy as np"
      ]
    },
    {
      "cell_type": "code",
      "execution_count": null,
      "id": "0fbb24f9",
      "metadata": {
        "execution": {
          "iopub.execute_input": "2025-04-07T00:51:29.163328Z",
          "iopub.status.busy": "2025-04-07T00:51:29.162930Z",
          "iopub.status.idle": "2025-04-07T00:51:51.080104Z",
          "shell.execute_reply": "2025-04-07T00:51:51.079245Z"
        },
        "id": "0fbb24f9",
        "outputId": "263c7166-541c-4ed9-f6c3-532209f2fed7",
        "papermill": {
          "duration": 21.943193,
          "end_time": "2025-04-07T00:51:51.081587",
          "exception": false,
          "start_time": "2025-04-07T00:51:29.138394",
          "status": "completed"
        },
        "tags": []
      },
      "outputs": [
        {
          "name": "stdout",
          "output_type": "stream",
          "text": [
            "Requirement already satisfied: gdown in /usr/local/lib/python3.10/dist-packages (5.2.0)\r\n",
            "Requirement already satisfied: beautifulsoup4 in /usr/local/lib/python3.10/dist-packages (from gdown) (4.12.3)\r\n",
            "Requirement already satisfied: filelock in /usr/local/lib/python3.10/dist-packages (from gdown) (3.17.0)\r\n",
            "Requirement already satisfied: requests[socks] in /usr/local/lib/python3.10/dist-packages (from gdown) (2.32.3)\r\n",
            "Requirement already satisfied: tqdm in /usr/local/lib/python3.10/dist-packages (from gdown) (4.67.1)\r\n",
            "Requirement already satisfied: soupsieve>1.2 in /usr/local/lib/python3.10/dist-packages (from beautifulsoup4->gdown) (2.6)\r\n",
            "Requirement already satisfied: charset-normalizer<4,>=2 in /usr/local/lib/python3.10/dist-packages (from requests[socks]->gdown) (3.4.1)\r\n",
            "Requirement already satisfied: idna<4,>=2.5 in /usr/local/lib/python3.10/dist-packages (from requests[socks]->gdown) (3.10)\r\n",
            "Requirement already satisfied: urllib3<3,>=1.21.1 in /usr/local/lib/python3.10/dist-packages (from requests[socks]->gdown) (2.3.0)\r\n",
            "Requirement already satisfied: certifi>=2017.4.17 in /usr/local/lib/python3.10/dist-packages (from requests[socks]->gdown) (2025.1.31)\r\n",
            "Requirement already satisfied: PySocks!=1.5.7,>=1.5.6 in /usr/local/lib/python3.10/dist-packages (from requests[socks]->gdown) (1.7.1)\r\n"
          ]
        },
        {
          "data": {
            "text/plain": [
              "'items.csv'"
            ]
          },
          "execution_count": 3,
          "metadata": {},
          "output_type": "execute_result"
        }
      ],
      "source": [
        "# скачиваем данные\n",
        "# если из этой ячейки не получается, то вот ссылка на папку https://drive.google.com/drive/folders/1HT0Apm8Jft0VPLJtdBBUGu9s1M7vZcoJ?usp=drive_link\n",
        "\n",
        "!pip3 install gdown\n",
        "\n",
        "import gdown\n",
        "# train\n",
        "url = \"https://drive.google.com/uc?id=1-CcS22-UpTJeNcFlA0dVLrEQn8jnI0d-\"\n",
        "\n",
        "output = 'train.csv'\n",
        "gdown.download(url, output, quiet=True)\n",
        "\n",
        "# test\n",
        "url = \"https://drive.google.com/uc?id=11iz3xDh0IIoEIBY0dyRSvByY3qfiT3BG\"\n",
        "\n",
        "output = 'test.csv'\n",
        "gdown.download(url, output, quiet=True)\n",
        "\n",
        "# user features\n",
        "url = \"https://drive.google.com/uc?id=1zl2jWMdUhc-IMakHlihQhJ5PGGZm9-_O\"\n",
        "output = 'users.csv'\n",
        "gdown.download(url, output, quiet=True, fuzzy=True)\n",
        "\n",
        "# item features\n",
        "url = \"https://drive.google.com/uc?id=1chCmpiCKJRjdqNftHc-t2ALl3qbAp2G8\"\n",
        "output = 'items.csv'\n",
        "gdown.download(url, output, quiet=True)"
      ]
    },
    {
      "cell_type": "code",
      "execution_count": null,
      "id": "9930835d",
      "metadata": {
        "execution": {
          "iopub.execute_input": "2025-04-07T00:51:51.132086Z",
          "iopub.status.busy": "2025-04-07T00:51:51.131628Z",
          "iopub.status.idle": "2025-04-07T00:51:54.898620Z",
          "shell.execute_reply": "2025-04-07T00:51:54.897785Z"
        },
        "id": "9930835d",
        "papermill": {
          "duration": 3.794205,
          "end_time": "2025-04-07T00:51:54.900313",
          "exception": false,
          "start_time": "2025-04-07T00:51:51.106108",
          "status": "completed"
        },
        "tags": []
      },
      "outputs": [],
      "source": [
        "train = pd.read_csv('train.csv')\n",
        "test = pd.read_csv('test.csv')\n",
        "users = pd.read_csv('users.csv')\n",
        "items = pd.read_csv('items.csv')"
      ]
    },
    {
      "cell_type": "code",
      "execution_count": null,
      "id": "5ab3d728",
      "metadata": {
        "execution": {
          "iopub.execute_input": "2025-04-07T00:51:54.955519Z",
          "iopub.status.busy": "2025-04-07T00:51:54.955161Z",
          "iopub.status.idle": "2025-04-07T00:51:54.960708Z",
          "shell.execute_reply": "2025-04-07T00:51:54.959783Z"
        },
        "id": "5ab3d728",
        "outputId": "b331e319-af76-449f-ce90-ceafd0dfa00f",
        "papermill": {
          "duration": 0.034942,
          "end_time": "2025-04-07T00:51:54.962245",
          "exception": false,
          "start_time": "2025-04-07T00:51:54.927303",
          "status": "completed"
        },
        "tags": []
      },
      "outputs": [
        {
          "data": {
            "text/plain": [
              "((4866956, 6), (608467, 6), (840197, 5), (15963, 14))"
            ]
          },
          "execution_count": 5,
          "metadata": {},
          "output_type": "execute_result"
        }
      ],
      "source": [
        "train.shape, test.shape, users.shape, items.shape"
      ]
    },
    {
      "cell_type": "code",
      "execution_count": null,
      "id": "f2148cd2",
      "metadata": {
        "execution": {
          "iopub.execute_input": "2025-04-07T00:51:55.015856Z",
          "iopub.status.busy": "2025-04-07T00:51:55.015574Z",
          "iopub.status.idle": "2025-04-07T00:51:55.038092Z",
          "shell.execute_reply": "2025-04-07T00:51:55.037129Z"
        },
        "id": "f2148cd2",
        "outputId": "80bfefaa-dbf7-40fd-8f21-79836e06b88c",
        "papermill": {
          "duration": 0.050147,
          "end_time": "2025-04-07T00:51:55.039540",
          "exception": false,
          "start_time": "2025-04-07T00:51:54.989393",
          "status": "completed"
        },
        "tags": []
      },
      "outputs": [
        {
          "data": {
            "text/html": [
              "<div>\n",
              "<style scoped>\n",
              "    .dataframe tbody tr th:only-of-type {\n",
              "        vertical-align: middle;\n",
              "    }\n",
              "\n",
              "    .dataframe tbody tr th {\n",
              "        vertical-align: top;\n",
              "    }\n",
              "\n",
              "    .dataframe thead th {\n",
              "        text-align: right;\n",
              "    }\n",
              "</style>\n",
              "<table border=\"1\" class=\"dataframe\">\n",
              "  <thead>\n",
              "    <tr style=\"text-align: right;\">\n",
              "      <th></th>\n",
              "      <th>user_id</th>\n",
              "      <th>item_id</th>\n",
              "      <th>last_watch_dt</th>\n",
              "      <th>total_dur</th>\n",
              "      <th>watched_pct</th>\n",
              "      <th>target</th>\n",
              "    </tr>\n",
              "  </thead>\n",
              "  <tbody>\n",
              "    <tr>\n",
              "      <th>0</th>\n",
              "      <td>310745</td>\n",
              "      <td>13373</td>\n",
              "      <td>2021-03-13</td>\n",
              "      <td>4485</td>\n",
              "      <td>98.0</td>\n",
              "      <td>1</td>\n",
              "    </tr>\n",
              "    <tr>\n",
              "      <th>1</th>\n",
              "      <td>952323</td>\n",
              "      <td>15997</td>\n",
              "      <td>2021-03-13</td>\n",
              "      <td>7507</td>\n",
              "      <td>100.0</td>\n",
              "      <td>1</td>\n",
              "    </tr>\n",
              "  </tbody>\n",
              "</table>\n",
              "</div>"
            ],
            "text/plain": [
              "   user_id  item_id last_watch_dt  total_dur  watched_pct  target\n",
              "0   310745    13373    2021-03-13       4485         98.0       1\n",
              "1   952323    15997    2021-03-13       7507        100.0       1"
            ]
          },
          "execution_count": 6,
          "metadata": {},
          "output_type": "execute_result"
        }
      ],
      "source": [
        "train.head(2)"
      ]
    },
    {
      "cell_type": "code",
      "execution_count": null,
      "id": "51a08633",
      "metadata": {
        "execution": {
          "iopub.execute_input": "2025-04-07T00:51:55.136907Z",
          "iopub.status.busy": "2025-04-07T00:51:55.136577Z",
          "iopub.status.idle": "2025-04-07T00:51:55.145008Z",
          "shell.execute_reply": "2025-04-07T00:51:55.144201Z"
        },
        "id": "51a08633",
        "outputId": "b18c20d1-403d-466e-cf1d-c12a66e1e28a",
        "papermill": {
          "duration": 0.079476,
          "end_time": "2025-04-07T00:51:55.146307",
          "exception": false,
          "start_time": "2025-04-07T00:51:55.066831",
          "status": "completed"
        },
        "tags": []
      },
      "outputs": [
        {
          "data": {
            "text/html": [
              "<div>\n",
              "<style scoped>\n",
              "    .dataframe tbody tr th:only-of-type {\n",
              "        vertical-align: middle;\n",
              "    }\n",
              "\n",
              "    .dataframe tbody tr th {\n",
              "        vertical-align: top;\n",
              "    }\n",
              "\n",
              "    .dataframe thead th {\n",
              "        text-align: right;\n",
              "    }\n",
              "</style>\n",
              "<table border=\"1\" class=\"dataframe\">\n",
              "  <thead>\n",
              "    <tr style=\"text-align: right;\">\n",
              "      <th></th>\n",
              "      <th>user_id</th>\n",
              "      <th>item_id</th>\n",
              "      <th>last_watch_dt</th>\n",
              "      <th>total_dur</th>\n",
              "      <th>watched_pct</th>\n",
              "      <th>target</th>\n",
              "    </tr>\n",
              "  </thead>\n",
              "  <tbody>\n",
              "    <tr>\n",
              "      <th>0</th>\n",
              "      <td>718866</td>\n",
              "      <td>6382</td>\n",
              "      <td>2021-08-13</td>\n",
              "      <td>10309</td>\n",
              "      <td>19.0</td>\n",
              "      <td>0</td>\n",
              "    </tr>\n",
              "    <tr>\n",
              "      <th>1</th>\n",
              "      <td>147119</td>\n",
              "      <td>13865</td>\n",
              "      <td>2021-08-13</td>\n",
              "      <td>1666</td>\n",
              "      <td>26.0</td>\n",
              "      <td>0</td>\n",
              "    </tr>\n",
              "  </tbody>\n",
              "</table>\n",
              "</div>"
            ],
            "text/plain": [
              "   user_id  item_id last_watch_dt  total_dur  watched_pct  target\n",
              "0   718866     6382    2021-08-13      10309         19.0       0\n",
              "1   147119    13865    2021-08-13       1666         26.0       0"
            ]
          },
          "execution_count": 7,
          "metadata": {},
          "output_type": "execute_result"
        }
      ],
      "source": [
        "test.head(2)"
      ]
    },
    {
      "cell_type": "code",
      "execution_count": null,
      "id": "32787f61",
      "metadata": {
        "execution": {
          "iopub.execute_input": "2025-04-07T00:51:55.195842Z",
          "iopub.status.busy": "2025-04-07T00:51:55.195541Z",
          "iopub.status.idle": "2025-04-07T00:51:55.203545Z",
          "shell.execute_reply": "2025-04-07T00:51:55.202735Z"
        },
        "id": "32787f61",
        "outputId": "9f039e6a-d4a2-431a-bc11-bdd533261bbb",
        "papermill": {
          "duration": 0.033845,
          "end_time": "2025-04-07T00:51:55.204774",
          "exception": false,
          "start_time": "2025-04-07T00:51:55.170929",
          "status": "completed"
        },
        "tags": []
      },
      "outputs": [
        {
          "data": {
            "text/html": [
              "<div>\n",
              "<style scoped>\n",
              "    .dataframe tbody tr th:only-of-type {\n",
              "        vertical-align: middle;\n",
              "    }\n",
              "\n",
              "    .dataframe tbody tr th {\n",
              "        vertical-align: top;\n",
              "    }\n",
              "\n",
              "    .dataframe thead th {\n",
              "        text-align: right;\n",
              "    }\n",
              "</style>\n",
              "<table border=\"1\" class=\"dataframe\">\n",
              "  <thead>\n",
              "    <tr style=\"text-align: right;\">\n",
              "      <th></th>\n",
              "      <th>user_id</th>\n",
              "      <th>age</th>\n",
              "      <th>income</th>\n",
              "      <th>sex</th>\n",
              "      <th>kids_flg</th>\n",
              "    </tr>\n",
              "  </thead>\n",
              "  <tbody>\n",
              "    <tr>\n",
              "      <th>0</th>\n",
              "      <td>973171</td>\n",
              "      <td>age_25_34</td>\n",
              "      <td>income_60_90</td>\n",
              "      <td>М</td>\n",
              "      <td>1</td>\n",
              "    </tr>\n",
              "    <tr>\n",
              "      <th>1</th>\n",
              "      <td>962099</td>\n",
              "      <td>age_18_24</td>\n",
              "      <td>income_20_40</td>\n",
              "      <td>М</td>\n",
              "      <td>0</td>\n",
              "    </tr>\n",
              "  </tbody>\n",
              "</table>\n",
              "</div>"
            ],
            "text/plain": [
              "   user_id        age        income sex  kids_flg\n",
              "0   973171  age_25_34  income_60_90   М         1\n",
              "1   962099  age_18_24  income_20_40   М         0"
            ]
          },
          "execution_count": 8,
          "metadata": {},
          "output_type": "execute_result"
        }
      ],
      "source": [
        "users.head(2)"
      ]
    },
    {
      "cell_type": "code",
      "execution_count": null,
      "id": "76020c0d",
      "metadata": {
        "execution": {
          "iopub.execute_input": "2025-04-07T00:51:55.255545Z",
          "iopub.status.busy": "2025-04-07T00:51:55.255201Z",
          "iopub.status.idle": "2025-04-07T00:51:55.269860Z",
          "shell.execute_reply": "2025-04-07T00:51:55.268976Z"
        },
        "papermill": {
          "duration": 0.041592,
          "end_time": "2025-04-07T00:51:55.271116",
          "exception": false,
          "start_time": "2025-04-07T00:51:55.229524",
          "status": "completed"
        },
        "tags": [],
        "id": "76020c0d",
        "outputId": "d2fbef46-f66f-4a4f-d1e2-39669a5a47d7"
      },
      "outputs": [
        {
          "name": "stderr",
          "output_type": "stream",
          "text": [
            "/usr/local/lib/python3.10/dist-packages/pandas/io/formats/format.py:1458: RuntimeWarning: invalid value encountered in greater\n",
            "  has_large_values = (abs_vals > 1e6).any()\n",
            "/usr/local/lib/python3.10/dist-packages/pandas/io/formats/format.py:1459: RuntimeWarning: invalid value encountered in less\n",
            "  has_small_values = ((abs_vals < 10 ** (-self.digits)) & (abs_vals > 0)).any()\n",
            "/usr/local/lib/python3.10/dist-packages/pandas/io/formats/format.py:1459: RuntimeWarning: invalid value encountered in greater\n",
            "  has_small_values = ((abs_vals < 10 ** (-self.digits)) & (abs_vals > 0)).any()\n"
          ]
        },
        {
          "data": {
            "text/html": [
              "<div>\n",
              "<style scoped>\n",
              "    .dataframe tbody tr th:only-of-type {\n",
              "        vertical-align: middle;\n",
              "    }\n",
              "\n",
              "    .dataframe tbody tr th {\n",
              "        vertical-align: top;\n",
              "    }\n",
              "\n",
              "    .dataframe thead th {\n",
              "        text-align: right;\n",
              "    }\n",
              "</style>\n",
              "<table border=\"1\" class=\"dataframe\">\n",
              "  <thead>\n",
              "    <tr style=\"text-align: right;\">\n",
              "      <th></th>\n",
              "      <th>item_id</th>\n",
              "      <th>content_type</th>\n",
              "      <th>title</th>\n",
              "      <th>title_orig</th>\n",
              "      <th>release_year</th>\n",
              "      <th>genres</th>\n",
              "      <th>countries</th>\n",
              "      <th>for_kids</th>\n",
              "      <th>age_rating</th>\n",
              "      <th>studios</th>\n",
              "      <th>directors</th>\n",
              "      <th>actors</th>\n",
              "      <th>description</th>\n",
              "      <th>keywords</th>\n",
              "    </tr>\n",
              "  </thead>\n",
              "  <tbody>\n",
              "    <tr>\n",
              "      <th>0</th>\n",
              "      <td>10711</td>\n",
              "      <td>film</td>\n",
              "      <td>Поговори с ней</td>\n",
              "      <td>Hable con ella</td>\n",
              "      <td>2002.0</td>\n",
              "      <td>драмы, зарубежные, детективы, мелодрамы</td>\n",
              "      <td>Испания</td>\n",
              "      <td>NaN</td>\n",
              "      <td>16.0</td>\n",
              "      <td>NaN</td>\n",
              "      <td>Педро Альмодовар</td>\n",
              "      <td>Адольфо Фернандес, Ана Фернандес, Дарио Гранди...</td>\n",
              "      <td>Мелодрама легендарного Педро Альмодовара «Пого...</td>\n",
              "      <td>Поговори, ней, 2002, Испания, друзья, любовь, ...</td>\n",
              "    </tr>\n",
              "    <tr>\n",
              "      <th>1</th>\n",
              "      <td>2508</td>\n",
              "      <td>film</td>\n",
              "      <td>Голые перцы</td>\n",
              "      <td>Search Party</td>\n",
              "      <td>2014.0</td>\n",
              "      <td>зарубежные, приключения, комедии</td>\n",
              "      <td>США</td>\n",
              "      <td>NaN</td>\n",
              "      <td>16.0</td>\n",
              "      <td>NaN</td>\n",
              "      <td>Скот Армстронг</td>\n",
              "      <td>Адам Палли, Брайан Хаски, Дж.Б. Смув, Джейсон ...</td>\n",
              "      <td>Уморительная современная комедия на популярную...</td>\n",
              "      <td>Голые, перцы, 2014, США, друзья, свадьбы, прео...</td>\n",
              "    </tr>\n",
              "  </tbody>\n",
              "</table>\n",
              "</div>"
            ],
            "text/plain": [
              "   item_id content_type           title      title_orig  release_year  \\\n",
              "0    10711         film  Поговори с ней  Hable con ella        2002.0   \n",
              "1     2508         film     Голые перцы    Search Party        2014.0   \n",
              "\n",
              "                                    genres countries  for_kids  age_rating  \\\n",
              "0  драмы, зарубежные, детективы, мелодрамы   Испания       NaN        16.0   \n",
              "1         зарубежные, приключения, комедии       США       NaN        16.0   \n",
              "\n",
              "  studios         directors  \\\n",
              "0     NaN  Педро Альмодовар   \n",
              "1     NaN    Скот Армстронг   \n",
              "\n",
              "                                              actors  \\\n",
              "0  Адольфо Фернандес, Ана Фернандес, Дарио Гранди...   \n",
              "1  Адам Палли, Брайан Хаски, Дж.Б. Смув, Джейсон ...   \n",
              "\n",
              "                                         description  \\\n",
              "0  Мелодрама легендарного Педро Альмодовара «Пого...   \n",
              "1  Уморительная современная комедия на популярную...   \n",
              "\n",
              "                                            keywords  \n",
              "0  Поговори, ней, 2002, Испания, друзья, любовь, ...  \n",
              "1  Голые, перцы, 2014, США, друзья, свадьбы, прео...  "
            ]
          },
          "execution_count": 9,
          "metadata": {},
          "output_type": "execute_result"
        }
      ],
      "source": [
        "items.head(2)"
      ]
    },
    {
      "cell_type": "code",
      "execution_count": null,
      "id": "e99824ef",
      "metadata": {
        "execution": {
          "iopub.execute_input": "2025-04-07T00:51:55.322732Z",
          "iopub.status.busy": "2025-04-07T00:51:55.322356Z",
          "iopub.status.idle": "2025-04-07T00:51:55.344829Z",
          "shell.execute_reply": "2025-04-07T00:51:55.343695Z"
        },
        "id": "e99824ef",
        "outputId": "022c2c65-ad22-419f-f1be-783859ce45d4",
        "papermill": {
          "duration": 0.049579,
          "end_time": "2025-04-07T00:51:55.346170",
          "exception": false,
          "start_time": "2025-04-07T00:51:55.296591",
          "status": "completed"
        },
        "tags": []
      },
      "outputs": [
        {
          "name": "stdout",
          "output_type": "stream",
          "text": [
            "<class 'pandas.core.frame.DataFrame'>\n",
            "RangeIndex: 4866956 entries, 0 to 4866955\n",
            "Data columns (total 6 columns):\n",
            " #   Column         Dtype  \n",
            "---  ------         -----  \n",
            " 0   user_id        int64  \n",
            " 1   item_id        int64  \n",
            " 2   last_watch_dt  object \n",
            " 3   total_dur      int64  \n",
            " 4   watched_pct    float64\n",
            " 5   target         int64  \n",
            "dtypes: float64(1), int64(4), object(1)\n",
            "memory usage: 222.8+ MB\n"
          ]
        }
      ],
      "source": [
        "train.info()"
      ]
    },
    {
      "cell_type": "code",
      "execution_count": null,
      "id": "895da248",
      "metadata": {
        "execution": {
          "iopub.execute_input": "2025-04-07T00:51:55.397487Z",
          "iopub.status.busy": "2025-04-07T00:51:55.397194Z",
          "iopub.status.idle": "2025-04-07T00:51:55.435614Z",
          "shell.execute_reply": "2025-04-07T00:51:55.434552Z"
        },
        "id": "895da248",
        "outputId": "825c1f19-2397-4b06-973f-dc79f296a574",
        "papermill": {
          "duration": 0.065199,
          "end_time": "2025-04-07T00:51:55.437080",
          "exception": false,
          "start_time": "2025-04-07T00:51:55.371881",
          "status": "completed"
        },
        "tags": []
      },
      "outputs": [
        {
          "name": "stdout",
          "output_type": "stream",
          "text": [
            "<class 'pandas.core.frame.DataFrame'>\n",
            "RangeIndex: 608467 entries, 0 to 608466\n",
            "Data columns (total 6 columns):\n",
            " #   Column         Non-Null Count   Dtype  \n",
            "---  ------         --------------   -----  \n",
            " 0   user_id        608467 non-null  int64  \n",
            " 1   item_id        608467 non-null  int64  \n",
            " 2   last_watch_dt  608467 non-null  object \n",
            " 3   total_dur      608467 non-null  int64  \n",
            " 4   watched_pct    608467 non-null  float64\n",
            " 5   target         608467 non-null  int64  \n",
            "dtypes: float64(1), int64(4), object(1)\n",
            "memory usage: 27.9+ MB\n"
          ]
        }
      ],
      "source": [
        "test.info()"
      ]
    },
    {
      "cell_type": "code",
      "execution_count": null,
      "id": "212d468b",
      "metadata": {
        "execution": {
          "iopub.execute_input": "2025-04-07T00:51:55.488291Z",
          "iopub.status.busy": "2025-04-07T00:51:55.487996Z",
          "iopub.status.idle": "2025-04-07T00:51:55.598880Z",
          "shell.execute_reply": "2025-04-07T00:51:55.597765Z"
        },
        "id": "212d468b",
        "outputId": "66487a3d-a694-4708-a195-9352fbf3ba83",
        "papermill": {
          "duration": 0.138316,
          "end_time": "2025-04-07T00:51:55.600796",
          "exception": false,
          "start_time": "2025-04-07T00:51:55.462480",
          "status": "completed"
        },
        "tags": []
      },
      "outputs": [
        {
          "name": "stdout",
          "output_type": "stream",
          "text": [
            "<class 'pandas.core.frame.DataFrame'>\n",
            "RangeIndex: 840197 entries, 0 to 840196\n",
            "Data columns (total 5 columns):\n",
            " #   Column    Non-Null Count   Dtype \n",
            "---  ------    --------------   ----- \n",
            " 0   user_id   840197 non-null  int64 \n",
            " 1   age       826102 non-null  object\n",
            " 2   income    825421 non-null  object\n",
            " 3   sex       826366 non-null  object\n",
            " 4   kids_flg  840197 non-null  int64 \n",
            "dtypes: int64(2), object(3)\n",
            "memory usage: 32.1+ MB\n"
          ]
        }
      ],
      "source": [
        "users.info()"
      ]
    },
    {
      "cell_type": "code",
      "execution_count": null,
      "id": "80005c6e",
      "metadata": {
        "execution": {
          "iopub.execute_input": "2025-04-07T00:51:55.653245Z",
          "iopub.status.busy": "2025-04-07T00:51:55.652961Z",
          "iopub.status.idle": "2025-04-07T00:51:55.672325Z",
          "shell.execute_reply": "2025-04-07T00:51:55.671270Z"
        },
        "papermill": {
          "duration": 0.047001,
          "end_time": "2025-04-07T00:51:55.673693",
          "exception": false,
          "start_time": "2025-04-07T00:51:55.626692",
          "status": "completed"
        },
        "tags": [],
        "id": "80005c6e",
        "outputId": "906d8a1c-e855-49b0-9edd-b51807485bea"
      },
      "outputs": [
        {
          "name": "stdout",
          "output_type": "stream",
          "text": [
            "<class 'pandas.core.frame.DataFrame'>\n",
            "RangeIndex: 15963 entries, 0 to 15962\n",
            "Data columns (total 14 columns):\n",
            " #   Column        Non-Null Count  Dtype  \n",
            "---  ------        --------------  -----  \n",
            " 0   item_id       15963 non-null  int64  \n",
            " 1   content_type  15963 non-null  object \n",
            " 2   title         15963 non-null  object \n",
            " 3   title_orig    11218 non-null  object \n",
            " 4   release_year  15865 non-null  float64\n",
            " 5   genres        15963 non-null  object \n",
            " 6   countries     15926 non-null  object \n",
            " 7   for_kids      566 non-null    float64\n",
            " 8   age_rating    15961 non-null  float64\n",
            " 9   studios       1065 non-null   object \n",
            " 10  directors     14454 non-null  object \n",
            " 11  actors        13344 non-null  object \n",
            " 12  description   15961 non-null  object \n",
            " 13  keywords      15540 non-null  object \n",
            "dtypes: float64(3), int64(1), object(10)\n",
            "memory usage: 1.7+ MB\n"
          ]
        }
      ],
      "source": [
        "items.info()"
      ]
    },
    {
      "cell_type": "markdown",
      "id": "5057925c",
      "metadata": {
        "id": "5057925c",
        "papermill": {
          "duration": 0.024916,
          "end_time": "2025-04-07T00:51:55.723958",
          "exception": false,
          "start_time": "2025-04-07T00:51:55.699042",
          "status": "completed"
        },
        "tags": []
      },
      "source": [
        "\n",
        "\n",
        "### 1 Этап. Модели первого уровня. (max 3 балла)\n",
        "В этом этапе вам необходимо разделить `train` датасет на 2 части: для обучения моделей первого уровня и для их валидации. Единственное условие для разбиения – разбивать нужно по времени. Данные для обучение будем называть `train_stage_1`, данные для валидации `valid_stage_1`. Объемы этих датасетов вы определяет самостоятельно.\n",
        "\n",
        "Для начала нам нужно отобрать кандидатов при помощи легких моделей. Необходимо реализовать 3 типа моделей:\n",
        "1. Любая эвристическая(алгоритмичная) модель на ваш выбор **(0.5 балл)**\n",
        "2. Любая матричная факторизация на ваш выбор **(1 балл)**\n",
        "3. Любая нейросетевая модель на ваш выбор **(1 балла)**\n",
        "\n",
        "Не забудьте использовать скор каждой модели, как признак!\n",
        "\n"
      ]
    },
    {
      "cell_type": "markdown",
      "id": "c554f89e",
      "metadata": {
        "id": "c554f89e",
        "papermill": {
          "duration": 0.025039,
          "end_time": "2025-04-07T00:51:55.774019",
          "exception": false,
          "start_time": "2025-04-07T00:51:55.748980",
          "status": "completed"
        },
        "tags": []
      },
      "source": [
        "Каждая модель должна уметь:\n",
        "1) для пары user_item предсказывать скор релевантности (масштаб скора не важен), важно обработать случаи, когда модель не можеn проскорить пользователя или айтем, вместо этого вернуть какое-то дефолтное значение\n",
        "2) для всех пользователей вернуть top-k самых релевантных айтемов (тут вам скоры не нужны)\n",
        "\n",
        "\n",
        "Дополнительно можно провести анализ кандидат генератов, измерить насколько различные айтемы они рекомендуют, например с помощью таких метрик как: [Ranked based overlap](https://github.com/changyaochen/rbo) или различные вариации [Diversity](https://github.com/MaurizioFD/RecSys2019_DeepLearning_Evaluation/blob/master/Base/Evaluation/metrics.py#L289). **(1 балл)**"
      ]
    },
    {
      "cell_type": "code",
      "execution_count": null,
      "id": "5c7d1a64",
      "metadata": {
        "execution": {
          "iopub.execute_input": "2025-04-07T00:51:55.825144Z",
          "iopub.status.busy": "2025-04-07T00:51:55.824807Z",
          "iopub.status.idle": "2025-04-07T00:51:56.524065Z",
          "shell.execute_reply": "2025-04-07T00:51:56.523063Z"
        },
        "id": "5c7d1a64",
        "papermill": {
          "duration": 0.727023,
          "end_time": "2025-04-07T00:51:56.525893",
          "exception": false,
          "start_time": "2025-04-07T00:51:55.798870",
          "status": "completed"
        },
        "tags": []
      },
      "outputs": [],
      "source": [
        "train['last_watch_dt'] = pd.to_datetime(train['last_watch_dt'])\n",
        "split_date = train['last_watch_dt'].quantile(0.7) + pd.Timedelta(days=1)\n",
        "train_stage_1 = train[train['last_watch_dt'] < split_date]\n",
        "valid_stage_1 = train[train['last_watch_dt'] >= split_date]"
      ]
    },
    {
      "cell_type": "code",
      "execution_count": null,
      "id": "a4cbed8f",
      "metadata": {
        "execution": {
          "iopub.execute_input": "2025-04-07T00:51:56.579523Z",
          "iopub.status.busy": "2025-04-07T00:51:56.579179Z",
          "iopub.status.idle": "2025-04-07T00:51:56.588072Z",
          "shell.execute_reply": "2025-04-07T00:51:56.587286Z"
        },
        "papermill": {
          "duration": 0.036426,
          "end_time": "2025-04-07T00:51:56.589296",
          "exception": false,
          "start_time": "2025-04-07T00:51:56.552870",
          "status": "completed"
        },
        "tags": [],
        "id": "a4cbed8f",
        "outputId": "2c2147bb-ff5c-4b7e-b591-b6d42a8b6c0c"
      },
      "outputs": [
        {
          "data": {
            "text/html": [
              "<div>\n",
              "<style scoped>\n",
              "    .dataframe tbody tr th:only-of-type {\n",
              "        vertical-align: middle;\n",
              "    }\n",
              "\n",
              "    .dataframe tbody tr th {\n",
              "        vertical-align: top;\n",
              "    }\n",
              "\n",
              "    .dataframe thead th {\n",
              "        text-align: right;\n",
              "    }\n",
              "</style>\n",
              "<table border=\"1\" class=\"dataframe\">\n",
              "  <thead>\n",
              "    <tr style=\"text-align: right;\">\n",
              "      <th></th>\n",
              "      <th>user_id</th>\n",
              "      <th>item_id</th>\n",
              "      <th>last_watch_dt</th>\n",
              "      <th>total_dur</th>\n",
              "      <th>watched_pct</th>\n",
              "      <th>target</th>\n",
              "    </tr>\n",
              "  </thead>\n",
              "  <tbody>\n",
              "    <tr>\n",
              "      <th>3410706</th>\n",
              "      <td>626706</td>\n",
              "      <td>5266</td>\n",
              "      <td>2021-07-15</td>\n",
              "      <td>12168</td>\n",
              "      <td>100.0</td>\n",
              "      <td>1</td>\n",
              "    </tr>\n",
              "    <tr>\n",
              "      <th>3410707</th>\n",
              "      <td>45016</td>\n",
              "      <td>16447</td>\n",
              "      <td>2021-07-15</td>\n",
              "      <td>7949</td>\n",
              "      <td>99.0</td>\n",
              "      <td>1</td>\n",
              "    </tr>\n",
              "    <tr>\n",
              "      <th>3410708</th>\n",
              "      <td>121617</td>\n",
              "      <td>8727</td>\n",
              "      <td>2021-07-15</td>\n",
              "      <td>11</td>\n",
              "      <td>0.0</td>\n",
              "      <td>0</td>\n",
              "    </tr>\n",
              "    <tr>\n",
              "      <th>3410709</th>\n",
              "      <td>952062</td>\n",
              "      <td>6738</td>\n",
              "      <td>2021-07-15</td>\n",
              "      <td>17</td>\n",
              "      <td>0.0</td>\n",
              "      <td>0</td>\n",
              "    </tr>\n",
              "    <tr>\n",
              "      <th>3410710</th>\n",
              "      <td>977188</td>\n",
              "      <td>4774</td>\n",
              "      <td>2021-07-15</td>\n",
              "      <td>7245</td>\n",
              "      <td>92.0</td>\n",
              "      <td>1</td>\n",
              "    </tr>\n",
              "  </tbody>\n",
              "</table>\n",
              "</div>"
            ],
            "text/plain": [
              "         user_id  item_id last_watch_dt  total_dur  watched_pct  target\n",
              "3410706   626706     5266    2021-07-15      12168        100.0       1\n",
              "3410707    45016    16447    2021-07-15       7949         99.0       1\n",
              "3410708   121617     8727    2021-07-15         11          0.0       0\n",
              "3410709   952062     6738    2021-07-15         17          0.0       0\n",
              "3410710   977188     4774    2021-07-15       7245         92.0       1"
            ]
          },
          "execution_count": 15,
          "metadata": {},
          "output_type": "execute_result"
        }
      ],
      "source": [
        "train_stage_1.tail()"
      ]
    },
    {
      "cell_type": "code",
      "execution_count": null,
      "id": "e0d35786",
      "metadata": {
        "execution": {
          "iopub.execute_input": "2025-04-07T00:51:56.642077Z",
          "iopub.status.busy": "2025-04-07T00:51:56.641749Z",
          "iopub.status.idle": "2025-04-07T00:51:56.650433Z",
          "shell.execute_reply": "2025-04-07T00:51:56.649647Z"
        },
        "papermill": {
          "duration": 0.035725,
          "end_time": "2025-04-07T00:51:56.651840",
          "exception": false,
          "start_time": "2025-04-07T00:51:56.616115",
          "status": "completed"
        },
        "tags": [],
        "id": "e0d35786",
        "outputId": "811e6bb8-d050-4947-83ea-f8d1fc7ab929"
      },
      "outputs": [
        {
          "data": {
            "text/html": [
              "<div>\n",
              "<style scoped>\n",
              "    .dataframe tbody tr th:only-of-type {\n",
              "        vertical-align: middle;\n",
              "    }\n",
              "\n",
              "    .dataframe tbody tr th {\n",
              "        vertical-align: top;\n",
              "    }\n",
              "\n",
              "    .dataframe thead th {\n",
              "        text-align: right;\n",
              "    }\n",
              "</style>\n",
              "<table border=\"1\" class=\"dataframe\">\n",
              "  <thead>\n",
              "    <tr style=\"text-align: right;\">\n",
              "      <th></th>\n",
              "      <th>user_id</th>\n",
              "      <th>item_id</th>\n",
              "      <th>last_watch_dt</th>\n",
              "      <th>total_dur</th>\n",
              "      <th>watched_pct</th>\n",
              "      <th>target</th>\n",
              "    </tr>\n",
              "  </thead>\n",
              "  <tbody>\n",
              "    <tr>\n",
              "      <th>3410711</th>\n",
              "      <td>208171</td>\n",
              "      <td>3182</td>\n",
              "      <td>2021-07-16</td>\n",
              "      <td>28798</td>\n",
              "      <td>100.0</td>\n",
              "      <td>1</td>\n",
              "    </tr>\n",
              "    <tr>\n",
              "      <th>3410712</th>\n",
              "      <td>192280</td>\n",
              "      <td>11348</td>\n",
              "      <td>2021-07-16</td>\n",
              "      <td>7804</td>\n",
              "      <td>100.0</td>\n",
              "      <td>1</td>\n",
              "    </tr>\n",
              "    <tr>\n",
              "      <th>3410713</th>\n",
              "      <td>808491</td>\n",
              "      <td>10240</td>\n",
              "      <td>2021-07-16</td>\n",
              "      <td>161</td>\n",
              "      <td>3.0</td>\n",
              "      <td>0</td>\n",
              "    </tr>\n",
              "    <tr>\n",
              "      <th>3410714</th>\n",
              "      <td>702862</td>\n",
              "      <td>144</td>\n",
              "      <td>2021-07-16</td>\n",
              "      <td>1578</td>\n",
              "      <td>21.0</td>\n",
              "      <td>0</td>\n",
              "    </tr>\n",
              "    <tr>\n",
              "      <th>3410715</th>\n",
              "      <td>880491</td>\n",
              "      <td>16228</td>\n",
              "      <td>2021-07-16</td>\n",
              "      <td>67937</td>\n",
              "      <td>36.0</td>\n",
              "      <td>0</td>\n",
              "    </tr>\n",
              "  </tbody>\n",
              "</table>\n",
              "</div>"
            ],
            "text/plain": [
              "         user_id  item_id last_watch_dt  total_dur  watched_pct  target\n",
              "3410711   208171     3182    2021-07-16      28798        100.0       1\n",
              "3410712   192280    11348    2021-07-16       7804        100.0       1\n",
              "3410713   808491    10240    2021-07-16        161          3.0       0\n",
              "3410714   702862      144    2021-07-16       1578         21.0       0\n",
              "3410715   880491    16228    2021-07-16      67937         36.0       0"
            ]
          },
          "execution_count": 16,
          "metadata": {},
          "output_type": "execute_result"
        }
      ],
      "source": [
        "valid_stage_1.head()"
      ]
    },
    {
      "cell_type": "code",
      "execution_count": null,
      "id": "92944a24",
      "metadata": {
        "execution": {
          "iopub.execute_input": "2025-04-07T00:51:56.703607Z",
          "iopub.status.busy": "2025-04-07T00:51:56.703246Z",
          "iopub.status.idle": "2025-04-07T00:51:56.708242Z",
          "shell.execute_reply": "2025-04-07T00:51:56.707583Z"
        },
        "id": "92944a24",
        "outputId": "eb8b9795-d203-45ca-d1e7-1ca239d83eb0",
        "papermill": {
          "duration": 0.032302,
          "end_time": "2025-04-07T00:51:56.709555",
          "exception": false,
          "start_time": "2025-04-07T00:51:56.677253",
          "status": "completed"
        },
        "tags": []
      },
      "outputs": [
        {
          "data": {
            "text/plain": [
              "((3410711, 6), (1456245, 6))"
            ]
          },
          "execution_count": 17,
          "metadata": {},
          "output_type": "execute_result"
        }
      ],
      "source": [
        "train_stage_1.shape, valid_stage_1.shape"
      ]
    },
    {
      "cell_type": "code",
      "execution_count": null,
      "id": "91bc73ca",
      "metadata": {
        "execution": {
          "iopub.execute_input": "2025-04-07T00:51:56.761859Z",
          "iopub.status.busy": "2025-04-07T00:51:56.761536Z",
          "iopub.status.idle": "2025-04-07T00:51:56.766091Z",
          "shell.execute_reply": "2025-04-07T00:51:56.765391Z"
        },
        "id": "91bc73ca",
        "papermill": {
          "duration": 0.032162,
          "end_time": "2025-04-07T00:51:56.767312",
          "exception": false,
          "start_time": "2025-04-07T00:51:56.735150",
          "status": "completed"
        },
        "tags": []
      },
      "outputs": [],
      "source": [
        "class MyHeuristicModel:\n",
        "    def fit(self, df):\n",
        "        self.popular_items = df[df['target'] == 1]['item_id'].value_counts().index.tolist()\n",
        "\n",
        "    def recommend(self, user_ids, k=10):\n",
        "        return {user_id: self.popular_items[:k] for user_id in user_ids}\n",
        "\n",
        "    def predict_score(self, user_id, item_id):\n",
        "        return 1 if item_id in self.popular_items[:100] else 0"
      ]
    },
    {
      "cell_type": "code",
      "execution_count": null,
      "id": "8e7b8a51",
      "metadata": {
        "execution": {
          "iopub.execute_input": "2025-04-07T00:51:56.819104Z",
          "iopub.status.busy": "2025-04-07T00:51:56.818779Z",
          "iopub.status.idle": "2025-04-07T00:51:56.904950Z",
          "shell.execute_reply": "2025-04-07T00:51:56.903668Z"
        },
        "id": "8e7b8a51",
        "papermill": {
          "duration": 0.113885,
          "end_time": "2025-04-07T00:51:56.906840",
          "exception": false,
          "start_time": "2025-04-07T00:51:56.792955",
          "status": "completed"
        },
        "tags": []
      },
      "outputs": [],
      "source": [
        "top_pop = MyHeuristicModel()\n",
        "top_pop.fit(train_stage_1)"
      ]
    },
    {
      "cell_type": "code",
      "execution_count": null,
      "id": "823e4d97",
      "metadata": {
        "execution": {
          "iopub.execute_input": "2025-04-07T00:51:56.959380Z",
          "iopub.status.busy": "2025-04-07T00:51:56.959056Z",
          "iopub.status.idle": "2025-04-07T00:52:01.014790Z",
          "shell.execute_reply": "2025-04-07T00:52:01.013653Z"
        },
        "id": "823e4d97",
        "papermill": {
          "duration": 4.083641,
          "end_time": "2025-04-07T00:52:01.016260",
          "exception": false,
          "start_time": "2025-04-07T00:51:56.932619",
          "status": "completed"
        },
        "tags": [],
        "outputId": "cfd2f710-55d4-4da0-ba95-e871352a9129"
      },
      "outputs": [
        {
          "name": "stdout",
          "output_type": "stream",
          "text": [
            "\u001b[2K   \u001b[90m━━━━━━━━━━━━━━━━━━━━━━━━━━━━━━━━━━━━━━━━\u001b[0m \u001b[32m8.9/8.9 MB\u001b[0m \u001b[31m75.6 MB/s\u001b[0m eta \u001b[36m0:00:00\u001b[0m\r\n",
            "\u001b[?25hNote: you may need to restart the kernel to use updated packages.\n"
          ]
        }
      ],
      "source": [
        "%pip install implicit -q"
      ]
    },
    {
      "cell_type": "code",
      "execution_count": null,
      "id": "f9342595",
      "metadata": {
        "execution": {
          "iopub.execute_input": "2025-04-07T00:52:01.069619Z",
          "iopub.status.busy": "2025-04-07T00:52:01.069250Z",
          "iopub.status.idle": "2025-04-07T00:52:01.560226Z",
          "shell.execute_reply": "2025-04-07T00:52:01.559521Z"
        },
        "id": "f9342595",
        "papermill": {
          "duration": 0.519878,
          "end_time": "2025-04-07T00:52:01.561936",
          "exception": false,
          "start_time": "2025-04-07T00:52:01.042058",
          "status": "completed"
        },
        "tags": []
      },
      "outputs": [],
      "source": [
        "import scipy.sparse as sparse\n",
        "from implicit.als import AlternatingLeastSquares"
      ]
    },
    {
      "cell_type": "code",
      "execution_count": null,
      "id": "64857c0c",
      "metadata": {
        "execution": {
          "iopub.execute_input": "2025-04-07T00:52:01.616376Z",
          "iopub.status.busy": "2025-04-07T00:52:01.615832Z",
          "iopub.status.idle": "2025-04-07T00:52:01.623697Z",
          "shell.execute_reply": "2025-04-07T00:52:01.622811Z"
        },
        "id": "64857c0c",
        "papermill": {
          "duration": 0.036152,
          "end_time": "2025-04-07T00:52:01.624948",
          "exception": false,
          "start_time": "2025-04-07T00:52:01.588796",
          "status": "completed"
        },
        "tags": []
      },
      "outputs": [],
      "source": [
        "class MyMatrixFactorization:\n",
        "    def __init__(self, factors=50):\n",
        "        self.model = AlternatingLeastSquares(factors=factors, iterations=10)\n",
        "\n",
        "    def fit(self, df):\n",
        "        self.user_ids = df['user_id'].unique()\n",
        "        self.item_ids = df['item_id'].unique()\n",
        "        self.user_map = {u: i for i, u in enumerate(self.user_ids)}\n",
        "        self.item_map = {i: j for j, i in enumerate(self.item_ids)}\n",
        "        self.user_inv = {i: u for u, i in self.user_map.items()}\n",
        "        self.item_inv = {j: i for i, j in self.item_map.items()}\n",
        "\n",
        "        rows = df['user_id'].map(self.user_map)\n",
        "        cols = df['item_id'].map(self.item_map)\n",
        "        data = df['target']\n",
        "\n",
        "        self.matrix = sparse.csr_matrix((data, (rows, cols)))\n",
        "        self.model.fit(self.matrix)\n",
        "\n",
        "    def recommend(self, user_ids, k=10):\n",
        "        recs = {}\n",
        "        for user_id in user_ids:\n",
        "            if user_id in self.user_map:\n",
        "                rec = self.model.recommend(self.user_map[user_id], self.matrix, N=k)\n",
        "                recs[user_id] = [self.item_inv[i] for i, _ in rec]\n",
        "            else:\n",
        "                recs[user_id] = []\n",
        "        return recs\n",
        "\n",
        "    def predict_score(self, user_id, item_id):\n",
        "        if user_id not in self.user_map or item_id not in self.item_map:\n",
        "            return 0\n",
        "        u, i = self.user_map[user_id], self.item_map[item_id]\n",
        "        return self.model.user_factors[u] @ self.model.item_factors[i]"
      ]
    },
    {
      "cell_type": "code",
      "execution_count": null,
      "id": "f097d4c7",
      "metadata": {
        "execution": {
          "iopub.execute_input": "2025-04-07T00:52:01.700320Z",
          "iopub.status.busy": "2025-04-07T00:52:01.700023Z",
          "iopub.status.idle": "2025-04-07T00:52:19.104278Z",
          "shell.execute_reply": "2025-04-07T00:52:19.103543Z"
        },
        "id": "f097d4c7",
        "outputId": "96b2bead-b3db-447c-db27-8e87e73c2af9",
        "papermill": {
          "duration": 17.450219,
          "end_time": "2025-04-07T00:52:19.106081",
          "exception": false,
          "start_time": "2025-04-07T00:52:01.655862",
          "status": "completed"
        },
        "tags": [],
        "colab": {
          "referenced_widgets": [
            "256ef14d039c4041a71a0fb84b219964"
          ]
        }
      },
      "outputs": [
        {
          "name": "stderr",
          "output_type": "stream",
          "text": [
            "/usr/local/lib/python3.10/dist-packages/implicit/cpu/als.py:95: RuntimeWarning: Intel MKL BLAS is configured to use 2 threads. It is highly recommended to disable its internal threadpool by setting the environment variable 'MKL_NUM_THREADS=1' or by callng 'threadpoolctl.threadpool_limits(1, \"blas\")'. Having MKL use a threadpool can lead to severe performance issues\n",
            "  check_blas_config()\n",
            "/usr/local/lib/python3.10/dist-packages/implicit/cpu/als.py:95: RuntimeWarning: OpenBLAS is configured to use 4 threads. It is highly recommended to disable its internal threadpool by setting the environment variable 'OPENBLAS_NUM_THREADS=1' or by calling 'threadpoolctl.threadpool_limits(1, \"blas\")'. Having OpenBLAS use a threadpool can lead to severe performance issues here.\n",
            "  check_blas_config()\n"
          ]
        },
        {
          "data": {
            "application/vnd.jupyter.widget-view+json": {
              "model_id": "256ef14d039c4041a71a0fb84b219964",
              "version_major": 2,
              "version_minor": 0
            },
            "text/plain": [
              "  0%|          | 0/10 [00:00<?, ?it/s]"
            ]
          },
          "metadata": {},
          "output_type": "display_data"
        }
      ],
      "source": [
        "als = MyMatrixFactorization()\n",
        "als.fit(train_stage_1)"
      ]
    },
    {
      "cell_type": "code",
      "execution_count": null,
      "id": "e35c2613",
      "metadata": {
        "execution": {
          "iopub.execute_input": "2025-04-07T00:52:19.159553Z",
          "iopub.status.busy": "2025-04-07T00:52:19.159209Z",
          "iopub.status.idle": "2025-04-07T00:52:23.970650Z",
          "shell.execute_reply": "2025-04-07T00:52:23.969200Z"
        },
        "papermill": {
          "duration": 4.840059,
          "end_time": "2025-04-07T00:52:23.972580",
          "exception": false,
          "start_time": "2025-04-07T00:52:19.132521",
          "status": "completed"
        },
        "tags": [],
        "id": "e35c2613",
        "outputId": "6680287d-48d9-4ac3-e141-47ef26014d5e"
      },
      "outputs": [
        {
          "name": "stdout",
          "output_type": "stream",
          "text": [
            "\u001b[2K   \u001b[90m━━━━━━━━━━━━━━━━━━━━━━━━━━━━━━━━━━━━━━━━\u001b[0m \u001b[32m2.1/2.1 MB\u001b[0m \u001b[31m9.1 MB/s\u001b[0m eta \u001b[36m0:00:00\u001b[0m\r\n",
            "\u001b[?25h\u001b[31mERROR: pip's dependency resolver does not currently take into account all the packages that are installed. This behaviour is the source of the following dependency conflicts.\r\n",
            "bayesian-optimization 2.0.3 requires colorama<0.5.0,>=0.4.6, but you have colorama 0.4.4 which is incompatible.\u001b[0m\u001b[31m\r\n",
            "\u001b[0mNote: you may need to restart the kernel to use updated packages.\n"
          ]
        }
      ],
      "source": [
        "%pip install recbole==1.1.1 -q"
      ]
    },
    {
      "cell_type": "code",
      "execution_count": null,
      "id": "71f65858",
      "metadata": {
        "execution": {
          "iopub.execute_input": "2025-04-07T00:52:24.035826Z",
          "iopub.status.busy": "2025-04-07T00:52:24.035408Z",
          "iopub.status.idle": "2025-04-07T00:52:24.044051Z",
          "shell.execute_reply": "2025-04-07T00:52:24.043104Z"
        },
        "papermill": {
          "duration": 0.043006,
          "end_time": "2025-04-07T00:52:24.045402",
          "exception": false,
          "start_time": "2025-04-07T00:52:24.002396",
          "status": "completed"
        },
        "tags": [],
        "id": "71f65858",
        "outputId": "883e686a-0b91-41da-d2c5-100ff61b2a71"
      },
      "outputs": [
        {
          "name": "stdout",
          "output_type": "stream",
          "text": [
            "1.1.1\n"
          ]
        }
      ],
      "source": [
        "import recbole\n",
        "print(recbole.__version__)"
      ]
    },
    {
      "cell_type": "code",
      "execution_count": null,
      "id": "548edd7a",
      "metadata": {
        "execution": {
          "iopub.execute_input": "2025-04-07T00:52:24.103844Z",
          "iopub.status.busy": "2025-04-07T00:52:24.103499Z",
          "iopub.status.idle": "2025-04-07T00:52:24.115374Z",
          "shell.execute_reply": "2025-04-07T00:52:24.114562Z"
        },
        "papermill": {
          "duration": 0.04171,
          "end_time": "2025-04-07T00:52:24.116819",
          "exception": false,
          "start_time": "2025-04-07T00:52:24.075109",
          "status": "completed"
        },
        "tags": [],
        "id": "548edd7a",
        "outputId": "42af62a3-aa48-40b0-c57c-965ca1bb15c7"
      },
      "outputs": [
        {
          "data": {
            "text/html": [
              "<div>\n",
              "<style scoped>\n",
              "    .dataframe tbody tr th:only-of-type {\n",
              "        vertical-align: middle;\n",
              "    }\n",
              "\n",
              "    .dataframe tbody tr th {\n",
              "        vertical-align: top;\n",
              "    }\n",
              "\n",
              "    .dataframe thead th {\n",
              "        text-align: right;\n",
              "    }\n",
              "</style>\n",
              "<table border=\"1\" class=\"dataframe\">\n",
              "  <thead>\n",
              "    <tr style=\"text-align: right;\">\n",
              "      <th></th>\n",
              "      <th>user_id</th>\n",
              "      <th>item_id</th>\n",
              "      <th>last_watch_dt</th>\n",
              "      <th>total_dur</th>\n",
              "      <th>watched_pct</th>\n",
              "      <th>target</th>\n",
              "    </tr>\n",
              "  </thead>\n",
              "  <tbody>\n",
              "    <tr>\n",
              "      <th>0</th>\n",
              "      <td>310745</td>\n",
              "      <td>13373</td>\n",
              "      <td>2021-03-13</td>\n",
              "      <td>4485</td>\n",
              "      <td>98.0</td>\n",
              "      <td>1</td>\n",
              "    </tr>\n",
              "    <tr>\n",
              "      <th>1</th>\n",
              "      <td>952323</td>\n",
              "      <td>15997</td>\n",
              "      <td>2021-03-13</td>\n",
              "      <td>7507</td>\n",
              "      <td>100.0</td>\n",
              "      <td>1</td>\n",
              "    </tr>\n",
              "  </tbody>\n",
              "</table>\n",
              "</div>"
            ],
            "text/plain": [
              "   user_id  item_id last_watch_dt  total_dur  watched_pct  target\n",
              "0   310745    13373    2021-03-13       4485         98.0       1\n",
              "1   952323    15997    2021-03-13       7507        100.0       1"
            ]
          },
          "execution_count": 26,
          "metadata": {},
          "output_type": "execute_result"
        }
      ],
      "source": [
        "train_stage_1.head(2)"
      ]
    },
    {
      "cell_type": "code",
      "execution_count": null,
      "id": "035a3b7b",
      "metadata": {
        "execution": {
          "iopub.execute_input": "2025-04-07T00:52:24.172459Z",
          "iopub.status.busy": "2025-04-07T00:52:24.172155Z",
          "iopub.status.idle": "2025-04-07T00:52:27.921279Z",
          "shell.execute_reply": "2025-04-07T00:52:27.920607Z"
        },
        "id": "035a3b7b",
        "papermill": {
          "duration": 3.778762,
          "end_time": "2025-04-07T00:52:27.922889",
          "exception": false,
          "start_time": "2025-04-07T00:52:24.144127",
          "status": "completed"
        },
        "tags": []
      },
      "outputs": [],
      "source": [
        "import os\n",
        "os.makedirs('data/gru4rec/train_stage_1', exist_ok=True)\n",
        "df_inter = train_stage_1[['user_id', 'item_id', 'last_watch_dt']].copy()\n",
        "df_inter['timestamp'] = pd.to_datetime(df_inter['last_watch_dt']).astype(int) // 10**9\n",
        "df_inter = df_inter[['user_id', 'item_id', 'timestamp']]\n",
        "df_inter.columns = ['user_id:token', 'item_id:token', 'timestamp:float']\n",
        "\n",
        "df_inter.to_csv('data/gru4rec/train_stage_1/train_stage_1.inter', sep='\\t', index=False)"
      ]
    },
    {
      "cell_type": "code",
      "execution_count": null,
      "id": "f5754843",
      "metadata": {
        "execution": {
          "iopub.execute_input": "2025-04-07T00:52:27.976490Z",
          "iopub.status.busy": "2025-04-07T00:52:27.976164Z",
          "iopub.status.idle": "2025-04-07T00:52:54.222280Z",
          "shell.execute_reply": "2025-04-07T00:52:54.221081Z"
        },
        "id": "f5754843",
        "outputId": "8ab05353-1270-4316-e01c-ea062d69b86c",
        "papermill": {
          "duration": 26.274558,
          "end_time": "2025-04-07T00:52:54.223996",
          "exception": false,
          "start_time": "2025-04-07T00:52:27.949438",
          "status": "completed"
        },
        "tags": []
      },
      "outputs": [
        {
          "name": "stdout",
          "output_type": "stream",
          "text": [
            "Found existing installation: tensorflow 2.17.1\r\n",
            "Uninstalling tensorflow-2.17.1:\r\n",
            "  Successfully uninstalled tensorflow-2.17.1\r\n",
            "Found existing installation: keras 3.5.0\r\n",
            "Uninstalling keras-3.5.0:\r\n",
            "  Successfully uninstalled keras-3.5.0\r\n",
            "Note: you may need to restart the kernel to use updated packages.\n"
          ]
        }
      ],
      "source": [
        "%pip uninstall -y tensorflow keras"
      ]
    },
    {
      "cell_type": "code",
      "execution_count": null,
      "id": "d7e61e6b",
      "metadata": {
        "execution": {
          "iopub.execute_input": "2025-04-07T00:52:54.288421Z",
          "iopub.status.busy": "2025-04-07T00:52:54.288081Z",
          "iopub.status.idle": "2025-04-07T00:52:57.792680Z",
          "shell.execute_reply": "2025-04-07T00:52:57.791917Z"
        },
        "id": "d7e61e6b",
        "papermill": {
          "duration": 3.534446,
          "end_time": "2025-04-07T00:52:57.794215",
          "exception": false,
          "start_time": "2025-04-07T00:52:54.259769",
          "status": "completed"
        },
        "tags": []
      },
      "outputs": [],
      "source": [
        "import gc\n",
        "import torch\n",
        "\n",
        "gc.collect()\n",
        "\n",
        "if torch.cuda.is_available():\n",
        "    torch.cuda.empty_cache()\n",
        "    torch.cuda.ipc_collect()"
      ]
    },
    {
      "cell_type": "markdown",
      "id": "823a1ad5",
      "metadata": {
        "papermill": {
          "duration": 0.026314,
          "end_time": "2025-04-07T00:52:57.847567",
          "exception": false,
          "start_time": "2025-04-07T00:52:57.821253",
          "status": "completed"
        },
        "tags": [],
        "id": "823a1ad5"
      },
      "source": [
        "Далее пойдут оптимальные параметры для gru4rec, чтобы загрузить видеокарту на 90% и 8gb из 16-ти. Я их подбирал очень долго =)"
      ]
    },
    {
      "cell_type": "code",
      "execution_count": null,
      "id": "5dddf8d2",
      "metadata": {
        "execution": {
          "iopub.execute_input": "2025-04-07T00:52:57.902217Z",
          "iopub.status.busy": "2025-04-07T00:52:57.901684Z",
          "iopub.status.idle": "2025-04-07T00:52:59.265365Z",
          "shell.execute_reply": "2025-04-07T00:52:59.264669Z"
        },
        "id": "5dddf8d2",
        "papermill": {
          "duration": 1.392929,
          "end_time": "2025-04-07T00:52:59.267144",
          "exception": false,
          "start_time": "2025-04-07T00:52:57.874215",
          "status": "completed"
        },
        "tags": []
      },
      "outputs": [],
      "source": [
        "from recbole.config import Config\n",
        "from recbole.data import create_dataset, data_preparation\n",
        "from recbole.model.sequential_recommender import GRU4Rec\n",
        "from recbole.trainer import Trainer\n",
        "from recbole.utils import init_seed, init_logger\n",
        "import os\n",
        "\n",
        "cpu = os.cpu_count()\n",
        "\n",
        "config = Config(\n",
        "    model='GRU4Rec',\n",
        "    dataset='train_stage_1',\n",
        "    config_dict={\n",
        "\n",
        "        'data_path': 'data/gru4rec',\n",
        "        'field_separator': '\\t',\n",
        "        'USER_ID_FIELD': 'user_id',\n",
        "        'ITEM_ID_FIELD': 'item_id',\n",
        "        'TIME_FIELD': 'timestamp',\n",
        "        'load_col': {'inter': ['user_id', 'item_id', 'timestamp']},\n",
        "\n",
        "        'MODEL_INPUT_TYPE': 'sequence',\n",
        "        'MAX_ITEM_LIST_LENGTH': 50,\n",
        "\n",
        "        'eval_args': {\n",
        "            'split': {'RS': [0.8, 0.1, 0.1]},\n",
        "            'order': 'TO',\n",
        "            'mode': 'full',\n",
        "            'group_by': 'user',\n",
        "            'order_by': 'timestamp'\n",
        "        },\n",
        "        'metrics': ['Recall', 'NDCG'],\n",
        "        'topk': [10],\n",
        "        'valid_metric': 'Recall@10',\n",
        "        'eval_batch_size': 8192,\n",
        "\n",
        "        'train_epochs': 5,\n",
        "        'train_batch_size': 4096,\n",
        "        'loss_type': 'CE',\n",
        "        'train_neg_sample_args': None,\n",
        "\n",
        "        'device': 'cuda' if torch.cuda.is_available() else 'cpu',\n",
        "        'train_num_workers': max(1, cpu // 2),\n",
        "        'eval_num_workers': 1,\n",
        "        'pin_memory': True,\n",
        "        'prefetch': 4,\n",
        "\n",
        "        'eval_step': 1,\n",
        "        'stopping_step': 2,\n",
        "\n",
        "        'show_progress': False\n",
        "    }\n",
        ")"
      ]
    },
    {
      "cell_type": "code",
      "execution_count": null,
      "id": "dd32cfce",
      "metadata": {
        "execution": {
          "iopub.execute_input": "2025-04-07T00:52:59.322244Z",
          "iopub.status.busy": "2025-04-07T00:52:59.321717Z",
          "iopub.status.idle": "2025-04-07T00:54:22.336025Z",
          "shell.execute_reply": "2025-04-07T00:54:22.335025Z"
        },
        "id": "dd32cfce",
        "outputId": "e77c953c-7603-4729-83ac-e2a1b7a5eddb",
        "papermill": {
          "duration": 83.043214,
          "end_time": "2025-04-07T00:54:22.337759",
          "exception": false,
          "start_time": "2025-04-07T00:52:59.294545",
          "status": "completed"
        },
        "tags": []
      },
      "outputs": [
        {
          "name": "stderr",
          "output_type": "stream",
          "text": [
            "/usr/local/lib/python3.10/dist-packages/recbole/data/dataset/dataset.py:638: FutureWarning: A value is trying to be set on a copy of a DataFrame or Series through chained assignment using an inplace method.\n",
            "The behavior will change in pandas 3.0. This inplace method will never work because the intermediate object on which we are setting values always behaves as a copy.\n",
            "\n",
            "For example, when doing 'df[col].method(value, inplace=True)', try using 'df.method({col: value}, inplace=True)' or df[col] = df[col].method(value) instead, to perform the operation inplace on the original object.\n",
            "\n",
            "\n",
            "  feat[field].fillna(value=0, inplace=True)\n",
            "/usr/local/lib/python3.10/dist-packages/recbole/data/dataset/dataset.py:640: FutureWarning: A value is trying to be set on a copy of a DataFrame or Series through chained assignment using an inplace method.\n",
            "The behavior will change in pandas 3.0. This inplace method will never work because the intermediate object on which we are setting values always behaves as a copy.\n",
            "\n",
            "For example, when doing 'df[col].method(value, inplace=True)', try using 'df.method({col: value}, inplace=True)' or df[col] = df[col].method(value) instead, to perform the operation inplace on the original object.\n",
            "\n",
            "\n",
            "  feat[field].fillna(value=feat[field].mean(), inplace=True)\n"
          ]
        }
      ],
      "source": [
        "init_seed(config['seed'], config['reproducibility'])\n",
        "init_logger(config)\n",
        "\n",
        "dataset = create_dataset(config)\n",
        "train_data, valid_data, test_data = data_preparation(config, dataset)"
      ]
    },
    {
      "cell_type": "markdown",
      "id": "3e2e2d1b",
      "metadata": {
        "papermill": {
          "duration": 0.026439,
          "end_time": "2025-04-07T00:54:22.392310",
          "exception": false,
          "start_time": "2025-04-07T00:54:22.365871",
          "status": "completed"
        },
        "tags": [],
        "id": "3e2e2d1b"
      },
      "source": [
        "Старый recbol 1.1.1 ругается на np.float, заменим"
      ]
    },
    {
      "cell_type": "code",
      "execution_count": null,
      "id": "1f77586a",
      "metadata": {
        "execution": {
          "iopub.execute_input": "2025-04-07T00:54:22.447099Z",
          "iopub.status.busy": "2025-04-07T00:54:22.446745Z",
          "iopub.status.idle": "2025-04-07T00:54:22.450515Z",
          "shell.execute_reply": "2025-04-07T00:54:22.449627Z"
        },
        "id": "1f77586a",
        "papermill": {
          "duration": 0.0331,
          "end_time": "2025-04-07T00:54:22.452094",
          "exception": false,
          "start_time": "2025-04-07T00:54:22.418994",
          "status": "completed"
        },
        "tags": []
      },
      "outputs": [],
      "source": [
        "np.float = float"
      ]
    },
    {
      "cell_type": "code",
      "execution_count": null,
      "id": "ea29160c",
      "metadata": {
        "execution": {
          "iopub.execute_input": "2025-04-07T00:54:22.506914Z",
          "iopub.status.busy": "2025-04-07T00:54:22.506572Z",
          "iopub.status.idle": "2025-04-07T01:11:45.977832Z",
          "shell.execute_reply": "2025-04-07T01:11:45.976874Z"
        },
        "papermill": {
          "duration": 1043.528548,
          "end_time": "2025-04-07T01:11:46.007696",
          "exception": false,
          "start_time": "2025-04-07T00:54:22.479148",
          "status": "completed"
        },
        "tags": [],
        "id": "ea29160c",
        "outputId": "30bcc327-9f2d-4120-958a-573c97a4b656"
      },
      "outputs": [
        {
          "name": "stderr",
          "output_type": "stream",
          "text": [
            "/usr/local/lib/python3.10/dist-packages/recbole/trainer/trainer.py:236: FutureWarning: `torch.cuda.amp.GradScaler(args...)` is deprecated. Please use `torch.amp.GradScaler('cuda', args...)` instead.\n",
            "  scaler = amp.GradScaler(enabled=self.enable_scaler)\n"
          ]
        },
        {
          "name": "stdout",
          "output_type": "stream",
          "text": [
            "CPU times: user 20min 59s, sys: 21.6 s, total: 21min 21s\n",
            "Wall time: 17min 23s\n"
          ]
        }
      ],
      "source": [
        "%%time\n",
        "\n",
        "model = GRU4Rec(config, train_data.dataset).to(config['device'])\n",
        "trainer = Trainer(config, model)\n",
        "\n",
        "best_valid_score, best_valid_result = trainer.fit(\n",
        "    train_data, valid_data, verbose=False, show_progress=False\n",
        ")"
      ]
    },
    {
      "cell_type": "code",
      "execution_count": null,
      "id": "06ad69c9",
      "metadata": {
        "execution": {
          "iopub.execute_input": "2025-04-07T01:11:46.063073Z",
          "iopub.status.busy": "2025-04-07T01:11:46.062414Z",
          "iopub.status.idle": "2025-04-07T01:11:46.073099Z",
          "shell.execute_reply": "2025-04-07T01:11:46.072220Z"
        },
        "papermill": {
          "duration": 0.039832,
          "end_time": "2025-04-07T01:11:46.074480",
          "exception": false,
          "start_time": "2025-04-07T01:11:46.034648",
          "status": "completed"
        },
        "tags": [],
        "id": "06ad69c9"
      },
      "outputs": [],
      "source": [
        "class ALSWrapper:\n",
        "    def __init__(self, model, user_id_map, item_id_map):\n",
        "        self.model = model\n",
        "        self.user_id_map = user_id_map\n",
        "        self.item_id_map = item_id_map\n",
        "        self.user_factors = model.user_factors\n",
        "        self.item_factors = model.item_factors\n",
        "\n",
        "    def predict_score(self, user_id, item_id):\n",
        "        uid = self.user_id_map.get(user_id)\n",
        "        iid = self.item_id_map.get(item_id)\n",
        "        if uid is None or iid is None:\n",
        "            return 0.0\n",
        "        return float(np.dot(self.user_factors[uid], self.item_factors[iid]))\n",
        "\n",
        "    def get_top_k(self, user_id, k=10):\n",
        "        uid = self.user_id_map.get(user_id)\n",
        "        if uid is None:\n",
        "            return []\n",
        "        user_vector = self.user_factors[uid]\n",
        "        scores = self.item_factors @ user_vector\n",
        "        top_k = np.argsort(-scores)[:k]\n",
        "        inv_item_map = {v: k for k, v in self.item_id_map.items()}\n",
        "        return [inv_item_map[i] for i in top_k]\n",
        "\n",
        "class GRU4RecWrapper:\n",
        "    def __init__(self, model, dataset, config):\n",
        "        self.model = model\n",
        "        self.dataset = dataset\n",
        "        self.config = config\n",
        "        self.item_num = dataset.item_num\n",
        "\n",
        "    def predict_score(self, user_history, item_id):\n",
        "        if not user_history:\n",
        "            return 0.0\n",
        "        user_history = user_history[-self.config['MAX_ITEM_LIST_LENGTH']:]\n",
        "        input_data = torch.tensor([user_history], dtype=torch.long).to(self.config['device'])\n",
        "        length_tensor = torch.tensor([len(user_history)], dtype=torch.long).to(self.config['device'])\n",
        "        output = self.model(input_data, length_tensor)\n",
        "        return float(output[0][item_id]) if 0 <= item_id < self.item_num else 0.0\n",
        "\n",
        "    def get_top_k(self, user_history, k=10):\n",
        "        if not user_history:\n",
        "            return []\n",
        "        user_history = user_history[-self.config['MAX_ITEM_LIST_LENGTH']:]\n",
        "        input_data = torch.tensor([user_history], dtype=torch.long).to(self.config['device'])\n",
        "        length_tensor = torch.tensor([len(user_history)], dtype=torch.long).to(self.config['device'])\n",
        "        output = self.model(input_data, length_tensor)\n",
        "        top_k = torch.topk(output[0], k=k).indices.cpu().numpy()\n",
        "        return top_k.tolist()\n",
        "\n",
        "class TopKHeuristic:\n",
        "    def __init__(self, top_items):\n",
        "        self.top_items = top_items\n",
        "\n",
        "    def predict_score(self, user_id, item_id):\n",
        "        return 1.0 if item_id in self.top_items else 0.0\n",
        "\n",
        "    def get_top_k(self, user_id, k=10):\n",
        "        return self.top_items[:k]"
      ]
    },
    {
      "cell_type": "code",
      "execution_count": null,
      "id": "a21e720c",
      "metadata": {
        "execution": {
          "iopub.execute_input": "2025-04-07T01:11:46.128920Z",
          "iopub.status.busy": "2025-04-07T01:11:46.128610Z",
          "iopub.status.idle": "2025-04-07T01:11:46.132186Z",
          "shell.execute_reply": "2025-04-07T01:11:46.131512Z"
        },
        "papermill": {
          "duration": 0.031873,
          "end_time": "2025-04-07T01:11:46.133364",
          "exception": false,
          "start_time": "2025-04-07T01:11:46.101491",
          "status": "completed"
        },
        "tags": [],
        "id": "a21e720c"
      },
      "outputs": [],
      "source": [
        "top_wrapper = TopKHeuristic(top_pop.popular_items)\n",
        "als_wrapper = ALSWrapper(als.model, als.user_map, als.item_map)"
      ]
    },
    {
      "cell_type": "code",
      "execution_count": null,
      "id": "049fca24",
      "metadata": {
        "execution": {
          "iopub.execute_input": "2025-04-07T01:11:46.187529Z",
          "iopub.status.busy": "2025-04-07T01:11:46.187188Z",
          "iopub.status.idle": "2025-04-07T01:11:46.192083Z",
          "shell.execute_reply": "2025-04-07T01:11:46.191334Z"
        },
        "papermill": {
          "duration": 0.033653,
          "end_time": "2025-04-07T01:11:46.193299",
          "exception": false,
          "start_time": "2025-04-07T01:11:46.159646",
          "status": "completed"
        },
        "tags": [],
        "id": "049fca24",
        "outputId": "20db0f0d-f938-4c17-d4ba-18f59747d033"
      },
      "outputs": [
        {
          "data": {
            "text/plain": [
              "GRU4Rec(\n",
              "  (item_embedding): Embedding(14777, 64, padding_idx=0)\n",
              "  (emb_dropout): Dropout(p=0.3, inplace=False)\n",
              "  (gru_layers): GRU(64, 128, bias=False, batch_first=True)\n",
              "  (dense): Linear(in_features=128, out_features=64, bias=True)\n",
              "  (loss_fct): CrossEntropyLoss()\n",
              ")"
            ]
          },
          "execution_count": 36,
          "metadata": {},
          "output_type": "execute_result"
        }
      ],
      "source": [
        "model"
      ]
    },
    {
      "cell_type": "code",
      "execution_count": null,
      "id": "92b4a064",
      "metadata": {
        "execution": {
          "iopub.execute_input": "2025-04-07T01:11:46.247996Z",
          "iopub.status.busy": "2025-04-07T01:11:46.247698Z",
          "iopub.status.idle": "2025-04-07T01:11:47.225432Z",
          "shell.execute_reply": "2025-04-07T01:11:47.224404Z"
        },
        "papermill": {
          "duration": 1.006859,
          "end_time": "2025-04-07T01:11:47.227060",
          "exception": false,
          "start_time": "2025-04-07T01:11:46.220201",
          "status": "completed"
        },
        "tags": [],
        "id": "92b4a064",
        "outputId": "1f0616b5-3b81-495b-f3f0-ac2c7a1cf0d5"
      },
      "outputs": [
        {
          "data": {
            "text/plain": [
              "\u001b[1;35mtrain_stage_1\u001b[0m\n",
              "\u001b[1;34mThe number of users\u001b[0m: 672564\n",
              "\u001b[1;34mAverage actions of users\u001b[0m: 6.606862271981469\n",
              "\u001b[1;34mThe number of items\u001b[0m: 14777\n",
              "\u001b[1;34mAverage actions of items\u001b[0m: 188.6036644165863\n",
              "\u001b[1;34mThe number of inters\u001b[0m: 2738148\n",
              "\u001b[1;34mThe sparsity of the dataset\u001b[0m: 99.97244902149822%\n",
              "\u001b[1;34mRemain Fields\u001b[0m: ['user_id', 'item_id', 'timestamp', 'item_id_list', 'timestamp_list', 'item_length']"
            ]
          },
          "execution_count": 37,
          "metadata": {},
          "output_type": "execute_result"
        }
      ],
      "source": [
        "dataset"
      ]
    },
    {
      "cell_type": "code",
      "execution_count": null,
      "id": "2ce46313",
      "metadata": {
        "execution": {
          "iopub.execute_input": "2025-04-07T01:11:47.286625Z",
          "iopub.status.busy": "2025-04-07T01:11:47.286277Z",
          "iopub.status.idle": "2025-04-07T01:11:47.292456Z",
          "shell.execute_reply": "2025-04-07T01:11:47.291555Z"
        },
        "papermill": {
          "duration": 0.038303,
          "end_time": "2025-04-07T01:11:47.293860",
          "exception": false,
          "start_time": "2025-04-07T01:11:47.255557",
          "status": "completed"
        },
        "tags": [],
        "id": "2ce46313",
        "outputId": "9160f19a-1032-428c-e622-d34e37144d17"
      },
      "outputs": [
        {
          "data": {
            "text/plain": [
              "\n",
              "\u001b[1;35mGeneral Hyper Parameters:\n",
              "\u001b[0m\u001b[1;36mgpu_id\u001b[0m =\u001b[1;33m 0\u001b[0m\n",
              "\u001b[1;36muse_gpu\u001b[0m =\u001b[1;33m True\u001b[0m\n",
              "\u001b[1;36mseed\u001b[0m =\u001b[1;33m 2020\u001b[0m\n",
              "\u001b[1;36mstate\u001b[0m =\u001b[1;33m INFO\u001b[0m\n",
              "\u001b[1;36mreproducibility\u001b[0m =\u001b[1;33m True\u001b[0m\n",
              "\u001b[1;36mdata_path\u001b[0m =\u001b[1;33m data/gru4rec/train_stage_1\u001b[0m\n",
              "\u001b[1;36mcheckpoint_dir\u001b[0m =\u001b[1;33m saved\u001b[0m\n",
              "\u001b[1;36mshow_progress\u001b[0m =\u001b[1;33m False\u001b[0m\n",
              "\u001b[1;36msave_dataset\u001b[0m =\u001b[1;33m False\u001b[0m\n",
              "\u001b[1;36mdataset_save_path\u001b[0m =\u001b[1;33m None\u001b[0m\n",
              "\u001b[1;36msave_dataloaders\u001b[0m =\u001b[1;33m False\u001b[0m\n",
              "\u001b[1;36mdataloaders_save_path\u001b[0m =\u001b[1;33m None\u001b[0m\n",
              "\u001b[1;36mlog_wandb\u001b[0m =\u001b[1;33m False\u001b[0m\n",
              "\n",
              "\u001b[1;35mTraining Hyper Parameters:\n",
              "\u001b[0m\u001b[1;36mepochs\u001b[0m =\u001b[1;33m 300\u001b[0m\n",
              "\u001b[1;36mtrain_batch_size\u001b[0m =\u001b[1;33m 4096\u001b[0m\n",
              "\u001b[1;36mlearner\u001b[0m =\u001b[1;33m adam\u001b[0m\n",
              "\u001b[1;36mlearning_rate\u001b[0m =\u001b[1;33m 0.001\u001b[0m\n",
              "\u001b[1;36mtrain_neg_sample_args\u001b[0m =\u001b[1;33m {'distribution': 'none', 'sample_num': 'none', 'alpha': 'none', 'dynamic': False, 'candidate_num': 0}\u001b[0m\n",
              "\u001b[1;36meval_step\u001b[0m =\u001b[1;33m 1\u001b[0m\n",
              "\u001b[1;36mstopping_step\u001b[0m =\u001b[1;33m 2\u001b[0m\n",
              "\u001b[1;36mclip_grad_norm\u001b[0m =\u001b[1;33m None\u001b[0m\n",
              "\u001b[1;36mweight_decay\u001b[0m =\u001b[1;33m 0.0\u001b[0m\n",
              "\u001b[1;36mloss_decimal_place\u001b[0m =\u001b[1;33m 4\u001b[0m\n",
              "\n",
              "\u001b[1;35mEvaluation Hyper Parameters:\n",
              "\u001b[0m\u001b[1;36meval_args\u001b[0m =\u001b[1;33m {'split': {'RS': [0.8, 0.1, 0.1]}, 'order': 'TO', 'mode': 'full', 'group_by': 'user', 'order_by': 'timestamp'}\u001b[0m\n",
              "\u001b[1;36mrepeatable\u001b[0m =\u001b[1;33m True\u001b[0m\n",
              "\u001b[1;36mmetrics\u001b[0m =\u001b[1;33m ['Recall', 'NDCG']\u001b[0m\n",
              "\u001b[1;36mtopk\u001b[0m =\u001b[1;33m [10]\u001b[0m\n",
              "\u001b[1;36mvalid_metric\u001b[0m =\u001b[1;33m Recall@10\u001b[0m\n",
              "\u001b[1;36mvalid_metric_bigger\u001b[0m =\u001b[1;33m True\u001b[0m\n",
              "\u001b[1;36meval_batch_size\u001b[0m =\u001b[1;33m 8192\u001b[0m\n",
              "\u001b[1;36mmetric_decimal_place\u001b[0m =\u001b[1;33m 4\u001b[0m\n",
              "\n",
              "\u001b[1;35mDataset Hyper Parameters:\n",
              "\u001b[0m\u001b[1;36mfield_separator\u001b[0m =\u001b[1;33m \t\u001b[0m\n",
              "\u001b[1;36mseq_separator\u001b[0m =\u001b[1;33m  \u001b[0m\n",
              "\u001b[1;36mUSER_ID_FIELD\u001b[0m =\u001b[1;33m user_id\u001b[0m\n",
              "\u001b[1;36mITEM_ID_FIELD\u001b[0m =\u001b[1;33m item_id\u001b[0m\n",
              "\u001b[1;36mRATING_FIELD\u001b[0m =\u001b[1;33m rating\u001b[0m\n",
              "\u001b[1;36mTIME_FIELD\u001b[0m =\u001b[1;33m timestamp\u001b[0m\n",
              "\u001b[1;36mseq_len\u001b[0m =\u001b[1;33m None\u001b[0m\n",
              "\u001b[1;36mLABEL_FIELD\u001b[0m =\u001b[1;33m label\u001b[0m\n",
              "\u001b[1;36mthreshold\u001b[0m =\u001b[1;33m None\u001b[0m\n",
              "\u001b[1;36mNEG_PREFIX\u001b[0m =\u001b[1;33m neg_\u001b[0m\n",
              "\u001b[1;36mload_col\u001b[0m =\u001b[1;33m {'inter': ['user_id', 'item_id', 'timestamp']}\u001b[0m\n",
              "\u001b[1;36munload_col\u001b[0m =\u001b[1;33m None\u001b[0m\n",
              "\u001b[1;36munused_col\u001b[0m =\u001b[1;33m None\u001b[0m\n",
              "\u001b[1;36madditional_feat_suffix\u001b[0m =\u001b[1;33m None\u001b[0m\n",
              "\u001b[1;36mrm_dup_inter\u001b[0m =\u001b[1;33m None\u001b[0m\n",
              "\u001b[1;36mval_interval\u001b[0m =\u001b[1;33m None\u001b[0m\n",
              "\u001b[1;36mfilter_inter_by_user_or_item\u001b[0m =\u001b[1;33m True\u001b[0m\n",
              "\u001b[1;36muser_inter_num_interval\u001b[0m =\u001b[1;33m [0,inf)\u001b[0m\n",
              "\u001b[1;36mitem_inter_num_interval\u001b[0m =\u001b[1;33m [0,inf)\u001b[0m\n",
              "\u001b[1;36malias_of_user_id\u001b[0m =\u001b[1;33m None\u001b[0m\n",
              "\u001b[1;36malias_of_item_id\u001b[0m =\u001b[1;33m None\u001b[0m\n",
              "\u001b[1;36malias_of_entity_id\u001b[0m =\u001b[1;33m None\u001b[0m\n",
              "\u001b[1;36malias_of_relation_id\u001b[0m =\u001b[1;33m None\u001b[0m\n",
              "\u001b[1;36mpreload_weight\u001b[0m =\u001b[1;33m None\u001b[0m\n",
              "\u001b[1;36mnormalize_field\u001b[0m =\u001b[1;33m None\u001b[0m\n",
              "\u001b[1;36mnormalize_all\u001b[0m =\u001b[1;33m None\u001b[0m\n",
              "\u001b[1;36mITEM_LIST_LENGTH_FIELD\u001b[0m =\u001b[1;33m item_length\u001b[0m\n",
              "\u001b[1;36mLIST_SUFFIX\u001b[0m =\u001b[1;33m _list\u001b[0m\n",
              "\u001b[1;36mMAX_ITEM_LIST_LENGTH\u001b[0m =\u001b[1;33m 50\u001b[0m\n",
              "\u001b[1;36mPOSITION_FIELD\u001b[0m =\u001b[1;33m position_id\u001b[0m\n",
              "\u001b[1;36mHEAD_ENTITY_ID_FIELD\u001b[0m =\u001b[1;33m head_id\u001b[0m\n",
              "\u001b[1;36mTAIL_ENTITY_ID_FIELD\u001b[0m =\u001b[1;33m tail_id\u001b[0m\n",
              "\u001b[1;36mRELATION_ID_FIELD\u001b[0m =\u001b[1;33m relation_id\u001b[0m\n",
              "\u001b[1;36mENTITY_ID_FIELD\u001b[0m =\u001b[1;33m entity_id\u001b[0m\n",
              "\u001b[1;36mbenchmark_filename\u001b[0m =\u001b[1;33m None\u001b[0m\n",
              "\n",
              "\u001b[1;35mOther Hyper Parameters: \n",
              "\u001b[0m\u001b[1;36mworker\u001b[0m = \u001b[1;33m0\u001b[0m\n",
              "\u001b[1;36mwandb_project\u001b[0m = \u001b[1;33mrecbole\u001b[0m\n",
              "\u001b[1;36mshuffle\u001b[0m = \u001b[1;33mTrue\u001b[0m\n",
              "\u001b[1;36mrequire_pow\u001b[0m = \u001b[1;33mFalse\u001b[0m\n",
              "\u001b[1;36menable_amp\u001b[0m = \u001b[1;33mFalse\u001b[0m\n",
              "\u001b[1;36menable_scaler\u001b[0m = \u001b[1;33mFalse\u001b[0m\n",
              "\u001b[1;36mtransform\u001b[0m = \u001b[1;33mNone\u001b[0m\n",
              "\u001b[1;36membedding_size\u001b[0m = \u001b[1;33m64\u001b[0m\n",
              "\u001b[1;36mhidden_size\u001b[0m = \u001b[1;33m128\u001b[0m\n",
              "\u001b[1;36mnum_layers\u001b[0m = \u001b[1;33m1\u001b[0m\n",
              "\u001b[1;36mdropout_prob\u001b[0m = \u001b[1;33m0.3\u001b[0m\n",
              "\u001b[1;36mloss_type\u001b[0m = \u001b[1;33mCE\u001b[0m\n",
              "\u001b[1;36mnumerical_features\u001b[0m = \u001b[1;33m[]\u001b[0m\n",
              "\u001b[1;36mdiscretization\u001b[0m = \u001b[1;33mNone\u001b[0m\n",
              "\u001b[1;36mkg_reverse_r\u001b[0m = \u001b[1;33mFalse\u001b[0m\n",
              "\u001b[1;36mentity_kg_num_interval\u001b[0m = \u001b[1;33m[0,inf)\u001b[0m\n",
              "\u001b[1;36mrelation_kg_num_interval\u001b[0m = \u001b[1;33m[0,inf)\u001b[0m\n",
              "\u001b[1;36mMODEL_TYPE\u001b[0m = \u001b[1;33mModelType.SEQUENTIAL\u001b[0m\n",
              "\u001b[1;36mMODEL_INPUT_TYPE\u001b[0m = \u001b[1;33mInputType.POINTWISE\u001b[0m\n",
              "\u001b[1;36mtrain_epochs\u001b[0m = \u001b[1;33m5\u001b[0m\n",
              "\u001b[1;36mdevice\u001b[0m = \u001b[1;33mcuda\u001b[0m\n",
              "\u001b[1;36mtrain_num_workers\u001b[0m = \u001b[1;33m2\u001b[0m\n",
              "\u001b[1;36meval_num_workers\u001b[0m = \u001b[1;33m1\u001b[0m\n",
              "\u001b[1;36mpin_memory\u001b[0m = \u001b[1;33mTrue\u001b[0m\n",
              "\u001b[1;36mprefetch\u001b[0m = \u001b[1;33m4\u001b[0m\n",
              "\u001b[1;36mHistoryManager.hist_file\u001b[0m = \u001b[1;33m:memory:\u001b[0m\n",
              "\u001b[1;36meval_type\u001b[0m = \u001b[1;33mEvaluatorType.RANKING\u001b[0m\n",
              "\u001b[1;36msingle_spec\u001b[0m = \u001b[1;33mTrue\u001b[0m\n",
              "\u001b[1;36mlocal_rank\u001b[0m = \u001b[1;33m0\u001b[0m\n",
              "\u001b[1;36meval_neg_sample_args\u001b[0m = \u001b[1;33m{'distribution': 'uniform', 'sample_num': 'none'}\u001b[0m\n"
            ]
          },
          "execution_count": 38,
          "metadata": {},
          "output_type": "execute_result"
        }
      ],
      "source": [
        "config"
      ]
    },
    {
      "cell_type": "code",
      "execution_count": null,
      "id": "69259eee",
      "metadata": {
        "execution": {
          "iopub.execute_input": "2025-04-07T01:11:47.357692Z",
          "iopub.status.busy": "2025-04-07T01:11:47.357260Z",
          "iopub.status.idle": "2025-04-07T01:11:47.364009Z",
          "shell.execute_reply": "2025-04-07T01:11:47.363184Z"
        },
        "papermill": {
          "duration": 0.039272,
          "end_time": "2025-04-07T01:11:47.365227",
          "exception": false,
          "start_time": "2025-04-07T01:11:47.325955",
          "status": "completed"
        },
        "tags": [],
        "id": "69259eee"
      },
      "outputs": [],
      "source": [
        "def generate_candidates(model, users, k, model_name, get_history=None):\n",
        "    data = []\n",
        "    for user_id in users:\n",
        "        history = get_history(user_id) if get_history else None\n",
        "        try:\n",
        "            recs = model.get_top_k(user_id if history is None else history, k)\n",
        "        except:\n",
        "            recs = []\n",
        "        for item_id in recs:\n",
        "            try:\n",
        "                score = model.predict_score(user_id if history is None else history, item_id)\n",
        "            except:\n",
        "                score = 0.0\n",
        "            data.append({\n",
        "                'user_id': user_id,\n",
        "                'item_id': item_id,\n",
        "                'score': score,\n",
        "                'model': model_name\n",
        "            })\n",
        "    return pd.DataFrame(data)"
      ]
    },
    {
      "cell_type": "code",
      "execution_count": null,
      "id": "b32ba486",
      "metadata": {
        "execution": {
          "iopub.execute_input": "2025-04-07T01:11:47.438997Z",
          "iopub.status.busy": "2025-04-07T01:11:47.438571Z",
          "iopub.status.idle": "2025-04-07T01:16:58.320583Z",
          "shell.execute_reply": "2025-04-07T01:16:58.319719Z"
        },
        "papermill": {
          "duration": 310.952861,
          "end_time": "2025-04-07T01:16:58.349530",
          "exception": false,
          "start_time": "2025-04-07T01:11:47.396669",
          "status": "completed"
        },
        "tags": [],
        "id": "b32ba486",
        "outputId": "46491afd-7c52-4653-cb15-83a72efe5f30"
      },
      "outputs": [
        {
          "name": "stdout",
          "output_type": "stream",
          "text": [
            "CPU times: user 10min 2s, sys: 1.26 s, total: 10min 3s\n",
            "Wall time: 5min 10s\n"
          ]
        }
      ],
      "source": [
        "%%time\n",
        "\n",
        "candidates_top = generate_candidates(top_wrapper, valid_stage_1['user_id'].unique(), 10, 'topk')\n",
        "candidates_als = generate_candidates(als_wrapper, valid_stage_1['user_id'].unique(), 10, 'als')"
      ]
    },
    {
      "cell_type": "code",
      "execution_count": null,
      "id": "748ee1b4",
      "metadata": {
        "execution": {
          "iopub.execute_input": "2025-04-07T01:16:58.404642Z",
          "iopub.status.busy": "2025-04-07T01:16:58.404296Z",
          "iopub.status.idle": "2025-04-07T01:16:58.412377Z",
          "shell.execute_reply": "2025-04-07T01:16:58.411682Z"
        },
        "papermill": {
          "duration": 0.036758,
          "end_time": "2025-04-07T01:16:58.413519",
          "exception": false,
          "start_time": "2025-04-07T01:16:58.376761",
          "status": "completed"
        },
        "tags": [],
        "id": "748ee1b4"
      },
      "outputs": [],
      "source": [
        "def generate_candidates_userwise(model, user2history, user_ids, k=10, model_name='gru'):\n",
        "    device = model.config['device']\n",
        "    item_num = model.item_num\n",
        "    max_len = model.config['MAX_ITEM_LIST_LENGTH']\n",
        "    data = []\n",
        "\n",
        "    total = len(user_ids)\n",
        "    processed = 0\n",
        "    skipped_empty = 0\n",
        "    skipped_nan = 0\n",
        "    failed = 0\n",
        "\n",
        "    for idx, uid in enumerate(user_ids):\n",
        "        hist = user2history.get(uid, [])\n",
        "        hist = [item for item in hist if isinstance(item, int) and 0 <= item < item_num]\n",
        "\n",
        "        if not hist:\n",
        "            skipped_empty += 1\n",
        "            continue\n",
        "\n",
        "        hist = hist[-max_len:]\n",
        "        input_tensor = torch.tensor([hist], dtype=torch.long).to(device)\n",
        "        length_tensor = torch.tensor([len(hist)], dtype=torch.long).to(device)\n",
        "\n",
        "        try:\n",
        "            with torch.no_grad():\n",
        "                output = model.model(input_tensor, length_tensor)\n",
        "                if output.isnan().any() or output.isinf().any():\n",
        "                    skipped_nan += 1\n",
        "                    continue\n",
        "\n",
        "                topk_scores, topk_indices = torch.topk(output, k=k, dim=1)\n",
        "\n",
        "            for item_id, score in zip(topk_indices[0].tolist(), topk_scores[0].tolist()):\n",
        "                if 0 <= item_id < item_num:\n",
        "                    data.append({\n",
        "                        'user_id': uid,\n",
        "                        'item_id': item_id,\n",
        "                        'score': score,\n",
        "                        'model': model_name\n",
        "                    })\n",
        "\n",
        "            processed += 1\n",
        "\n",
        "        except Exception as e:\n",
        "            print(f\"Ошибка у user_id={uid}: {e}\")\n",
        "            failed += 1\n",
        "            continue\n",
        "\n",
        "        if (idx + 1) % 50000 == 0:\n",
        "            print(f\"Обработано {idx + 1} из {total} пользователей...\")\n",
        "\n",
        "    print(f\"\\nЗавершено. Всего: {total}\")\n",
        "    print(f\"Обработано: {processed}\")\n",
        "    print(f\"Пропущено (пустые истории): {skipped_empty}\")\n",
        "    print(f\"Пропущено (NaN/Inf): {skipped_nan}\")\n",
        "    print(f\"Ошибки: {failed}\")\n",
        "\n",
        "    return pd.DataFrame(data)"
      ]
    },
    {
      "cell_type": "code",
      "execution_count": null,
      "id": "1d941ab5",
      "metadata": {
        "execution": {
          "iopub.execute_input": "2025-04-07T01:16:58.470406Z",
          "iopub.status.busy": "2025-04-07T01:16:58.470133Z",
          "iopub.status.idle": "2025-04-07T01:17:12.842561Z",
          "shell.execute_reply": "2025-04-07T01:17:12.841813Z"
        },
        "papermill": {
          "duration": 14.403877,
          "end_time": "2025-04-07T01:17:12.844177",
          "exception": false,
          "start_time": "2025-04-07T01:16:58.440300",
          "status": "completed"
        },
        "tags": [],
        "id": "1d941ab5"
      },
      "outputs": [],
      "source": [
        "def get_internal_user_history_dict(dataset):\n",
        "    user_col = dataset.uid_field\n",
        "    item_col = dataset.iid_field\n",
        "    time_col = dataset.time_field\n",
        "\n",
        "    df = pd.DataFrame({\n",
        "        user_col: dataset.inter_feat[user_col].numpy(),\n",
        "        item_col: dataset.inter_feat[item_col].numpy(),\n",
        "        time_col: dataset.inter_feat[time_col].numpy()\n",
        "    })\n",
        "\n",
        "    df = df.sort_values(time_col)\n",
        "\n",
        "    user_hist = {}\n",
        "    for uid, group in df.groupby(user_col):\n",
        "        user_hist[uid] = group[item_col].tolist()\n",
        "\n",
        "    return user_hist\n",
        "\n",
        "internal_user_history_dict = get_internal_user_history_dict(dataset)"
      ]
    },
    {
      "cell_type": "code",
      "execution_count": null,
      "id": "c9022945",
      "metadata": {
        "execution": {
          "iopub.execute_input": "2025-04-07T01:17:12.900905Z",
          "iopub.status.busy": "2025-04-07T01:17:12.900592Z",
          "iopub.status.idle": "2025-04-07T01:17:12.905268Z",
          "shell.execute_reply": "2025-04-07T01:17:12.904419Z"
        },
        "papermill": {
          "duration": 0.034213,
          "end_time": "2025-04-07T01:17:12.906495",
          "exception": false,
          "start_time": "2025-04-07T01:17:12.872282",
          "status": "completed"
        },
        "tags": [],
        "id": "c9022945",
        "outputId": "06fb5dc6-601b-4993-d7d7-169718852fbf"
      },
      "outputs": [
        {
          "data": {
            "text/plain": [
              "414440"
            ]
          },
          "execution_count": 43,
          "metadata": {},
          "output_type": "execute_result"
        }
      ],
      "source": [
        "len(internal_user_history_dict)"
      ]
    },
    {
      "cell_type": "code",
      "execution_count": null,
      "id": "e0661978",
      "metadata": {
        "execution": {
          "iopub.execute_input": "2025-04-07T01:17:12.961915Z",
          "iopub.status.busy": "2025-04-07T01:17:12.961605Z",
          "iopub.status.idle": "2025-04-07T01:17:12.966636Z",
          "shell.execute_reply": "2025-04-07T01:17:12.965916Z"
        },
        "papermill": {
          "duration": 0.034158,
          "end_time": "2025-04-07T01:17:12.967909",
          "exception": false,
          "start_time": "2025-04-07T01:17:12.933751",
          "status": "completed"
        },
        "tags": [],
        "id": "e0661978",
        "outputId": "5762f2f6-62d0-4c10-acd3-dbcadd22a6cb"
      },
      "outputs": [
        {
          "data": {
            "text/plain": [
              "GRU4Rec(\n",
              "  (item_embedding): Embedding(14777, 64, padding_idx=0)\n",
              "  (emb_dropout): Dropout(p=0.3, inplace=False)\n",
              "  (gru_layers): GRU(64, 128, bias=False, batch_first=True)\n",
              "  (dense): Linear(in_features=128, out_features=64, bias=True)\n",
              "  (loss_fct): CrossEntropyLoss()\n",
              ")"
            ]
          },
          "execution_count": 44,
          "metadata": {},
          "output_type": "execute_result"
        }
      ],
      "source": [
        "model.eval()"
      ]
    },
    {
      "cell_type": "code",
      "execution_count": null,
      "id": "756a3778",
      "metadata": {
        "execution": {
          "iopub.execute_input": "2025-04-07T01:17:13.024380Z",
          "iopub.status.busy": "2025-04-07T01:17:13.024094Z",
          "iopub.status.idle": "2025-04-07T01:17:13.027656Z",
          "shell.execute_reply": "2025-04-07T01:17:13.026926Z"
        },
        "papermill": {
          "duration": 0.033192,
          "end_time": "2025-04-07T01:17:13.028875",
          "exception": false,
          "start_time": "2025-04-07T01:17:12.995683",
          "status": "completed"
        },
        "tags": [],
        "id": "756a3778"
      },
      "outputs": [],
      "source": [
        "gru_wrapper = GRU4RecWrapper(model, dataset, config)"
      ]
    },
    {
      "cell_type": "code",
      "execution_count": null,
      "id": "94f360e8",
      "metadata": {
        "execution": {
          "iopub.execute_input": "2025-04-07T01:17:13.086807Z",
          "iopub.status.busy": "2025-04-07T01:17:13.086435Z",
          "iopub.status.idle": "2025-04-07T01:17:13.091436Z",
          "shell.execute_reply": "2025-04-07T01:17:13.090498Z"
        },
        "papermill": {
          "duration": 0.035922,
          "end_time": "2025-04-07T01:17:13.092902",
          "exception": false,
          "start_time": "2025-04-07T01:17:13.056980",
          "status": "completed"
        },
        "tags": [],
        "id": "94f360e8",
        "outputId": "059e37da-1f0a-42f8-e91e-81f089a1d014"
      },
      "outputs": [
        {
          "data": {
            "text/plain": [
              "<__main__.GRU4RecWrapper at 0x7dc8b1ca44f0>"
            ]
          },
          "execution_count": 46,
          "metadata": {},
          "output_type": "execute_result"
        }
      ],
      "source": [
        "gru_wrapper"
      ]
    },
    {
      "cell_type": "code",
      "execution_count": null,
      "id": "e318506b",
      "metadata": {
        "execution": {
          "iopub.execute_input": "2025-04-07T01:17:13.194874Z",
          "iopub.status.busy": "2025-04-07T01:17:13.194576Z",
          "iopub.status.idle": "2025-04-07T01:17:13.199341Z",
          "shell.execute_reply": "2025-04-07T01:17:13.198521Z"
        },
        "papermill": {
          "duration": 0.034277,
          "end_time": "2025-04-07T01:17:13.200656",
          "exception": false,
          "start_time": "2025-04-07T01:17:13.166379",
          "status": "completed"
        },
        "tags": [],
        "id": "e318506b",
        "outputId": "5ff385f7-13a9-4db2-ccc5-222965f79c36"
      },
      "outputs": [
        {
          "data": {
            "text/plain": [
              "(1456245, 6)"
            ]
          },
          "execution_count": 47,
          "metadata": {},
          "output_type": "execute_result"
        }
      ],
      "source": [
        "valid_stage_1.shape"
      ]
    },
    {
      "cell_type": "code",
      "execution_count": null,
      "id": "baf1dc17",
      "metadata": {
        "execution": {
          "iopub.execute_input": "2025-04-07T01:17:13.257310Z",
          "iopub.status.busy": "2025-04-07T01:17:13.257022Z",
          "iopub.status.idle": "2025-04-07T01:17:13.283628Z",
          "shell.execute_reply": "2025-04-07T01:17:13.282885Z"
        },
        "papermill": {
          "duration": 0.056397,
          "end_time": "2025-04-07T01:17:13.284943",
          "exception": false,
          "start_time": "2025-04-07T01:17:13.228546",
          "status": "completed"
        },
        "tags": [],
        "id": "baf1dc17",
        "outputId": "bef9fae7-2ac7-4ca5-ddf1-0c3ea81d0a76"
      },
      "outputs": [
        {
          "data": {
            "text/plain": [
              "(382800,)"
            ]
          },
          "execution_count": 48,
          "metadata": {},
          "output_type": "execute_result"
        }
      ],
      "source": [
        "valid_stage_1['user_id'].unique().shape"
      ]
    },
    {
      "cell_type": "code",
      "execution_count": null,
      "id": "78bb8a57",
      "metadata": {
        "execution": {
          "iopub.execute_input": "2025-04-07T01:17:13.341951Z",
          "iopub.status.busy": "2025-04-07T01:17:13.341652Z",
          "iopub.status.idle": "2025-04-07T01:17:13.346385Z",
          "shell.execute_reply": "2025-04-07T01:17:13.345735Z"
        },
        "papermill": {
          "duration": 0.034463,
          "end_time": "2025-04-07T01:17:13.347519",
          "exception": false,
          "start_time": "2025-04-07T01:17:13.313056",
          "status": "completed"
        },
        "tags": [],
        "id": "78bb8a57",
        "outputId": "a9e7f404-c9ce-4269-870a-1b2b7253a279"
      },
      "outputs": [
        {
          "data": {
            "text/plain": [
              "((3828000, 4), (1749420, 4))"
            ]
          },
          "execution_count": 49,
          "metadata": {},
          "output_type": "execute_result"
        }
      ],
      "source": [
        "candidates_top.shape, candidates_als.shape"
      ]
    },
    {
      "cell_type": "code",
      "execution_count": null,
      "id": "11ec6f25",
      "metadata": {
        "execution": {
          "iopub.execute_input": "2025-04-07T01:17:13.403894Z",
          "iopub.status.busy": "2025-04-07T01:17:13.403604Z",
          "iopub.status.idle": "2025-04-07T01:21:37.044398Z",
          "shell.execute_reply": "2025-04-07T01:21:37.043101Z"
        },
        "papermill": {
          "duration": 263.670549,
          "end_time": "2025-04-07T01:21:37.045754",
          "exception": false,
          "start_time": "2025-04-07T01:17:13.375205",
          "status": "completed"
        },
        "tags": [],
        "id": "11ec6f25",
        "outputId": "d5334ffe-c88c-4673-9fa8-4b8b6130da26"
      },
      "outputs": [
        {
          "name": "stdout",
          "output_type": "stream",
          "text": [
            "Обработано 50000 из 414440 пользователей...\n",
            "Обработано 100000 из 414440 пользователей...\n",
            "Обработано 150000 из 414440 пользователей...\n",
            "Обработано 200000 из 414440 пользователей...\n",
            "Обработано 250000 из 414440 пользователей...\n",
            "Обработано 300000 из 414440 пользователей...\n",
            "Обработано 350000 из 414440 пользователей...\n",
            "Обработано 400000 из 414440 пользователей...\n",
            "\n",
            "Завершено. Всего: 414440\n",
            "Обработано: 414440\n",
            "Пропущено (пустые истории): 0\n",
            "Пропущено (NaN/Inf): 0\n",
            "Ошибки: 0\n",
            "CPU times: user 4min 21s, sys: 1.81 s, total: 4min 23s\n",
            "Wall time: 4min 23s\n"
          ]
        }
      ],
      "source": [
        "%%time\n",
        "\n",
        "candidates_gru = generate_candidates_userwise(\n",
        "    model=gru_wrapper,\n",
        "    user2history=internal_user_history_dict,\n",
        "    user_ids=list(internal_user_history_dict.keys()),\n",
        "    k=10,\n",
        "    model_name='gru'\n",
        ")"
      ]
    },
    {
      "cell_type": "code",
      "execution_count": null,
      "id": "5c155de9",
      "metadata": {
        "execution": {
          "iopub.execute_input": "2025-04-07T01:21:37.106674Z",
          "iopub.status.busy": "2025-04-07T01:21:37.106327Z",
          "iopub.status.idle": "2025-04-07T01:21:37.111227Z",
          "shell.execute_reply": "2025-04-07T01:21:37.110525Z"
        },
        "papermill": {
          "duration": 0.036193,
          "end_time": "2025-04-07T01:21:37.112317",
          "exception": false,
          "start_time": "2025-04-07T01:21:37.076124",
          "status": "completed"
        },
        "tags": [],
        "id": "5c155de9",
        "outputId": "faaecad0-ca1f-4017-9ebf-5f3295c93eb1"
      },
      "outputs": [
        {
          "data": {
            "text/plain": [
              "(4144400, 4)"
            ]
          },
          "execution_count": 51,
          "metadata": {},
          "output_type": "execute_result"
        }
      ],
      "source": [
        "candidates_gru.shape"
      ]
    },
    {
      "cell_type": "code",
      "execution_count": null,
      "id": "59d80779",
      "metadata": {
        "execution": {
          "iopub.execute_input": "2025-04-07T01:21:37.172268Z",
          "iopub.status.busy": "2025-04-07T01:21:37.171954Z",
          "iopub.status.idle": "2025-04-07T01:21:37.180733Z",
          "shell.execute_reply": "2025-04-07T01:21:37.180014Z"
        },
        "id": "59d80779",
        "papermill": {
          "duration": 0.04035,
          "end_time": "2025-04-07T01:21:37.181946",
          "exception": false,
          "start_time": "2025-04-07T01:21:37.141596",
          "status": "completed"
        },
        "tags": [],
        "outputId": "8b5d0af5-4c59-4301-b7c9-972b0381cdad"
      },
      "outputs": [
        {
          "data": {
            "text/html": [
              "<div>\n",
              "<style scoped>\n",
              "    .dataframe tbody tr th:only-of-type {\n",
              "        vertical-align: middle;\n",
              "    }\n",
              "\n",
              "    .dataframe tbody tr th {\n",
              "        vertical-align: top;\n",
              "    }\n",
              "\n",
              "    .dataframe thead th {\n",
              "        text-align: right;\n",
              "    }\n",
              "</style>\n",
              "<table border=\"1\" class=\"dataframe\">\n",
              "  <thead>\n",
              "    <tr style=\"text-align: right;\">\n",
              "      <th></th>\n",
              "      <th>user_id</th>\n",
              "      <th>item_id</th>\n",
              "      <th>score</th>\n",
              "      <th>model</th>\n",
              "    </tr>\n",
              "  </thead>\n",
              "  <tbody>\n",
              "    <tr>\n",
              "      <th>0</th>\n",
              "      <td>2</td>\n",
              "      <td>30</td>\n",
              "      <td>4.512095</td>\n",
              "      <td>gru</td>\n",
              "    </tr>\n",
              "    <tr>\n",
              "      <th>1</th>\n",
              "      <td>2</td>\n",
              "      <td>13</td>\n",
              "      <td>2.663654</td>\n",
              "      <td>gru</td>\n",
              "    </tr>\n",
              "    <tr>\n",
              "      <th>2</th>\n",
              "      <td>2</td>\n",
              "      <td>57</td>\n",
              "      <td>2.445568</td>\n",
              "      <td>gru</td>\n",
              "    </tr>\n",
              "    <tr>\n",
              "      <th>3</th>\n",
              "      <td>2</td>\n",
              "      <td>20</td>\n",
              "      <td>2.257750</td>\n",
              "      <td>gru</td>\n",
              "    </tr>\n",
              "    <tr>\n",
              "      <th>4</th>\n",
              "      <td>2</td>\n",
              "      <td>10</td>\n",
              "      <td>2.162546</td>\n",
              "      <td>gru</td>\n",
              "    </tr>\n",
              "  </tbody>\n",
              "</table>\n",
              "</div>"
            ],
            "text/plain": [
              "   user_id  item_id     score model\n",
              "0        2       30  4.512095   gru\n",
              "1        2       13  2.663654   gru\n",
              "2        2       57  2.445568   gru\n",
              "3        2       20  2.257750   gru\n",
              "4        2       10  2.162546   gru"
            ]
          },
          "execution_count": 52,
          "metadata": {},
          "output_type": "execute_result"
        }
      ],
      "source": [
        "candidates_gru.head()"
      ]
    },
    {
      "cell_type": "code",
      "execution_count": null,
      "id": "b3c93871",
      "metadata": {
        "execution": {
          "iopub.execute_input": "2025-04-07T01:21:37.243679Z",
          "iopub.status.busy": "2025-04-07T01:21:37.243365Z",
          "iopub.status.idle": "2025-04-07T01:21:37.251635Z",
          "shell.execute_reply": "2025-04-07T01:21:37.250770Z"
        },
        "id": "b3c93871",
        "papermill": {
          "duration": 0.040031,
          "end_time": "2025-04-07T01:21:37.252938",
          "exception": false,
          "start_time": "2025-04-07T01:21:37.212907",
          "status": "completed"
        },
        "tags": [],
        "outputId": "99b99ffe-ccdb-4976-8469-3c7dd4adebe6"
      },
      "outputs": [
        {
          "data": {
            "text/html": [
              "<div>\n",
              "<style scoped>\n",
              "    .dataframe tbody tr th:only-of-type {\n",
              "        vertical-align: middle;\n",
              "    }\n",
              "\n",
              "    .dataframe tbody tr th {\n",
              "        vertical-align: top;\n",
              "    }\n",
              "\n",
              "    .dataframe thead th {\n",
              "        text-align: right;\n",
              "    }\n",
              "</style>\n",
              "<table border=\"1\" class=\"dataframe\">\n",
              "  <thead>\n",
              "    <tr style=\"text-align: right;\">\n",
              "      <th></th>\n",
              "      <th>user_id</th>\n",
              "      <th>item_id</th>\n",
              "      <th>score</th>\n",
              "      <th>model</th>\n",
              "    </tr>\n",
              "  </thead>\n",
              "  <tbody>\n",
              "    <tr>\n",
              "      <th>0</th>\n",
              "      <td>208171</td>\n",
              "      <td>15297</td>\n",
              "      <td>1.0</td>\n",
              "      <td>topk</td>\n",
              "    </tr>\n",
              "    <tr>\n",
              "      <th>1</th>\n",
              "      <td>208171</td>\n",
              "      <td>10440</td>\n",
              "      <td>1.0</td>\n",
              "      <td>topk</td>\n",
              "    </tr>\n",
              "    <tr>\n",
              "      <th>2</th>\n",
              "      <td>208171</td>\n",
              "      <td>13865</td>\n",
              "      <td>1.0</td>\n",
              "      <td>topk</td>\n",
              "    </tr>\n",
              "    <tr>\n",
              "      <th>3</th>\n",
              "      <td>208171</td>\n",
              "      <td>9728</td>\n",
              "      <td>1.0</td>\n",
              "      <td>topk</td>\n",
              "    </tr>\n",
              "    <tr>\n",
              "      <th>4</th>\n",
              "      <td>208171</td>\n",
              "      <td>3734</td>\n",
              "      <td>1.0</td>\n",
              "      <td>topk</td>\n",
              "    </tr>\n",
              "  </tbody>\n",
              "</table>\n",
              "</div>"
            ],
            "text/plain": [
              "   user_id  item_id  score model\n",
              "0   208171    15297    1.0  topk\n",
              "1   208171    10440    1.0  topk\n",
              "2   208171    13865    1.0  topk\n",
              "3   208171     9728    1.0  topk\n",
              "4   208171     3734    1.0  topk"
            ]
          },
          "execution_count": 53,
          "metadata": {},
          "output_type": "execute_result"
        }
      ],
      "source": [
        "candidates_top.head()"
      ]
    },
    {
      "cell_type": "code",
      "execution_count": null,
      "id": "a17735f6",
      "metadata": {
        "execution": {
          "iopub.execute_input": "2025-04-07T01:21:37.313337Z",
          "iopub.status.busy": "2025-04-07T01:21:37.313071Z",
          "iopub.status.idle": "2025-04-07T01:21:37.328795Z",
          "shell.execute_reply": "2025-04-07T01:21:37.328059Z"
        },
        "papermill": {
          "duration": 0.046679,
          "end_time": "2025-04-07T01:21:37.330027",
          "exception": false,
          "start_time": "2025-04-07T01:21:37.283348",
          "status": "completed"
        },
        "tags": [],
        "id": "a17735f6",
        "outputId": "965096ef-e7dc-4321-c9d1-8dc032ad79fa"
      },
      "outputs": [
        {
          "data": {
            "text/plain": [
              "((3828000, 4), 3828000.0)"
            ]
          },
          "execution_count": 54,
          "metadata": {},
          "output_type": "execute_result"
        }
      ],
      "source": [
        "candidates_top.shape, candidates_top.score.sum()"
      ]
    },
    {
      "cell_type": "code",
      "execution_count": null,
      "id": "16810616",
      "metadata": {
        "execution": {
          "iopub.execute_input": "2025-04-07T01:21:37.389794Z",
          "iopub.status.busy": "2025-04-07T01:21:37.389505Z",
          "iopub.status.idle": "2025-04-07T01:21:37.397236Z",
          "shell.execute_reply": "2025-04-07T01:21:37.396597Z"
        },
        "papermill": {
          "duration": 0.038837,
          "end_time": "2025-04-07T01:21:37.398428",
          "exception": false,
          "start_time": "2025-04-07T01:21:37.359591",
          "status": "completed"
        },
        "tags": [],
        "id": "16810616",
        "outputId": "0e5a9f39-7a8b-48fa-de87-e733d0184ce1"
      },
      "outputs": [
        {
          "data": {
            "text/html": [
              "<div>\n",
              "<style scoped>\n",
              "    .dataframe tbody tr th:only-of-type {\n",
              "        vertical-align: middle;\n",
              "    }\n",
              "\n",
              "    .dataframe tbody tr th {\n",
              "        vertical-align: top;\n",
              "    }\n",
              "\n",
              "    .dataframe thead th {\n",
              "        text-align: right;\n",
              "    }\n",
              "</style>\n",
              "<table border=\"1\" class=\"dataframe\">\n",
              "  <thead>\n",
              "    <tr style=\"text-align: right;\">\n",
              "      <th></th>\n",
              "      <th>user_id</th>\n",
              "      <th>item_id</th>\n",
              "      <th>score</th>\n",
              "      <th>model</th>\n",
              "    </tr>\n",
              "  </thead>\n",
              "  <tbody>\n",
              "    <tr>\n",
              "      <th>0</th>\n",
              "      <td>208171</td>\n",
              "      <td>10440</td>\n",
              "      <td>0.149779</td>\n",
              "      <td>als</td>\n",
              "    </tr>\n",
              "    <tr>\n",
              "      <th>1</th>\n",
              "      <td>208171</td>\n",
              "      <td>12743</td>\n",
              "      <td>0.014232</td>\n",
              "      <td>als</td>\n",
              "    </tr>\n",
              "    <tr>\n",
              "      <th>2</th>\n",
              "      <td>208171</td>\n",
              "      <td>11310</td>\n",
              "      <td>0.010526</td>\n",
              "      <td>als</td>\n",
              "    </tr>\n",
              "    <tr>\n",
              "      <th>3</th>\n",
              "      <td>208171</td>\n",
              "      <td>10761</td>\n",
              "      <td>0.010125</td>\n",
              "      <td>als</td>\n",
              "    </tr>\n",
              "    <tr>\n",
              "      <th>4</th>\n",
              "      <td>208171</td>\n",
              "      <td>7582</td>\n",
              "      <td>0.009448</td>\n",
              "      <td>als</td>\n",
              "    </tr>\n",
              "  </tbody>\n",
              "</table>\n",
              "</div>"
            ],
            "text/plain": [
              "   user_id  item_id     score model\n",
              "0   208171    10440  0.149779   als\n",
              "1   208171    12743  0.014232   als\n",
              "2   208171    11310  0.010526   als\n",
              "3   208171    10761  0.010125   als\n",
              "4   208171     7582  0.009448   als"
            ]
          },
          "execution_count": 55,
          "metadata": {},
          "output_type": "execute_result"
        }
      ],
      "source": [
        "candidates_als.head()"
      ]
    },
    {
      "cell_type": "code",
      "execution_count": null,
      "id": "5d09d8c2",
      "metadata": {
        "execution": {
          "iopub.execute_input": "2025-04-07T01:21:37.458438Z",
          "iopub.status.busy": "2025-04-07T01:21:37.458100Z",
          "iopub.status.idle": "2025-04-07T01:21:37.463270Z",
          "shell.execute_reply": "2025-04-07T01:21:37.462430Z"
        },
        "papermill": {
          "duration": 0.037011,
          "end_time": "2025-04-07T01:21:37.464535",
          "exception": false,
          "start_time": "2025-04-07T01:21:37.427524",
          "status": "completed"
        },
        "tags": [],
        "id": "5d09d8c2",
        "outputId": "9be9d99f-fba0-4d87-e027-9b8afa78d6f4"
      },
      "outputs": [
        {
          "data": {
            "text/plain": [
              "((4144400, 4), (3828000, 4), (1749420, 4))"
            ]
          },
          "execution_count": 56,
          "metadata": {},
          "output_type": "execute_result"
        }
      ],
      "source": [
        "candidates_gru.shape, candidates_top.shape, candidates_als.shape"
      ]
    },
    {
      "cell_type": "code",
      "execution_count": null,
      "id": "3d629679",
      "metadata": {
        "execution": {
          "iopub.execute_input": "2025-04-07T01:21:37.524322Z",
          "iopub.status.busy": "2025-04-07T01:21:37.524048Z",
          "iopub.status.idle": "2025-04-07T01:21:37.529135Z",
          "shell.execute_reply": "2025-04-07T01:21:37.528246Z"
        },
        "id": "3d629679",
        "papermill": {
          "duration": 0.036372,
          "end_time": "2025-04-07T01:21:37.530416",
          "exception": false,
          "start_time": "2025-04-07T01:21:37.494044",
          "status": "completed"
        },
        "tags": []
      },
      "outputs": [],
      "source": [
        "def merge_model_outputs_for_l2(candidates_top, candidates_als, candidates_gru):\n",
        "    top_pivot = candidates_top.rename(columns={'score': 'score_topk'}).drop(columns='model')\n",
        "    als_pivot = candidates_als.rename(columns={'score': 'score_als'}).drop(columns='model')\n",
        "    gru_pivot = candidates_gru.rename(columns={'score': 'score_gru'}).drop(columns='model')\n",
        "\n",
        "    merged = pd.merge(top_pivot, als_pivot, on=['user_id', 'item_id'], how='outer')\n",
        "    merged = pd.merge(merged, gru_pivot, on=['user_id', 'item_id'], how='outer')\n",
        "\n",
        "    merged['score_topk'] = merged['score_topk'].fillna(0.0)\n",
        "    merged['score_als'] = merged['score_als'].fillna(0.0)\n",
        "    merged['score_gru'] = merged['score_gru'].fillna(0.0)\n",
        "\n",
        "    return merged"
      ]
    },
    {
      "cell_type": "code",
      "execution_count": null,
      "id": "579070ce",
      "metadata": {
        "execution": {
          "iopub.execute_input": "2025-04-07T01:21:37.589705Z",
          "iopub.status.busy": "2025-04-07T01:21:37.589393Z",
          "iopub.status.idle": "2025-04-07T01:21:48.343169Z",
          "shell.execute_reply": "2025-04-07T01:21:48.342395Z"
        },
        "papermill": {
          "duration": 10.785221,
          "end_time": "2025-04-07T01:21:48.344828",
          "exception": false,
          "start_time": "2025-04-07T01:21:37.559607",
          "status": "completed"
        },
        "tags": [],
        "id": "579070ce"
      },
      "outputs": [],
      "source": [
        "df_l2 = merge_model_outputs_for_l2(candidates_top, candidates_als, candidates_gru)"
      ]
    },
    {
      "cell_type": "code",
      "execution_count": null,
      "id": "c79d52e8",
      "metadata": {
        "execution": {
          "iopub.execute_input": "2025-04-07T01:21:48.407286Z",
          "iopub.status.busy": "2025-04-07T01:21:48.406989Z",
          "iopub.status.idle": "2025-04-07T01:21:48.411855Z",
          "shell.execute_reply": "2025-04-07T01:21:48.411079Z"
        },
        "papermill": {
          "duration": 0.037407,
          "end_time": "2025-04-07T01:21:48.413167",
          "exception": false,
          "start_time": "2025-04-07T01:21:48.375760",
          "status": "completed"
        },
        "tags": [],
        "id": "c79d52e8",
        "outputId": "7cc596fc-32d4-45b2-efe1-a8c980d77eaa"
      },
      "outputs": [
        {
          "data": {
            "text/plain": [
              "(9431718, 5)"
            ]
          },
          "execution_count": 59,
          "metadata": {},
          "output_type": "execute_result"
        }
      ],
      "source": [
        "df_l2.shape"
      ]
    },
    {
      "cell_type": "code",
      "execution_count": null,
      "id": "7e688cd5",
      "metadata": {
        "execution": {
          "iopub.execute_input": "2025-04-07T01:21:48.474129Z",
          "iopub.status.busy": "2025-04-07T01:21:48.473858Z",
          "iopub.status.idle": "2025-04-07T01:21:48.483127Z",
          "shell.execute_reply": "2025-04-07T01:21:48.482285Z"
        },
        "papermill": {
          "duration": 0.041362,
          "end_time": "2025-04-07T01:21:48.484510",
          "exception": false,
          "start_time": "2025-04-07T01:21:48.443148",
          "status": "completed"
        },
        "tags": [],
        "id": "7e688cd5",
        "outputId": "63f8947b-131a-4936-9680-c204f8f6f9d8"
      },
      "outputs": [
        {
          "data": {
            "text/html": [
              "<div>\n",
              "<style scoped>\n",
              "    .dataframe tbody tr th:only-of-type {\n",
              "        vertical-align: middle;\n",
              "    }\n",
              "\n",
              "    .dataframe tbody tr th {\n",
              "        vertical-align: top;\n",
              "    }\n",
              "\n",
              "    .dataframe thead th {\n",
              "        text-align: right;\n",
              "    }\n",
              "</style>\n",
              "<table border=\"1\" class=\"dataframe\">\n",
              "  <thead>\n",
              "    <tr style=\"text-align: right;\">\n",
              "      <th></th>\n",
              "      <th>user_id</th>\n",
              "      <th>item_id</th>\n",
              "      <th>score_topk</th>\n",
              "      <th>score_als</th>\n",
              "      <th>score_gru</th>\n",
              "    </tr>\n",
              "  </thead>\n",
              "  <tbody>\n",
              "    <tr>\n",
              "      <th>0</th>\n",
              "      <td>0</td>\n",
              "      <td>142</td>\n",
              "      <td>1.0</td>\n",
              "      <td>0.0</td>\n",
              "      <td>0.0</td>\n",
              "    </tr>\n",
              "    <tr>\n",
              "      <th>1</th>\n",
              "      <td>0</td>\n",
              "      <td>3734</td>\n",
              "      <td>1.0</td>\n",
              "      <td>0.0</td>\n",
              "      <td>0.0</td>\n",
              "    </tr>\n",
              "    <tr>\n",
              "      <th>2</th>\n",
              "      <td>0</td>\n",
              "      <td>4151</td>\n",
              "      <td>1.0</td>\n",
              "      <td>0.0</td>\n",
              "      <td>0.0</td>\n",
              "    </tr>\n",
              "    <tr>\n",
              "      <th>3</th>\n",
              "      <td>0</td>\n",
              "      <td>6809</td>\n",
              "      <td>1.0</td>\n",
              "      <td>0.0</td>\n",
              "      <td>0.0</td>\n",
              "    </tr>\n",
              "    <tr>\n",
              "      <th>4</th>\n",
              "      <td>0</td>\n",
              "      <td>8636</td>\n",
              "      <td>1.0</td>\n",
              "      <td>0.0</td>\n",
              "      <td>0.0</td>\n",
              "    </tr>\n",
              "  </tbody>\n",
              "</table>\n",
              "</div>"
            ],
            "text/plain": [
              "   user_id  item_id  score_topk  score_als  score_gru\n",
              "0        0      142         1.0        0.0        0.0\n",
              "1        0     3734         1.0        0.0        0.0\n",
              "2        0     4151         1.0        0.0        0.0\n",
              "3        0     6809         1.0        0.0        0.0\n",
              "4        0     8636         1.0        0.0        0.0"
            ]
          },
          "execution_count": 60,
          "metadata": {},
          "output_type": "execute_result"
        }
      ],
      "source": [
        "df_l2.head()"
      ]
    },
    {
      "cell_type": "code",
      "execution_count": null,
      "id": "716176be",
      "metadata": {
        "execution": {
          "iopub.execute_input": "2025-04-07T01:21:48.545190Z",
          "iopub.status.busy": "2025-04-07T01:21:48.544903Z",
          "iopub.status.idle": "2025-04-07T01:21:48.554099Z",
          "shell.execute_reply": "2025-04-07T01:21:48.553242Z"
        },
        "papermill": {
          "duration": 0.040825,
          "end_time": "2025-04-07T01:21:48.555387",
          "exception": false,
          "start_time": "2025-04-07T01:21:48.514562",
          "status": "completed"
        },
        "tags": [],
        "id": "716176be",
        "outputId": "0c402b56-add9-4cc0-d785-3dab2a828d0e"
      },
      "outputs": [
        {
          "data": {
            "text/html": [
              "<div>\n",
              "<style scoped>\n",
              "    .dataframe tbody tr th:only-of-type {\n",
              "        vertical-align: middle;\n",
              "    }\n",
              "\n",
              "    .dataframe tbody tr th {\n",
              "        vertical-align: top;\n",
              "    }\n",
              "\n",
              "    .dataframe thead th {\n",
              "        text-align: right;\n",
              "    }\n",
              "</style>\n",
              "<table border=\"1\" class=\"dataframe\">\n",
              "  <thead>\n",
              "    <tr style=\"text-align: right;\">\n",
              "      <th></th>\n",
              "      <th>user_id</th>\n",
              "      <th>item_id</th>\n",
              "      <th>last_watch_dt</th>\n",
              "      <th>total_dur</th>\n",
              "      <th>watched_pct</th>\n",
              "      <th>target</th>\n",
              "    </tr>\n",
              "  </thead>\n",
              "  <tbody>\n",
              "    <tr>\n",
              "      <th>3410711</th>\n",
              "      <td>208171</td>\n",
              "      <td>3182</td>\n",
              "      <td>2021-07-16</td>\n",
              "      <td>28798</td>\n",
              "      <td>100.0</td>\n",
              "      <td>1</td>\n",
              "    </tr>\n",
              "    <tr>\n",
              "      <th>3410712</th>\n",
              "      <td>192280</td>\n",
              "      <td>11348</td>\n",
              "      <td>2021-07-16</td>\n",
              "      <td>7804</td>\n",
              "      <td>100.0</td>\n",
              "      <td>1</td>\n",
              "    </tr>\n",
              "    <tr>\n",
              "      <th>3410713</th>\n",
              "      <td>808491</td>\n",
              "      <td>10240</td>\n",
              "      <td>2021-07-16</td>\n",
              "      <td>161</td>\n",
              "      <td>3.0</td>\n",
              "      <td>0</td>\n",
              "    </tr>\n",
              "    <tr>\n",
              "      <th>3410714</th>\n",
              "      <td>702862</td>\n",
              "      <td>144</td>\n",
              "      <td>2021-07-16</td>\n",
              "      <td>1578</td>\n",
              "      <td>21.0</td>\n",
              "      <td>0</td>\n",
              "    </tr>\n",
              "    <tr>\n",
              "      <th>3410715</th>\n",
              "      <td>880491</td>\n",
              "      <td>16228</td>\n",
              "      <td>2021-07-16</td>\n",
              "      <td>67937</td>\n",
              "      <td>36.0</td>\n",
              "      <td>0</td>\n",
              "    </tr>\n",
              "  </tbody>\n",
              "</table>\n",
              "</div>"
            ],
            "text/plain": [
              "         user_id  item_id last_watch_dt  total_dur  watched_pct  target\n",
              "3410711   208171     3182    2021-07-16      28798        100.0       1\n",
              "3410712   192280    11348    2021-07-16       7804        100.0       1\n",
              "3410713   808491    10240    2021-07-16        161          3.0       0\n",
              "3410714   702862      144    2021-07-16       1578         21.0       0\n",
              "3410715   880491    16228    2021-07-16      67937         36.0       0"
            ]
          },
          "execution_count": 61,
          "metadata": {},
          "output_type": "execute_result"
        }
      ],
      "source": [
        "valid_stage_1.head()"
      ]
    },
    {
      "cell_type": "code",
      "execution_count": null,
      "id": "668aba2c",
      "metadata": {
        "execution": {
          "iopub.execute_input": "2025-04-07T01:21:48.616334Z",
          "iopub.status.busy": "2025-04-07T01:21:48.616005Z",
          "iopub.status.idle": "2025-04-07T01:21:48.621011Z",
          "shell.execute_reply": "2025-04-07T01:21:48.620175Z"
        },
        "papermill": {
          "duration": 0.036723,
          "end_time": "2025-04-07T01:21:48.622193",
          "exception": false,
          "start_time": "2025-04-07T01:21:48.585470",
          "status": "completed"
        },
        "tags": [],
        "id": "668aba2c",
        "outputId": "84a208f4-99c6-4524-8cfa-0e0d91c8723a"
      },
      "outputs": [
        {
          "data": {
            "text/plain": [
              "(1456245, 6)"
            ]
          },
          "execution_count": 62,
          "metadata": {},
          "output_type": "execute_result"
        }
      ],
      "source": [
        "valid_stage_1.shape"
      ]
    },
    {
      "cell_type": "code",
      "execution_count": null,
      "id": "22c0cd87",
      "metadata": {
        "execution": {
          "iopub.execute_input": "2025-04-07T01:21:48.683404Z",
          "iopub.status.busy": "2025-04-07T01:21:48.683093Z",
          "iopub.status.idle": "2025-04-07T01:21:51.901177Z",
          "shell.execute_reply": "2025-04-07T01:21:51.900391Z"
        },
        "papermill": {
          "duration": 3.250266,
          "end_time": "2025-04-07T01:21:51.902798",
          "exception": false,
          "start_time": "2025-04-07T01:21:48.652532",
          "status": "completed"
        },
        "tags": [],
        "id": "22c0cd87"
      },
      "outputs": [],
      "source": [
        "df_l2_train = valid_stage_1[['user_id', 'item_id', 'target']].merge(df_l2, on=['user_id', 'item_id'], how='left')"
      ]
    },
    {
      "cell_type": "code",
      "execution_count": null,
      "id": "9318f74f",
      "metadata": {
        "execution": {
          "iopub.execute_input": "2025-04-07T01:21:51.964617Z",
          "iopub.status.busy": "2025-04-07T01:21:51.964273Z",
          "iopub.status.idle": "2025-04-07T01:21:51.969149Z",
          "shell.execute_reply": "2025-04-07T01:21:51.968496Z"
        },
        "papermill": {
          "duration": 0.036738,
          "end_time": "2025-04-07T01:21:51.970431",
          "exception": false,
          "start_time": "2025-04-07T01:21:51.933693",
          "status": "completed"
        },
        "tags": [],
        "id": "9318f74f",
        "outputId": "421bc27e-3b00-405c-f2fa-9945a661ade9"
      },
      "outputs": [
        {
          "data": {
            "text/plain": [
              "((1456245, 6), (1456245, 6))"
            ]
          },
          "execution_count": 64,
          "metadata": {},
          "output_type": "execute_result"
        }
      ],
      "source": [
        "df_l2_train.shape, valid_stage_1.shape"
      ]
    },
    {
      "cell_type": "code",
      "execution_count": null,
      "id": "0a72f0ba",
      "metadata": {
        "execution": {
          "iopub.execute_input": "2025-04-07T01:21:52.032285Z",
          "iopub.status.busy": "2025-04-07T01:21:52.032000Z",
          "iopub.status.idle": "2025-04-07T01:21:55.812914Z",
          "shell.execute_reply": "2025-04-07T01:21:55.811783Z"
        },
        "papermill": {
          "duration": 3.813327,
          "end_time": "2025-04-07T01:21:55.814524",
          "exception": false,
          "start_time": "2025-04-07T01:21:52.001197",
          "status": "completed"
        },
        "tags": [],
        "id": "0a72f0ba",
        "outputId": "cb096a3d-b011-4ca0-cfaf-1604c74bda9e"
      },
      "outputs": [
        {
          "name": "stdout",
          "output_type": "stream",
          "text": [
            "Note: you may need to restart the kernel to use updated packages.\n"
          ]
        }
      ],
      "source": [
        "%pip install rbo -q"
      ]
    },
    {
      "cell_type": "code",
      "execution_count": null,
      "id": "b76b81db",
      "metadata": {
        "execution": {
          "iopub.execute_input": "2025-04-07T01:21:55.876327Z",
          "iopub.status.busy": "2025-04-07T01:21:55.876005Z",
          "iopub.status.idle": "2025-04-07T01:21:55.885874Z",
          "shell.execute_reply": "2025-04-07T01:21:55.885180Z"
        },
        "papermill": {
          "duration": 0.041957,
          "end_time": "2025-04-07T01:21:55.887163",
          "exception": false,
          "start_time": "2025-04-07T01:21:55.845206",
          "status": "completed"
        },
        "tags": [],
        "id": "b76b81db"
      },
      "outputs": [],
      "source": [
        "from rbo import RankingSimilarity\n",
        "\n",
        "def get_rbo(model1, model2, user_ids, k=10):\n",
        "    scores = []\n",
        "    for uid in user_ids[:10000]:\n",
        "        try:\n",
        "            rec1 = model1.get_top_k(uid, k)\n",
        "            rec2 = model2.get_top_k(uid, k)\n",
        "            if rec1 and rec2:\n",
        "                rbo_score = RankingSimilarity(rec1, rec2).rbo()\n",
        "                scores.append(rbo_score)\n",
        "        except Exception as e:\n",
        "            print(f\"Ошибка у user {uid}: {e}\")\n",
        "    return np.mean(scores)"
      ]
    },
    {
      "cell_type": "markdown",
      "id": "e886040e",
      "metadata": {
        "papermill": {
          "duration": 0.029834,
          "end_time": "2025-04-07T01:21:55.947571",
          "exception": false,
          "start_time": "2025-04-07T01:21:55.917737",
          "status": "completed"
        },
        "tags": [],
        "id": "e886040e"
      },
      "source": [
        "Не получилось посчитать RBO с GRU4Rec, так как для пользователей валидации не оказалось историй (или я запутался)."
      ]
    },
    {
      "cell_type": "code",
      "execution_count": null,
      "id": "e3adbac5",
      "metadata": {
        "execution": {
          "iopub.execute_input": "2025-04-07T01:21:56.009789Z",
          "iopub.status.busy": "2025-04-07T01:21:56.009381Z",
          "iopub.status.idle": "2025-04-07T01:22:09.415999Z",
          "shell.execute_reply": "2025-04-07T01:22:09.415096Z"
        },
        "papermill": {
          "duration": 13.438939,
          "end_time": "2025-04-07T01:22:09.417376",
          "exception": false,
          "start_time": "2025-04-07T01:21:55.978437",
          "status": "completed"
        },
        "tags": [],
        "id": "e3adbac5",
        "outputId": "87e6bbec-276d-4748-fde6-5a34807494cf"
      },
      "outputs": [
        {
          "name": "stdout",
          "output_type": "stream",
          "text": [
            "RBO между TopK и ALS: 0.1835\n"
          ]
        }
      ],
      "source": [
        "user_ids = valid_stage_1['user_id'].unique()\n",
        "\n",
        "rbo_top_als = get_rbo(top_wrapper, als_wrapper, user_ids, k=10)\n",
        "print(f\"RBO между TopK и ALS: {rbo_top_als:.4f}\")"
      ]
    },
    {
      "cell_type": "markdown",
      "id": "8c87f814",
      "metadata": {
        "papermill": {
          "duration": 0.02971,
          "end_time": "2025-04-07T01:22:09.479466",
          "exception": false,
          "start_time": "2025-04-07T01:22:09.449756",
          "status": "completed"
        },
        "tags": [],
        "id": "8c87f814"
      },
      "source": [
        "Пересечения между рекомендациями двух моделей довольно небольшие, они предлагают разные кандидаты. Это хорошо для второго уровня (L2)"
      ]
    },
    {
      "cell_type": "code",
      "execution_count": null,
      "id": "63428df7",
      "metadata": {
        "execution": {
          "iopub.execute_input": "2025-04-07T01:22:09.540727Z",
          "iopub.status.busy": "2025-04-07T01:22:09.540360Z",
          "iopub.status.idle": "2025-04-07T01:22:11.635298Z",
          "shell.execute_reply": "2025-04-07T01:22:11.634527Z"
        },
        "papermill": {
          "duration": 2.127015,
          "end_time": "2025-04-07T01:22:11.636526",
          "exception": false,
          "start_time": "2025-04-07T01:22:09.509511",
          "status": "completed"
        },
        "tags": [],
        "id": "63428df7",
        "outputId": "2c1a0d6b-18cb-4a0e-8be6-25322ca9868e"
      },
      "outputs": [
        {
          "name": "stdout",
          "output_type": "stream",
          "text": [
            "Personalization TopK: 0.0\n",
            "Personalization ALS: 0.9352\n"
          ]
        }
      ],
      "source": [
        "def personalization(recommendations):\n",
        "    import numpy as np\n",
        "    from sklearn.metrics.pairwise import cosine_similarity\n",
        "\n",
        "    item_sets = [set(rec) for rec in recommendations.values() if rec]\n",
        "    overlap = 0\n",
        "    total = 0\n",
        "    for i in range(len(item_sets)):\n",
        "        for j in range(i + 1, len(item_sets)):\n",
        "            union = item_sets[i] | item_sets[j]\n",
        "            if not union:\n",
        "                continue\n",
        "            overlap += len(item_sets[i] & item_sets[j]) / len(union)\n",
        "            total += 1\n",
        "    return round(1 - (overlap / total), 4) if total > 0 else None\n",
        "\n",
        "from collections import defaultdict\n",
        "\n",
        "def get_user2items(model, user_ids, k=10):\n",
        "    user2items = defaultdict(list)\n",
        "    for uid in user_ids[:1000]:\n",
        "        user2items[uid] = model.get_top_k(uid, k)\n",
        "    return user2items\n",
        "\n",
        "top_items = get_user2items(top_wrapper, valid_stage_1['user_id'].unique())\n",
        "als_items = get_user2items(als_wrapper, valid_stage_1['user_id'].unique())\n",
        "\n",
        "print('Personalization TopK:', personalization(top_items))\n",
        "print('Personalization ALS:', personalization(als_items))"
      ]
    },
    {
      "cell_type": "markdown",
      "id": "19ae029b",
      "metadata": {
        "papermill": {
          "duration": 0.042219,
          "end_time": "2025-04-07T01:22:11.727552",
          "exception": false,
          "start_time": "2025-04-07T01:22:11.685333",
          "status": "completed"
        },
        "tags": [],
        "id": "19ae029b"
      },
      "source": [
        "TopPopular рекомендует одни и те же айтемы всем пользователям → нулевая персонализация.\n",
        "ALS выдает разнообразные персональные рекомендации, почти не повторяющиеся между пользователями, отлично!"
      ]
    },
    {
      "cell_type": "markdown",
      "id": "8d29b216",
      "metadata": {
        "id": "8d29b216",
        "papermill": {
          "duration": 0.029836,
          "end_time": "2025-04-07T01:22:11.787989",
          "exception": false,
          "start_time": "2025-04-07T01:22:11.758153",
          "status": "completed"
        },
        "tags": []
      },
      "source": [
        "\n",
        "### 2 Этап. Генерация и сборка признаков. (max 2 балла)\n",
        "Необходимо собрать минимум 10 осмысленных (`np.radndom.rand()` не подойдет) признаков, при этом:\n",
        "1. 2 должны относиться только к сущности \"пользователь\" (например средний % просмотра фильмов у этой возрастной категории)\n",
        "2. 2 должны относиться только к сущности \"айтем\" (например средний средний % просмотра данного фильма)\n",
        "3. 6 признаков, которые показывают связь пользователя и айтема (например средний % просмотра фильмов с данным актером (айтем) у пользователей с таким же полом (пользователь)).\n",
        "\n",
        "### ВАЖНО!  \n",
        "\n",
        "1. **В датасете есть колонка `watched_prct`. Ее можно использовать для генерации признаков (например сколько пользователь в среднем смотрит фильмы), но нельзя подавать в модель, как отдельную фичу, потому что она напрямую связана с target.**\n",
        "2. **Все признаки должны быть собраны без дата лика, то есть если пользователь посмотрел фильм 10 августа, то признаки мы можем считать только на данных до 9 августа включительно.**\n",
        "\n",
        "\n",
        "### Разбалловка\n",
        "Обучение ранкера будет проходить на `valid_stage_1`, как  раз на которой мы валидировали модели, а тестировать на `test`. Поэтому есть 2 варианта сборки признаков, **реализовать нужно только 1 из них:**\n",
        "1. Для обучения собираем признаки на первый день `valid_stage_1`, а для теста на первый день `test`. Например, если `valid_stage_1` начинается 5 сентября, то все признаки мы можем собирать только по 4 сентября включительно. **(1 балл)**\n",
        "2. Признаки будем собирать честно на каждый день, то есть на 5 сентября собираем с начала до 4, на 6 сентября с начала до 5 и т.д. **(2 балла)**"
      ]
    },
    {
      "cell_type": "markdown",
      "source": [
        "Сделаем вариант номер 2, конечно же - честные фичи по срезам."
      ],
      "metadata": {
        "id": "pFjlRwUIzxAV"
      },
      "id": "pFjlRwUIzxAV"
    },
    {
      "cell_type": "code",
      "execution_count": null,
      "id": "f30b7011",
      "metadata": {
        "execution": {
          "iopub.execute_input": "2025-04-07T01:22:11.850080Z",
          "iopub.status.busy": "2025-04-07T01:22:11.849776Z",
          "iopub.status.idle": "2025-04-07T01:22:11.859856Z",
          "shell.execute_reply": "2025-04-07T01:22:11.859085Z"
        },
        "papermill": {
          "duration": 0.042766,
          "end_time": "2025-04-07T01:22:11.861119",
          "exception": false,
          "start_time": "2025-04-07T01:22:11.818353",
          "status": "completed"
        },
        "tags": [],
        "id": "f30b7011",
        "outputId": "b3d9e2df-93a3-4f2d-cc9d-b8117f528bdd"
      },
      "outputs": [
        {
          "data": {
            "text/html": [
              "<div>\n",
              "<style scoped>\n",
              "    .dataframe tbody tr th:only-of-type {\n",
              "        vertical-align: middle;\n",
              "    }\n",
              "\n",
              "    .dataframe tbody tr th {\n",
              "        vertical-align: top;\n",
              "    }\n",
              "\n",
              "    .dataframe thead th {\n",
              "        text-align: right;\n",
              "    }\n",
              "</style>\n",
              "<table border=\"1\" class=\"dataframe\">\n",
              "  <thead>\n",
              "    <tr style=\"text-align: right;\">\n",
              "      <th></th>\n",
              "      <th>user_id</th>\n",
              "      <th>item_id</th>\n",
              "      <th>last_watch_dt</th>\n",
              "      <th>total_dur</th>\n",
              "      <th>watched_pct</th>\n",
              "      <th>target</th>\n",
              "    </tr>\n",
              "  </thead>\n",
              "  <tbody>\n",
              "    <tr>\n",
              "      <th>3410711</th>\n",
              "      <td>208171</td>\n",
              "      <td>3182</td>\n",
              "      <td>2021-07-16</td>\n",
              "      <td>28798</td>\n",
              "      <td>100.0</td>\n",
              "      <td>1</td>\n",
              "    </tr>\n",
              "    <tr>\n",
              "      <th>3410712</th>\n",
              "      <td>192280</td>\n",
              "      <td>11348</td>\n",
              "      <td>2021-07-16</td>\n",
              "      <td>7804</td>\n",
              "      <td>100.0</td>\n",
              "      <td>1</td>\n",
              "    </tr>\n",
              "    <tr>\n",
              "      <th>3410713</th>\n",
              "      <td>808491</td>\n",
              "      <td>10240</td>\n",
              "      <td>2021-07-16</td>\n",
              "      <td>161</td>\n",
              "      <td>3.0</td>\n",
              "      <td>0</td>\n",
              "    </tr>\n",
              "  </tbody>\n",
              "</table>\n",
              "</div>"
            ],
            "text/plain": [
              "         user_id  item_id last_watch_dt  total_dur  watched_pct  target\n",
              "3410711   208171     3182    2021-07-16      28798        100.0       1\n",
              "3410712   192280    11348    2021-07-16       7804        100.0       1\n",
              "3410713   808491    10240    2021-07-16        161          3.0       0"
            ]
          },
          "execution_count": 69,
          "metadata": {},
          "output_type": "execute_result"
        }
      ],
      "source": [
        "valid_stage_1.head(3)"
      ]
    },
    {
      "cell_type": "code",
      "execution_count": null,
      "id": "c95f4bf9",
      "metadata": {
        "execution": {
          "iopub.execute_input": "2025-04-07T01:22:11.924468Z",
          "iopub.status.busy": "2025-04-07T01:22:11.924157Z",
          "iopub.status.idle": "2025-04-07T01:22:11.932554Z",
          "shell.execute_reply": "2025-04-07T01:22:11.931796Z"
        },
        "papermill": {
          "duration": 0.04084,
          "end_time": "2025-04-07T01:22:11.933694",
          "exception": false,
          "start_time": "2025-04-07T01:22:11.892854",
          "status": "completed"
        },
        "tags": [],
        "id": "c95f4bf9",
        "outputId": "4b41d6f2-cfa5-4574-dcc4-59c0e25f3faa"
      },
      "outputs": [
        {
          "data": {
            "text/html": [
              "<div>\n",
              "<style scoped>\n",
              "    .dataframe tbody tr th:only-of-type {\n",
              "        vertical-align: middle;\n",
              "    }\n",
              "\n",
              "    .dataframe tbody tr th {\n",
              "        vertical-align: top;\n",
              "    }\n",
              "\n",
              "    .dataframe thead th {\n",
              "        text-align: right;\n",
              "    }\n",
              "</style>\n",
              "<table border=\"1\" class=\"dataframe\">\n",
              "  <thead>\n",
              "    <tr style=\"text-align: right;\">\n",
              "      <th></th>\n",
              "      <th>user_id</th>\n",
              "      <th>item_id</th>\n",
              "      <th>last_watch_dt</th>\n",
              "      <th>total_dur</th>\n",
              "      <th>watched_pct</th>\n",
              "      <th>target</th>\n",
              "    </tr>\n",
              "  </thead>\n",
              "  <tbody>\n",
              "    <tr>\n",
              "      <th>0</th>\n",
              "      <td>718866</td>\n",
              "      <td>6382</td>\n",
              "      <td>2021-08-13</td>\n",
              "      <td>10309</td>\n",
              "      <td>19.0</td>\n",
              "      <td>0</td>\n",
              "    </tr>\n",
              "    <tr>\n",
              "      <th>1</th>\n",
              "      <td>147119</td>\n",
              "      <td>13865</td>\n",
              "      <td>2021-08-13</td>\n",
              "      <td>1666</td>\n",
              "      <td>26.0</td>\n",
              "      <td>0</td>\n",
              "    </tr>\n",
              "    <tr>\n",
              "      <th>2</th>\n",
              "      <td>1079425</td>\n",
              "      <td>4141</td>\n",
              "      <td>2021-08-13</td>\n",
              "      <td>774</td>\n",
              "      <td>10.0</td>\n",
              "      <td>0</td>\n",
              "    </tr>\n",
              "  </tbody>\n",
              "</table>\n",
              "</div>"
            ],
            "text/plain": [
              "   user_id  item_id last_watch_dt  total_dur  watched_pct  target\n",
              "0   718866     6382    2021-08-13      10309         19.0       0\n",
              "1   147119    13865    2021-08-13       1666         26.0       0\n",
              "2  1079425     4141    2021-08-13        774         10.0       0"
            ]
          },
          "execution_count": 70,
          "metadata": {},
          "output_type": "execute_result"
        }
      ],
      "source": [
        "test.head(3)"
      ]
    },
    {
      "cell_type": "code",
      "execution_count": null,
      "id": "2590d7e6",
      "metadata": {
        "execution": {
          "iopub.execute_input": "2025-04-07T01:22:11.996678Z",
          "iopub.status.busy": "2025-04-07T01:22:11.996356Z",
          "iopub.status.idle": "2025-04-07T01:22:12.005118Z",
          "shell.execute_reply": "2025-04-07T01:22:12.004396Z"
        },
        "papermill": {
          "duration": 0.042181,
          "end_time": "2025-04-07T01:22:12.006467",
          "exception": false,
          "start_time": "2025-04-07T01:22:11.964286",
          "status": "completed"
        },
        "tags": [],
        "id": "2590d7e6",
        "outputId": "84914fdd-2651-4a7c-b9ce-0a76e9690453"
      },
      "outputs": [
        {
          "data": {
            "text/html": [
              "<div>\n",
              "<style scoped>\n",
              "    .dataframe tbody tr th:only-of-type {\n",
              "        vertical-align: middle;\n",
              "    }\n",
              "\n",
              "    .dataframe tbody tr th {\n",
              "        vertical-align: top;\n",
              "    }\n",
              "\n",
              "    .dataframe thead th {\n",
              "        text-align: right;\n",
              "    }\n",
              "</style>\n",
              "<table border=\"1\" class=\"dataframe\">\n",
              "  <thead>\n",
              "    <tr style=\"text-align: right;\">\n",
              "      <th></th>\n",
              "      <th>user_id</th>\n",
              "      <th>age</th>\n",
              "      <th>income</th>\n",
              "      <th>sex</th>\n",
              "      <th>kids_flg</th>\n",
              "    </tr>\n",
              "  </thead>\n",
              "  <tbody>\n",
              "    <tr>\n",
              "      <th>0</th>\n",
              "      <td>973171</td>\n",
              "      <td>age_25_34</td>\n",
              "      <td>income_60_90</td>\n",
              "      <td>М</td>\n",
              "      <td>1</td>\n",
              "    </tr>\n",
              "    <tr>\n",
              "      <th>1</th>\n",
              "      <td>962099</td>\n",
              "      <td>age_18_24</td>\n",
              "      <td>income_20_40</td>\n",
              "      <td>М</td>\n",
              "      <td>0</td>\n",
              "    </tr>\n",
              "    <tr>\n",
              "      <th>2</th>\n",
              "      <td>1047345</td>\n",
              "      <td>age_45_54</td>\n",
              "      <td>income_40_60</td>\n",
              "      <td>Ж</td>\n",
              "      <td>0</td>\n",
              "    </tr>\n",
              "  </tbody>\n",
              "</table>\n",
              "</div>"
            ],
            "text/plain": [
              "   user_id        age        income sex  kids_flg\n",
              "0   973171  age_25_34  income_60_90   М         1\n",
              "1   962099  age_18_24  income_20_40   М         0\n",
              "2  1047345  age_45_54  income_40_60   Ж         0"
            ]
          },
          "execution_count": 71,
          "metadata": {},
          "output_type": "execute_result"
        }
      ],
      "source": [
        "users.head(3)"
      ]
    },
    {
      "cell_type": "code",
      "execution_count": null,
      "id": "d760fdbb",
      "metadata": {
        "execution": {
          "iopub.execute_input": "2025-04-07T01:22:12.070417Z",
          "iopub.status.busy": "2025-04-07T01:22:12.070035Z",
          "iopub.status.idle": "2025-04-07T01:22:12.085818Z",
          "shell.execute_reply": "2025-04-07T01:22:12.084979Z"
        },
        "papermill": {
          "duration": 0.04906,
          "end_time": "2025-04-07T01:22:12.087234",
          "exception": false,
          "start_time": "2025-04-07T01:22:12.038174",
          "status": "completed"
        },
        "tags": [],
        "id": "d760fdbb",
        "outputId": "24d37666-61eb-492e-9991-75a415a77954"
      },
      "outputs": [
        {
          "name": "stderr",
          "output_type": "stream",
          "text": [
            "/usr/local/lib/python3.10/dist-packages/pandas/io/formats/format.py:1458: RuntimeWarning: invalid value encountered in greater\n",
            "  has_large_values = (abs_vals > 1e6).any()\n",
            "/usr/local/lib/python3.10/dist-packages/pandas/io/formats/format.py:1459: RuntimeWarning: invalid value encountered in less\n",
            "  has_small_values = ((abs_vals < 10 ** (-self.digits)) & (abs_vals > 0)).any()\n",
            "/usr/local/lib/python3.10/dist-packages/pandas/io/formats/format.py:1459: RuntimeWarning: invalid value encountered in greater\n",
            "  has_small_values = ((abs_vals < 10 ** (-self.digits)) & (abs_vals > 0)).any()\n"
          ]
        },
        {
          "data": {
            "text/html": [
              "<div>\n",
              "<style scoped>\n",
              "    .dataframe tbody tr th:only-of-type {\n",
              "        vertical-align: middle;\n",
              "    }\n",
              "\n",
              "    .dataframe tbody tr th {\n",
              "        vertical-align: top;\n",
              "    }\n",
              "\n",
              "    .dataframe thead th {\n",
              "        text-align: right;\n",
              "    }\n",
              "</style>\n",
              "<table border=\"1\" class=\"dataframe\">\n",
              "  <thead>\n",
              "    <tr style=\"text-align: right;\">\n",
              "      <th></th>\n",
              "      <th>item_id</th>\n",
              "      <th>content_type</th>\n",
              "      <th>title</th>\n",
              "      <th>title_orig</th>\n",
              "      <th>release_year</th>\n",
              "      <th>genres</th>\n",
              "      <th>countries</th>\n",
              "      <th>for_kids</th>\n",
              "      <th>age_rating</th>\n",
              "      <th>studios</th>\n",
              "      <th>directors</th>\n",
              "      <th>actors</th>\n",
              "      <th>description</th>\n",
              "      <th>keywords</th>\n",
              "    </tr>\n",
              "  </thead>\n",
              "  <tbody>\n",
              "    <tr>\n",
              "      <th>0</th>\n",
              "      <td>10711</td>\n",
              "      <td>film</td>\n",
              "      <td>Поговори с ней</td>\n",
              "      <td>Hable con ella</td>\n",
              "      <td>2002.0</td>\n",
              "      <td>драмы, зарубежные, детективы, мелодрамы</td>\n",
              "      <td>Испания</td>\n",
              "      <td>NaN</td>\n",
              "      <td>16.0</td>\n",
              "      <td>NaN</td>\n",
              "      <td>Педро Альмодовар</td>\n",
              "      <td>Адольфо Фернандес, Ана Фернандес, Дарио Гранди...</td>\n",
              "      <td>Мелодрама легендарного Педро Альмодовара «Пого...</td>\n",
              "      <td>Поговори, ней, 2002, Испания, друзья, любовь, ...</td>\n",
              "    </tr>\n",
              "    <tr>\n",
              "      <th>1</th>\n",
              "      <td>2508</td>\n",
              "      <td>film</td>\n",
              "      <td>Голые перцы</td>\n",
              "      <td>Search Party</td>\n",
              "      <td>2014.0</td>\n",
              "      <td>зарубежные, приключения, комедии</td>\n",
              "      <td>США</td>\n",
              "      <td>NaN</td>\n",
              "      <td>16.0</td>\n",
              "      <td>NaN</td>\n",
              "      <td>Скот Армстронг</td>\n",
              "      <td>Адам Палли, Брайан Хаски, Дж.Б. Смув, Джейсон ...</td>\n",
              "      <td>Уморительная современная комедия на популярную...</td>\n",
              "      <td>Голые, перцы, 2014, США, друзья, свадьбы, прео...</td>\n",
              "    </tr>\n",
              "    <tr>\n",
              "      <th>2</th>\n",
              "      <td>10716</td>\n",
              "      <td>film</td>\n",
              "      <td>Тактическая сила</td>\n",
              "      <td>Tactical Force</td>\n",
              "      <td>2011.0</td>\n",
              "      <td>криминал, зарубежные, триллеры, боевики, комедии</td>\n",
              "      <td>Канада</td>\n",
              "      <td>NaN</td>\n",
              "      <td>16.0</td>\n",
              "      <td>NaN</td>\n",
              "      <td>Адам П. Калтраро</td>\n",
              "      <td>Адриан Холмс, Даррен Шалави, Джерри Вассерман,...</td>\n",
              "      <td>Профессиональный рестлер Стив Остин («Все или ...</td>\n",
              "      <td>Тактическая, сила, 2011, Канада, бандиты, ганг...</td>\n",
              "    </tr>\n",
              "  </tbody>\n",
              "</table>\n",
              "</div>"
            ],
            "text/plain": [
              "   item_id content_type             title      title_orig  release_year  \\\n",
              "0    10711         film    Поговори с ней  Hable con ella        2002.0   \n",
              "1     2508         film       Голые перцы    Search Party        2014.0   \n",
              "2    10716         film  Тактическая сила  Tactical Force        2011.0   \n",
              "\n",
              "                                             genres countries  for_kids  \\\n",
              "0           драмы, зарубежные, детективы, мелодрамы   Испания       NaN   \n",
              "1                  зарубежные, приключения, комедии       США       NaN   \n",
              "2  криминал, зарубежные, триллеры, боевики, комедии    Канада       NaN   \n",
              "\n",
              "   age_rating studios         directors  \\\n",
              "0        16.0     NaN  Педро Альмодовар   \n",
              "1        16.0     NaN    Скот Армстронг   \n",
              "2        16.0     NaN  Адам П. Калтраро   \n",
              "\n",
              "                                              actors  \\\n",
              "0  Адольфо Фернандес, Ана Фернандес, Дарио Гранди...   \n",
              "1  Адам Палли, Брайан Хаски, Дж.Б. Смув, Джейсон ...   \n",
              "2  Адриан Холмс, Даррен Шалави, Джерри Вассерман,...   \n",
              "\n",
              "                                         description  \\\n",
              "0  Мелодрама легендарного Педро Альмодовара «Пого...   \n",
              "1  Уморительная современная комедия на популярную...   \n",
              "2  Профессиональный рестлер Стив Остин («Все или ...   \n",
              "\n",
              "                                            keywords  \n",
              "0  Поговори, ней, 2002, Испания, друзья, любовь, ...  \n",
              "1  Голые, перцы, 2014, США, друзья, свадьбы, прео...  \n",
              "2  Тактическая, сила, 2011, Канада, бандиты, ганг...  "
            ]
          },
          "execution_count": 72,
          "metadata": {},
          "output_type": "execute_result"
        }
      ],
      "source": [
        "items.head(3)"
      ]
    },
    {
      "cell_type": "code",
      "execution_count": null,
      "id": "d1b0bdac",
      "metadata": {
        "execution": {
          "iopub.execute_input": "2025-04-07T01:22:12.152341Z",
          "iopub.status.busy": "2025-04-07T01:22:12.152020Z",
          "iopub.status.idle": "2025-04-07T01:22:12.156868Z",
          "shell.execute_reply": "2025-04-07T01:22:12.156178Z"
        },
        "papermill": {
          "duration": 0.038598,
          "end_time": "2025-04-07T01:22:12.158082",
          "exception": false,
          "start_time": "2025-04-07T01:22:12.119484",
          "status": "completed"
        },
        "tags": [],
        "id": "d1b0bdac",
        "outputId": "98a54e3f-fd4c-4933-cfae-a61858e65bf0"
      },
      "outputs": [
        {
          "data": {
            "text/plain": [
              "((1456245, 6), (3410711, 6))"
            ]
          },
          "execution_count": 73,
          "metadata": {},
          "output_type": "execute_result"
        }
      ],
      "source": [
        "valid_stage_1.shape, train_stage_1.shape"
      ]
    },
    {
      "cell_type": "code",
      "execution_count": null,
      "id": "1153e877",
      "metadata": {
        "execution": {
          "iopub.execute_input": "2025-04-07T01:22:12.222891Z",
          "iopub.status.busy": "2025-04-07T01:22:12.222561Z",
          "iopub.status.idle": "2025-04-07T01:22:12.227327Z",
          "shell.execute_reply": "2025-04-07T01:22:12.226506Z"
        },
        "papermill": {
          "duration": 0.038741,
          "end_time": "2025-04-07T01:22:12.228508",
          "exception": false,
          "start_time": "2025-04-07T01:22:12.189767",
          "status": "completed"
        },
        "tags": [],
        "id": "1153e877",
        "outputId": "a1f5e3c2-eb23-4b22-c28a-180e8d3fba8b"
      },
      "outputs": [
        {
          "data": {
            "text/plain": [
              "(1456245, 6)"
            ]
          },
          "execution_count": 74,
          "metadata": {},
          "output_type": "execute_result"
        }
      ],
      "source": [
        "df_l2_train.shape"
      ]
    },
    {
      "cell_type": "code",
      "execution_count": null,
      "id": "af09b3d8",
      "metadata": {
        "execution": {
          "iopub.execute_input": "2025-04-07T01:22:12.295904Z",
          "iopub.status.busy": "2025-04-07T01:22:12.295570Z",
          "iopub.status.idle": "2025-04-07T01:22:12.308195Z",
          "shell.execute_reply": "2025-04-07T01:22:12.307330Z"
        },
        "papermill": {
          "duration": 0.046451,
          "end_time": "2025-04-07T01:22:12.309754",
          "exception": false,
          "start_time": "2025-04-07T01:22:12.263303",
          "status": "completed"
        },
        "tags": [],
        "id": "af09b3d8",
        "outputId": "9f3a36ee-3d4f-48d4-e4ff-807fd18424d3"
      },
      "outputs": [
        {
          "name": "stderr",
          "output_type": "stream",
          "text": [
            "/usr/local/lib/python3.10/dist-packages/pandas/io/formats/format.py:1458: RuntimeWarning: invalid value encountered in greater\n",
            "  has_large_values = (abs_vals > 1e6).any()\n",
            "/usr/local/lib/python3.10/dist-packages/pandas/io/formats/format.py:1459: RuntimeWarning: invalid value encountered in less\n",
            "  has_small_values = ((abs_vals < 10 ** (-self.digits)) & (abs_vals > 0)).any()\n",
            "/usr/local/lib/python3.10/dist-packages/pandas/io/formats/format.py:1459: RuntimeWarning: invalid value encountered in greater\n",
            "  has_small_values = ((abs_vals < 10 ** (-self.digits)) & (abs_vals > 0)).any()\n"
          ]
        },
        {
          "data": {
            "text/html": [
              "<div>\n",
              "<style scoped>\n",
              "    .dataframe tbody tr th:only-of-type {\n",
              "        vertical-align: middle;\n",
              "    }\n",
              "\n",
              "    .dataframe tbody tr th {\n",
              "        vertical-align: top;\n",
              "    }\n",
              "\n",
              "    .dataframe thead th {\n",
              "        text-align: right;\n",
              "    }\n",
              "</style>\n",
              "<table border=\"1\" class=\"dataframe\">\n",
              "  <thead>\n",
              "    <tr style=\"text-align: right;\">\n",
              "      <th></th>\n",
              "      <th>user_id</th>\n",
              "      <th>item_id</th>\n",
              "      <th>target</th>\n",
              "      <th>score_topk</th>\n",
              "      <th>score_als</th>\n",
              "      <th>score_gru</th>\n",
              "    </tr>\n",
              "  </thead>\n",
              "  <tbody>\n",
              "    <tr>\n",
              "      <th>0</th>\n",
              "      <td>208171</td>\n",
              "      <td>3182</td>\n",
              "      <td>1</td>\n",
              "      <td>0.0</td>\n",
              "      <td>0.007176</td>\n",
              "      <td>0.0</td>\n",
              "    </tr>\n",
              "    <tr>\n",
              "      <th>1</th>\n",
              "      <td>192280</td>\n",
              "      <td>11348</td>\n",
              "      <td>1</td>\n",
              "      <td>NaN</td>\n",
              "      <td>NaN</td>\n",
              "      <td>NaN</td>\n",
              "    </tr>\n",
              "    <tr>\n",
              "      <th>2</th>\n",
              "      <td>808491</td>\n",
              "      <td>10240</td>\n",
              "      <td>0</td>\n",
              "      <td>NaN</td>\n",
              "      <td>NaN</td>\n",
              "      <td>NaN</td>\n",
              "    </tr>\n",
              "    <tr>\n",
              "      <th>3</th>\n",
              "      <td>702862</td>\n",
              "      <td>144</td>\n",
              "      <td>0</td>\n",
              "      <td>NaN</td>\n",
              "      <td>NaN</td>\n",
              "      <td>NaN</td>\n",
              "    </tr>\n",
              "    <tr>\n",
              "      <th>4</th>\n",
              "      <td>880491</td>\n",
              "      <td>16228</td>\n",
              "      <td>0</td>\n",
              "      <td>NaN</td>\n",
              "      <td>NaN</td>\n",
              "      <td>NaN</td>\n",
              "    </tr>\n",
              "  </tbody>\n",
              "</table>\n",
              "</div>"
            ],
            "text/plain": [
              "   user_id  item_id  target  score_topk  score_als  score_gru\n",
              "0   208171     3182       1         0.0   0.007176        0.0\n",
              "1   192280    11348       1         NaN        NaN        NaN\n",
              "2   808491    10240       0         NaN        NaN        NaN\n",
              "3   702862      144       0         NaN        NaN        NaN\n",
              "4   880491    16228       0         NaN        NaN        NaN"
            ]
          },
          "execution_count": 75,
          "metadata": {},
          "output_type": "execute_result"
        }
      ],
      "source": [
        "df_l2_train.head()"
      ]
    },
    {
      "cell_type": "code",
      "execution_count": null,
      "id": "5d13e8df",
      "metadata": {
        "execution": {
          "iopub.execute_input": "2025-04-07T01:22:12.374590Z",
          "iopub.status.busy": "2025-04-07T01:22:12.374239Z",
          "iopub.status.idle": "2025-04-07T01:22:12.571512Z",
          "shell.execute_reply": "2025-04-07T01:22:12.570537Z"
        },
        "papermill": {
          "duration": 0.23179,
          "end_time": "2025-04-07T01:22:12.573169",
          "exception": false,
          "start_time": "2025-04-07T01:22:12.341379",
          "status": "completed"
        },
        "tags": [],
        "id": "5d13e8df"
      },
      "outputs": [],
      "source": [
        "interactions = pd.concat([train_stage_1, valid_stage_1], ignore_index=True)\n",
        "interactions['last_watch_dt'] = pd.to_datetime(interactions['last_watch_dt'])"
      ]
    },
    {
      "cell_type": "code",
      "execution_count": null,
      "id": "63d32a61",
      "metadata": {
        "execution": {
          "iopub.execute_input": "2025-04-07T01:22:12.639143Z",
          "iopub.status.busy": "2025-04-07T01:22:12.638826Z",
          "iopub.status.idle": "2025-04-07T01:22:12.647537Z",
          "shell.execute_reply": "2025-04-07T01:22:12.646709Z"
        },
        "papermill": {
          "duration": 0.042724,
          "end_time": "2025-04-07T01:22:12.648862",
          "exception": false,
          "start_time": "2025-04-07T01:22:12.606138",
          "status": "completed"
        },
        "tags": [],
        "id": "63d32a61",
        "outputId": "a6f43c56-7441-4a2a-ee8a-59f60e079bcf"
      },
      "outputs": [
        {
          "data": {
            "text/html": [
              "<div>\n",
              "<style scoped>\n",
              "    .dataframe tbody tr th:only-of-type {\n",
              "        vertical-align: middle;\n",
              "    }\n",
              "\n",
              "    .dataframe tbody tr th {\n",
              "        vertical-align: top;\n",
              "    }\n",
              "\n",
              "    .dataframe thead th {\n",
              "        text-align: right;\n",
              "    }\n",
              "</style>\n",
              "<table border=\"1\" class=\"dataframe\">\n",
              "  <thead>\n",
              "    <tr style=\"text-align: right;\">\n",
              "      <th></th>\n",
              "      <th>user_id</th>\n",
              "      <th>item_id</th>\n",
              "      <th>last_watch_dt</th>\n",
              "      <th>total_dur</th>\n",
              "      <th>watched_pct</th>\n",
              "      <th>target</th>\n",
              "    </tr>\n",
              "  </thead>\n",
              "  <tbody>\n",
              "    <tr>\n",
              "      <th>0</th>\n",
              "      <td>718866</td>\n",
              "      <td>6382</td>\n",
              "      <td>2021-08-13</td>\n",
              "      <td>10309</td>\n",
              "      <td>19.0</td>\n",
              "      <td>0</td>\n",
              "    </tr>\n",
              "    <tr>\n",
              "      <th>1</th>\n",
              "      <td>147119</td>\n",
              "      <td>13865</td>\n",
              "      <td>2021-08-13</td>\n",
              "      <td>1666</td>\n",
              "      <td>26.0</td>\n",
              "      <td>0</td>\n",
              "    </tr>\n",
              "    <tr>\n",
              "      <th>2</th>\n",
              "      <td>1079425</td>\n",
              "      <td>4141</td>\n",
              "      <td>2021-08-13</td>\n",
              "      <td>774</td>\n",
              "      <td>10.0</td>\n",
              "      <td>0</td>\n",
              "    </tr>\n",
              "    <tr>\n",
              "      <th>3</th>\n",
              "      <td>810008</td>\n",
              "      <td>15297</td>\n",
              "      <td>2021-08-13</td>\n",
              "      <td>3</td>\n",
              "      <td>0.0</td>\n",
              "      <td>0</td>\n",
              "    </tr>\n",
              "    <tr>\n",
              "      <th>4</th>\n",
              "      <td>1068123</td>\n",
              "      <td>10440</td>\n",
              "      <td>2021-08-13</td>\n",
              "      <td>492</td>\n",
              "      <td>0.0</td>\n",
              "      <td>0</td>\n",
              "    </tr>\n",
              "  </tbody>\n",
              "</table>\n",
              "</div>"
            ],
            "text/plain": [
              "   user_id  item_id last_watch_dt  total_dur  watched_pct  target\n",
              "0   718866     6382    2021-08-13      10309         19.0       0\n",
              "1   147119    13865    2021-08-13       1666         26.0       0\n",
              "2  1079425     4141    2021-08-13        774         10.0       0\n",
              "3   810008    15297    2021-08-13          3          0.0       0\n",
              "4  1068123    10440    2021-08-13        492          0.0       0"
            ]
          },
          "execution_count": 77,
          "metadata": {},
          "output_type": "execute_result"
        }
      ],
      "source": [
        "test.head()"
      ]
    },
    {
      "cell_type": "code",
      "execution_count": null,
      "id": "230e99ed",
      "metadata": {
        "execution": {
          "iopub.execute_input": "2025-04-07T01:22:12.713545Z",
          "iopub.status.busy": "2025-04-07T01:22:12.713207Z",
          "iopub.status.idle": "2025-04-07T01:22:12.717892Z",
          "shell.execute_reply": "2025-04-07T01:22:12.717215Z"
        },
        "papermill": {
          "duration": 0.038659,
          "end_time": "2025-04-07T01:22:12.719147",
          "exception": false,
          "start_time": "2025-04-07T01:22:12.680488",
          "status": "completed"
        },
        "tags": [],
        "id": "230e99ed",
        "outputId": "cd9332a5-5d78-4cd3-d8be-ffe65f537957"
      },
      "outputs": [
        {
          "data": {
            "text/plain": [
              "(608467, 6)"
            ]
          },
          "execution_count": 78,
          "metadata": {},
          "output_type": "execute_result"
        }
      ],
      "source": [
        "test.shape"
      ]
    },
    {
      "cell_type": "code",
      "execution_count": null,
      "id": "c2afe6cb",
      "metadata": {
        "execution": {
          "iopub.execute_input": "2025-04-07T01:22:12.791876Z",
          "iopub.status.busy": "2025-04-07T01:22:12.791561Z",
          "iopub.status.idle": "2025-04-07T01:22:15.627838Z",
          "shell.execute_reply": "2025-04-07T01:22:15.627050Z"
        },
        "papermill": {
          "duration": 2.877572,
          "end_time": "2025-04-07T01:22:15.628979",
          "exception": false,
          "start_time": "2025-04-07T01:22:12.751407",
          "status": "completed"
        },
        "tags": [],
        "id": "c2afe6cb",
        "outputId": "24edb344-f9c3-4a41-ba08-39e18b846d1c"
      },
      "outputs": [
        {
          "name": "stderr",
          "output_type": "stream",
          "text": [
            "/usr/local/lib/python3.10/dist-packages/pandas/io/formats/format.py:1458: RuntimeWarning: invalid value encountered in greater\n",
            "  has_large_values = (abs_vals > 1e6).any()\n",
            "/usr/local/lib/python3.10/dist-packages/pandas/io/formats/format.py:1459: RuntimeWarning: invalid value encountered in less\n",
            "  has_small_values = ((abs_vals < 10 ** (-self.digits)) & (abs_vals > 0)).any()\n",
            "/usr/local/lib/python3.10/dist-packages/pandas/io/formats/format.py:1459: RuntimeWarning: invalid value encountered in greater\n",
            "  has_small_values = ((abs_vals < 10 ** (-self.digits)) & (abs_vals > 0)).any()\n"
          ]
        },
        {
          "data": {
            "text/html": [
              "<div>\n",
              "<style scoped>\n",
              "    .dataframe tbody tr th:only-of-type {\n",
              "        vertical-align: middle;\n",
              "    }\n",
              "\n",
              "    .dataframe tbody tr th {\n",
              "        vertical-align: top;\n",
              "    }\n",
              "\n",
              "    .dataframe thead th {\n",
              "        text-align: right;\n",
              "    }\n",
              "</style>\n",
              "<table border=\"1\" class=\"dataframe\">\n",
              "  <thead>\n",
              "    <tr style=\"text-align: right;\">\n",
              "      <th></th>\n",
              "      <th>user_id</th>\n",
              "      <th>item_id</th>\n",
              "      <th>target</th>\n",
              "      <th>score_topk</th>\n",
              "      <th>score_als</th>\n",
              "      <th>score_gru</th>\n",
              "    </tr>\n",
              "  </thead>\n",
              "  <tbody>\n",
              "    <tr>\n",
              "      <th>0</th>\n",
              "      <td>718866</td>\n",
              "      <td>6382</td>\n",
              "      <td>0</td>\n",
              "      <td>NaN</td>\n",
              "      <td>NaN</td>\n",
              "      <td>NaN</td>\n",
              "    </tr>\n",
              "    <tr>\n",
              "      <th>1</th>\n",
              "      <td>147119</td>\n",
              "      <td>13865</td>\n",
              "      <td>0</td>\n",
              "      <td>NaN</td>\n",
              "      <td>NaN</td>\n",
              "      <td>NaN</td>\n",
              "    </tr>\n",
              "    <tr>\n",
              "      <th>2</th>\n",
              "      <td>1079425</td>\n",
              "      <td>4141</td>\n",
              "      <td>0</td>\n",
              "      <td>NaN</td>\n",
              "      <td>NaN</td>\n",
              "      <td>NaN</td>\n",
              "    </tr>\n",
              "    <tr>\n",
              "      <th>3</th>\n",
              "      <td>810008</td>\n",
              "      <td>15297</td>\n",
              "      <td>0</td>\n",
              "      <td>NaN</td>\n",
              "      <td>NaN</td>\n",
              "      <td>NaN</td>\n",
              "    </tr>\n",
              "    <tr>\n",
              "      <th>4</th>\n",
              "      <td>1068123</td>\n",
              "      <td>10440</td>\n",
              "      <td>0</td>\n",
              "      <td>NaN</td>\n",
              "      <td>NaN</td>\n",
              "      <td>NaN</td>\n",
              "    </tr>\n",
              "  </tbody>\n",
              "</table>\n",
              "</div>"
            ],
            "text/plain": [
              "   user_id  item_id  target  score_topk  score_als  score_gru\n",
              "0   718866     6382       0         NaN        NaN        NaN\n",
              "1   147119    13865       0         NaN        NaN        NaN\n",
              "2  1079425     4141       0         NaN        NaN        NaN\n",
              "3   810008    15297       0         NaN        NaN        NaN\n",
              "4  1068123    10440       0         NaN        NaN        NaN"
            ]
          },
          "execution_count": 79,
          "metadata": {},
          "output_type": "execute_result"
        }
      ],
      "source": [
        "df_l2_test = test[['user_id', 'item_id', 'target']].merge(df_l2, on=['user_id', 'item_id'], how='left')\n",
        "df_l2_test.head()"
      ]
    },
    {
      "cell_type": "code",
      "execution_count": null,
      "id": "0eb17736",
      "metadata": {
        "execution": {
          "iopub.execute_input": "2025-04-07T01:22:15.694478Z",
          "iopub.status.busy": "2025-04-07T01:22:15.694142Z",
          "iopub.status.idle": "2025-04-07T01:22:15.699587Z",
          "shell.execute_reply": "2025-04-07T01:22:15.698750Z"
        },
        "papermill": {
          "duration": 0.039309,
          "end_time": "2025-04-07T01:22:15.700952",
          "exception": false,
          "start_time": "2025-04-07T01:22:15.661643",
          "status": "completed"
        },
        "tags": [],
        "id": "0eb17736",
        "outputId": "f77a3476-ddf2-4b2e-c6db-82846aad8907"
      },
      "outputs": [
        {
          "data": {
            "text/plain": [
              "212645"
            ]
          },
          "execution_count": 80,
          "metadata": {},
          "output_type": "execute_result"
        }
      ],
      "source": [
        "df_l2_test.target.sum()"
      ]
    },
    {
      "cell_type": "code",
      "execution_count": null,
      "id": "227a8ddb",
      "metadata": {
        "execution": {
          "iopub.execute_input": "2025-04-07T01:22:15.767916Z",
          "iopub.status.busy": "2025-04-07T01:22:15.767569Z",
          "iopub.status.idle": "2025-04-07T01:22:15.772526Z",
          "shell.execute_reply": "2025-04-07T01:22:15.771688Z"
        },
        "papermill": {
          "duration": 0.040113,
          "end_time": "2025-04-07T01:22:15.773927",
          "exception": false,
          "start_time": "2025-04-07T01:22:15.733814",
          "status": "completed"
        },
        "tags": [],
        "id": "227a8ddb",
        "outputId": "84a61ed7-8f96-4c8c-e4d1-b7d0098e311f"
      },
      "outputs": [
        {
          "data": {
            "text/plain": [
              "(608467, 6)"
            ]
          },
          "execution_count": 81,
          "metadata": {},
          "output_type": "execute_result"
        }
      ],
      "source": [
        "df_l2_test.shape"
      ]
    },
    {
      "cell_type": "code",
      "execution_count": null,
      "id": "b99b407e",
      "metadata": {
        "execution": {
          "iopub.execute_input": "2025-04-07T01:22:15.839792Z",
          "iopub.status.busy": "2025-04-07T01:22:15.839494Z",
          "iopub.status.idle": "2025-04-07T01:22:15.846367Z",
          "shell.execute_reply": "2025-04-07T01:22:15.845703Z"
        },
        "papermill": {
          "duration": 0.041024,
          "end_time": "2025-04-07T01:22:15.847631",
          "exception": false,
          "start_time": "2025-04-07T01:22:15.806607",
          "status": "completed"
        },
        "tags": [],
        "id": "b99b407e",
        "outputId": "e8da72c5-6677-4bad-d6a2-aaf538b4f5a2"
      },
      "outputs": [
        {
          "data": {
            "text/plain": [
              "570824"
            ]
          },
          "execution_count": 82,
          "metadata": {},
          "output_type": "execute_result"
        }
      ],
      "source": [
        "df_l2_test.score_topk.isna().sum()"
      ]
    },
    {
      "cell_type": "code",
      "execution_count": null,
      "id": "d239d3bf",
      "metadata": {
        "execution": {
          "iopub.execute_input": "2025-04-07T01:22:15.914038Z",
          "iopub.status.busy": "2025-04-07T01:22:15.913746Z",
          "iopub.status.idle": "2025-04-07T01:22:15.922105Z",
          "shell.execute_reply": "2025-04-07T01:22:15.921364Z"
        },
        "papermill": {
          "duration": 0.043265,
          "end_time": "2025-04-07T01:22:15.923257",
          "exception": false,
          "start_time": "2025-04-07T01:22:15.879992",
          "status": "completed"
        },
        "tags": [],
        "id": "d239d3bf",
        "outputId": "6665484c-2753-4da6-f072-8e7b456f9004"
      },
      "outputs": [
        {
          "data": {
            "text/plain": [
              "34769.0"
            ]
          },
          "execution_count": 83,
          "metadata": {},
          "output_type": "execute_result"
        }
      ],
      "source": [
        "df_l2_test.score_topk.sum()"
      ]
    },
    {
      "cell_type": "code",
      "execution_count": null,
      "id": "1572a8d6",
      "metadata": {
        "execution": {
          "iopub.execute_input": "2025-04-07T01:22:15.991106Z",
          "iopub.status.busy": "2025-04-07T01:22:15.990769Z",
          "iopub.status.idle": "2025-04-07T01:22:15.998531Z",
          "shell.execute_reply": "2025-04-07T01:22:15.997703Z"
        },
        "papermill": {
          "duration": 0.042979,
          "end_time": "2025-04-07T01:22:15.999835",
          "exception": false,
          "start_time": "2025-04-07T01:22:15.956856",
          "status": "completed"
        },
        "tags": [],
        "id": "1572a8d6",
        "outputId": "e37e2db7-39c7-4449-eda5-4b078ab3a152"
      },
      "outputs": [
        {
          "data": {
            "text/plain": [
              "570824"
            ]
          },
          "execution_count": 84,
          "metadata": {},
          "output_type": "execute_result"
        }
      ],
      "source": [
        "df_l2_test.score_als.isna().sum()"
      ]
    },
    {
      "cell_type": "code",
      "execution_count": null,
      "id": "a1bb7329",
      "metadata": {
        "execution": {
          "iopub.execute_input": "2025-04-07T01:22:16.067097Z",
          "iopub.status.busy": "2025-04-07T01:22:16.066794Z",
          "iopub.status.idle": "2025-04-07T01:22:16.073951Z",
          "shell.execute_reply": "2025-04-07T01:22:16.073234Z"
        },
        "papermill": {
          "duration": 0.042213,
          "end_time": "2025-04-07T01:22:16.075105",
          "exception": false,
          "start_time": "2025-04-07T01:22:16.032892",
          "status": "completed"
        },
        "tags": [],
        "id": "a1bb7329",
        "outputId": "daafa022-9f19-4fec-b3de-d1b699ffab0c"
      },
      "outputs": [
        {
          "data": {
            "text/plain": [
              "570824"
            ]
          },
          "execution_count": 85,
          "metadata": {},
          "output_type": "execute_result"
        }
      ],
      "source": [
        "df_l2_test.score_gru.isna().sum()"
      ]
    },
    {
      "cell_type": "code",
      "execution_count": null,
      "id": "10add777",
      "metadata": {
        "execution": {
          "iopub.execute_input": "2025-04-07T01:22:16.144972Z",
          "iopub.status.busy": "2025-04-07T01:22:16.144670Z",
          "iopub.status.idle": "2025-04-07T01:22:19.268160Z",
          "shell.execute_reply": "2025-04-07T01:22:19.267454Z"
        },
        "papermill": {
          "duration": 3.159583,
          "end_time": "2025-04-07T01:22:19.269704",
          "exception": false,
          "start_time": "2025-04-07T01:22:16.110121",
          "status": "completed"
        },
        "tags": [],
        "id": "10add777"
      },
      "outputs": [],
      "source": [
        "df_l2_train_full = valid_stage_1.merge(df_l2, on=['user_id', 'item_id'], how='left')"
      ]
    },
    {
      "cell_type": "code",
      "execution_count": null,
      "id": "d2f6e997",
      "metadata": {
        "execution": {
          "iopub.execute_input": "2025-04-07T01:22:19.339070Z",
          "iopub.status.busy": "2025-04-07T01:22:19.338745Z",
          "iopub.status.idle": "2025-04-07T01:22:19.350849Z",
          "shell.execute_reply": "2025-04-07T01:22:19.350095Z"
        },
        "papermill": {
          "duration": 0.046896,
          "end_time": "2025-04-07T01:22:19.352121",
          "exception": false,
          "start_time": "2025-04-07T01:22:19.305225",
          "status": "completed"
        },
        "tags": [],
        "id": "d2f6e997",
        "outputId": "8648822f-4d69-42e7-faf5-8d98dbedb4b8"
      },
      "outputs": [
        {
          "name": "stderr",
          "output_type": "stream",
          "text": [
            "/usr/local/lib/python3.10/dist-packages/pandas/io/formats/format.py:1458: RuntimeWarning: invalid value encountered in greater\n",
            "  has_large_values = (abs_vals > 1e6).any()\n",
            "/usr/local/lib/python3.10/dist-packages/pandas/io/formats/format.py:1459: RuntimeWarning: invalid value encountered in less\n",
            "  has_small_values = ((abs_vals < 10 ** (-self.digits)) & (abs_vals > 0)).any()\n",
            "/usr/local/lib/python3.10/dist-packages/pandas/io/formats/format.py:1459: RuntimeWarning: invalid value encountered in greater\n",
            "  has_small_values = ((abs_vals < 10 ** (-self.digits)) & (abs_vals > 0)).any()\n"
          ]
        },
        {
          "data": {
            "text/html": [
              "<div>\n",
              "<style scoped>\n",
              "    .dataframe tbody tr th:only-of-type {\n",
              "        vertical-align: middle;\n",
              "    }\n",
              "\n",
              "    .dataframe tbody tr th {\n",
              "        vertical-align: top;\n",
              "    }\n",
              "\n",
              "    .dataframe thead th {\n",
              "        text-align: right;\n",
              "    }\n",
              "</style>\n",
              "<table border=\"1\" class=\"dataframe\">\n",
              "  <thead>\n",
              "    <tr style=\"text-align: right;\">\n",
              "      <th></th>\n",
              "      <th>user_id</th>\n",
              "      <th>item_id</th>\n",
              "      <th>target</th>\n",
              "      <th>score_topk</th>\n",
              "      <th>score_als</th>\n",
              "      <th>score_gru</th>\n",
              "    </tr>\n",
              "  </thead>\n",
              "  <tbody>\n",
              "    <tr>\n",
              "      <th>0</th>\n",
              "      <td>208171</td>\n",
              "      <td>3182</td>\n",
              "      <td>1</td>\n",
              "      <td>0.0</td>\n",
              "      <td>0.007176</td>\n",
              "      <td>0.0</td>\n",
              "    </tr>\n",
              "    <tr>\n",
              "      <th>1</th>\n",
              "      <td>192280</td>\n",
              "      <td>11348</td>\n",
              "      <td>1</td>\n",
              "      <td>NaN</td>\n",
              "      <td>NaN</td>\n",
              "      <td>NaN</td>\n",
              "    </tr>\n",
              "  </tbody>\n",
              "</table>\n",
              "</div>"
            ],
            "text/plain": [
              "   user_id  item_id  target  score_topk  score_als  score_gru\n",
              "0   208171     3182       1         0.0   0.007176        0.0\n",
              "1   192280    11348       1         NaN        NaN        NaN"
            ]
          },
          "execution_count": 87,
          "metadata": {},
          "output_type": "execute_result"
        }
      ],
      "source": [
        "df_l2_train.head(2)"
      ]
    },
    {
      "cell_type": "code",
      "execution_count": null,
      "id": "fca8f04d",
      "metadata": {
        "execution": {
          "iopub.execute_input": "2025-04-07T01:22:19.419383Z",
          "iopub.status.busy": "2025-04-07T01:22:19.419096Z",
          "iopub.status.idle": "2025-04-07T01:22:19.431740Z",
          "shell.execute_reply": "2025-04-07T01:22:19.430986Z"
        },
        "papermill": {
          "duration": 0.047279,
          "end_time": "2025-04-07T01:22:19.433046",
          "exception": false,
          "start_time": "2025-04-07T01:22:19.385767",
          "status": "completed"
        },
        "tags": [],
        "id": "fca8f04d",
        "outputId": "7dd90df2-e67e-4f13-935d-badf8cc14d25"
      },
      "outputs": [
        {
          "name": "stderr",
          "output_type": "stream",
          "text": [
            "/usr/local/lib/python3.10/dist-packages/pandas/io/formats/format.py:1458: RuntimeWarning: invalid value encountered in greater\n",
            "  has_large_values = (abs_vals > 1e6).any()\n",
            "/usr/local/lib/python3.10/dist-packages/pandas/io/formats/format.py:1459: RuntimeWarning: invalid value encountered in less\n",
            "  has_small_values = ((abs_vals < 10 ** (-self.digits)) & (abs_vals > 0)).any()\n",
            "/usr/local/lib/python3.10/dist-packages/pandas/io/formats/format.py:1459: RuntimeWarning: invalid value encountered in greater\n",
            "  has_small_values = ((abs_vals < 10 ** (-self.digits)) & (abs_vals > 0)).any()\n"
          ]
        },
        {
          "data": {
            "text/html": [
              "<div>\n",
              "<style scoped>\n",
              "    .dataframe tbody tr th:only-of-type {\n",
              "        vertical-align: middle;\n",
              "    }\n",
              "\n",
              "    .dataframe tbody tr th {\n",
              "        vertical-align: top;\n",
              "    }\n",
              "\n",
              "    .dataframe thead th {\n",
              "        text-align: right;\n",
              "    }\n",
              "</style>\n",
              "<table border=\"1\" class=\"dataframe\">\n",
              "  <thead>\n",
              "    <tr style=\"text-align: right;\">\n",
              "      <th></th>\n",
              "      <th>user_id</th>\n",
              "      <th>item_id</th>\n",
              "      <th>last_watch_dt</th>\n",
              "      <th>total_dur</th>\n",
              "      <th>watched_pct</th>\n",
              "      <th>target</th>\n",
              "      <th>score_topk</th>\n",
              "      <th>score_als</th>\n",
              "      <th>score_gru</th>\n",
              "    </tr>\n",
              "  </thead>\n",
              "  <tbody>\n",
              "    <tr>\n",
              "      <th>0</th>\n",
              "      <td>208171</td>\n",
              "      <td>3182</td>\n",
              "      <td>2021-07-16</td>\n",
              "      <td>28798</td>\n",
              "      <td>100.0</td>\n",
              "      <td>1</td>\n",
              "      <td>0.0</td>\n",
              "      <td>0.007176</td>\n",
              "      <td>0.0</td>\n",
              "    </tr>\n",
              "    <tr>\n",
              "      <th>1</th>\n",
              "      <td>192280</td>\n",
              "      <td>11348</td>\n",
              "      <td>2021-07-16</td>\n",
              "      <td>7804</td>\n",
              "      <td>100.0</td>\n",
              "      <td>1</td>\n",
              "      <td>NaN</td>\n",
              "      <td>NaN</td>\n",
              "      <td>NaN</td>\n",
              "    </tr>\n",
              "  </tbody>\n",
              "</table>\n",
              "</div>"
            ],
            "text/plain": [
              "   user_id  item_id last_watch_dt  total_dur  watched_pct  target  score_topk  \\\n",
              "0   208171     3182    2021-07-16      28798        100.0       1         0.0   \n",
              "1   192280    11348    2021-07-16       7804        100.0       1         NaN   \n",
              "\n",
              "   score_als  score_gru  \n",
              "0   0.007176        0.0  \n",
              "1        NaN        NaN  "
            ]
          },
          "execution_count": 88,
          "metadata": {},
          "output_type": "execute_result"
        }
      ],
      "source": [
        "df_l2_train_full.head(2)"
      ]
    },
    {
      "cell_type": "code",
      "execution_count": null,
      "id": "572cfbb1",
      "metadata": {
        "execution": {
          "iopub.execute_input": "2025-04-07T01:22:19.502265Z",
          "iopub.status.busy": "2025-04-07T01:22:19.501972Z",
          "iopub.status.idle": "2025-04-07T01:22:19.506977Z",
          "shell.execute_reply": "2025-04-07T01:22:19.506082Z"
        },
        "papermill": {
          "duration": 0.040666,
          "end_time": "2025-04-07T01:22:19.508234",
          "exception": false,
          "start_time": "2025-04-07T01:22:19.467568",
          "status": "completed"
        },
        "tags": [],
        "id": "572cfbb1",
        "outputId": "2ec8e9d5-4716-4beb-f0c0-ca89b8e4ba76"
      },
      "outputs": [
        {
          "data": {
            "text/plain": [
              "((1456245, 6), (1456245, 9))"
            ]
          },
          "execution_count": 89,
          "metadata": {},
          "output_type": "execute_result"
        }
      ],
      "source": [
        "df_l2_train.shape, df_l2_train_full.shape"
      ]
    },
    {
      "cell_type": "code",
      "execution_count": null,
      "id": "06afac6f",
      "metadata": {
        "execution": {
          "iopub.execute_input": "2025-04-07T01:22:19.575242Z",
          "iopub.status.busy": "2025-04-07T01:22:19.574953Z",
          "iopub.status.idle": "2025-04-07T01:22:22.558561Z",
          "shell.execute_reply": "2025-04-07T01:22:22.557630Z"
        },
        "papermill": {
          "duration": 3.018206,
          "end_time": "2025-04-07T01:22:22.560034",
          "exception": false,
          "start_time": "2025-04-07T01:22:19.541828",
          "status": "completed"
        },
        "tags": [],
        "id": "06afac6f",
        "outputId": "7f03d0a7-f477-4882-da79-051d77018f8b"
      },
      "outputs": [
        {
          "data": {
            "text/plain": [
              "((608467, 9), (608467, 6))"
            ]
          },
          "execution_count": 90,
          "metadata": {},
          "output_type": "execute_result"
        }
      ],
      "source": [
        "df_l2_test_full = test.merge(df_l2, on=['user_id', 'item_id'], how='left')\n",
        "df_l2_test_full.shape, df_l2_test.shape"
      ]
    },
    {
      "cell_type": "code",
      "execution_count": null,
      "id": "c3068663",
      "metadata": {
        "execution": {
          "iopub.execute_input": "2025-04-07T01:22:22.628158Z",
          "iopub.status.busy": "2025-04-07T01:22:22.627853Z",
          "iopub.status.idle": "2025-04-07T01:22:22.641699Z",
          "shell.execute_reply": "2025-04-07T01:22:22.640845Z"
        },
        "papermill": {
          "duration": 0.048751,
          "end_time": "2025-04-07T01:22:22.643078",
          "exception": false,
          "start_time": "2025-04-07T01:22:22.594327",
          "status": "completed"
        },
        "tags": [],
        "id": "c3068663",
        "outputId": "166593d0-d2af-4263-d43b-b972515270a9"
      },
      "outputs": [
        {
          "name": "stderr",
          "output_type": "stream",
          "text": [
            "/usr/local/lib/python3.10/dist-packages/pandas/io/formats/format.py:1458: RuntimeWarning: invalid value encountered in greater\n",
            "  has_large_values = (abs_vals > 1e6).any()\n",
            "/usr/local/lib/python3.10/dist-packages/pandas/io/formats/format.py:1459: RuntimeWarning: invalid value encountered in less\n",
            "  has_small_values = ((abs_vals < 10 ** (-self.digits)) & (abs_vals > 0)).any()\n",
            "/usr/local/lib/python3.10/dist-packages/pandas/io/formats/format.py:1459: RuntimeWarning: invalid value encountered in greater\n",
            "  has_small_values = ((abs_vals < 10 ** (-self.digits)) & (abs_vals > 0)).any()\n"
          ]
        },
        {
          "data": {
            "text/html": [
              "<div>\n",
              "<style scoped>\n",
              "    .dataframe tbody tr th:only-of-type {\n",
              "        vertical-align: middle;\n",
              "    }\n",
              "\n",
              "    .dataframe tbody tr th {\n",
              "        vertical-align: top;\n",
              "    }\n",
              "\n",
              "    .dataframe thead th {\n",
              "        text-align: right;\n",
              "    }\n",
              "</style>\n",
              "<table border=\"1\" class=\"dataframe\">\n",
              "  <thead>\n",
              "    <tr style=\"text-align: right;\">\n",
              "      <th></th>\n",
              "      <th>user_id</th>\n",
              "      <th>item_id</th>\n",
              "      <th>last_watch_dt</th>\n",
              "      <th>total_dur</th>\n",
              "      <th>watched_pct</th>\n",
              "      <th>target</th>\n",
              "      <th>score_topk</th>\n",
              "      <th>score_als</th>\n",
              "      <th>score_gru</th>\n",
              "    </tr>\n",
              "  </thead>\n",
              "  <tbody>\n",
              "    <tr>\n",
              "      <th>0</th>\n",
              "      <td>208171</td>\n",
              "      <td>3182</td>\n",
              "      <td>2021-07-16</td>\n",
              "      <td>28798</td>\n",
              "      <td>100.0</td>\n",
              "      <td>1</td>\n",
              "      <td>0.0</td>\n",
              "      <td>0.007176</td>\n",
              "      <td>0.0</td>\n",
              "    </tr>\n",
              "    <tr>\n",
              "      <th>1</th>\n",
              "      <td>192280</td>\n",
              "      <td>11348</td>\n",
              "      <td>2021-07-16</td>\n",
              "      <td>7804</td>\n",
              "      <td>100.0</td>\n",
              "      <td>1</td>\n",
              "      <td>NaN</td>\n",
              "      <td>NaN</td>\n",
              "      <td>NaN</td>\n",
              "    </tr>\n",
              "    <tr>\n",
              "      <th>2</th>\n",
              "      <td>808491</td>\n",
              "      <td>10240</td>\n",
              "      <td>2021-07-16</td>\n",
              "      <td>161</td>\n",
              "      <td>3.0</td>\n",
              "      <td>0</td>\n",
              "      <td>NaN</td>\n",
              "      <td>NaN</td>\n",
              "      <td>NaN</td>\n",
              "    </tr>\n",
              "    <tr>\n",
              "      <th>3</th>\n",
              "      <td>702862</td>\n",
              "      <td>144</td>\n",
              "      <td>2021-07-16</td>\n",
              "      <td>1578</td>\n",
              "      <td>21.0</td>\n",
              "      <td>0</td>\n",
              "      <td>NaN</td>\n",
              "      <td>NaN</td>\n",
              "      <td>NaN</td>\n",
              "    </tr>\n",
              "    <tr>\n",
              "      <th>4</th>\n",
              "      <td>880491</td>\n",
              "      <td>16228</td>\n",
              "      <td>2021-07-16</td>\n",
              "      <td>67937</td>\n",
              "      <td>36.0</td>\n",
              "      <td>0</td>\n",
              "      <td>NaN</td>\n",
              "      <td>NaN</td>\n",
              "      <td>NaN</td>\n",
              "    </tr>\n",
              "  </tbody>\n",
              "</table>\n",
              "</div>"
            ],
            "text/plain": [
              "   user_id  item_id last_watch_dt  total_dur  watched_pct  target  score_topk  \\\n",
              "0   208171     3182    2021-07-16      28798        100.0       1         0.0   \n",
              "1   192280    11348    2021-07-16       7804        100.0       1         NaN   \n",
              "2   808491    10240    2021-07-16        161          3.0       0         NaN   \n",
              "3   702862      144    2021-07-16       1578         21.0       0         NaN   \n",
              "4   880491    16228    2021-07-16      67937         36.0       0         NaN   \n",
              "\n",
              "   score_als  score_gru  \n",
              "0   0.007176        0.0  \n",
              "1        NaN        NaN  \n",
              "2        NaN        NaN  \n",
              "3        NaN        NaN  \n",
              "4        NaN        NaN  "
            ]
          },
          "execution_count": 91,
          "metadata": {},
          "output_type": "execute_result"
        }
      ],
      "source": [
        "df_l2_train_full.head()"
      ]
    },
    {
      "cell_type": "code",
      "execution_count": null,
      "id": "366484ad",
      "metadata": {
        "execution": {
          "iopub.execute_input": "2025-04-07T01:22:22.712005Z",
          "iopub.status.busy": "2025-04-07T01:22:22.711706Z",
          "iopub.status.idle": "2025-04-07T01:22:22.724743Z",
          "shell.execute_reply": "2025-04-07T01:22:22.723887Z"
        },
        "papermill": {
          "duration": 0.048606,
          "end_time": "2025-04-07T01:22:22.725961",
          "exception": false,
          "start_time": "2025-04-07T01:22:22.677355",
          "status": "completed"
        },
        "tags": [],
        "id": "366484ad",
        "outputId": "4a4ab772-e0fe-4a84-f231-7ff3f4d0481e"
      },
      "outputs": [
        {
          "name": "stderr",
          "output_type": "stream",
          "text": [
            "/usr/local/lib/python3.10/dist-packages/pandas/io/formats/format.py:1458: RuntimeWarning: invalid value encountered in greater\n",
            "  has_large_values = (abs_vals > 1e6).any()\n",
            "/usr/local/lib/python3.10/dist-packages/pandas/io/formats/format.py:1459: RuntimeWarning: invalid value encountered in less\n",
            "  has_small_values = ((abs_vals < 10 ** (-self.digits)) & (abs_vals > 0)).any()\n",
            "/usr/local/lib/python3.10/dist-packages/pandas/io/formats/format.py:1459: RuntimeWarning: invalid value encountered in greater\n",
            "  has_small_values = ((abs_vals < 10 ** (-self.digits)) & (abs_vals > 0)).any()\n"
          ]
        },
        {
          "data": {
            "text/html": [
              "<div>\n",
              "<style scoped>\n",
              "    .dataframe tbody tr th:only-of-type {\n",
              "        vertical-align: middle;\n",
              "    }\n",
              "\n",
              "    .dataframe tbody tr th {\n",
              "        vertical-align: top;\n",
              "    }\n",
              "\n",
              "    .dataframe thead th {\n",
              "        text-align: right;\n",
              "    }\n",
              "</style>\n",
              "<table border=\"1\" class=\"dataframe\">\n",
              "  <thead>\n",
              "    <tr style=\"text-align: right;\">\n",
              "      <th></th>\n",
              "      <th>user_id</th>\n",
              "      <th>item_id</th>\n",
              "      <th>last_watch_dt</th>\n",
              "      <th>total_dur</th>\n",
              "      <th>watched_pct</th>\n",
              "      <th>target</th>\n",
              "      <th>score_topk</th>\n",
              "      <th>score_als</th>\n",
              "      <th>score_gru</th>\n",
              "    </tr>\n",
              "  </thead>\n",
              "  <tbody>\n",
              "    <tr>\n",
              "      <th>0</th>\n",
              "      <td>718866</td>\n",
              "      <td>6382</td>\n",
              "      <td>2021-08-13</td>\n",
              "      <td>10309</td>\n",
              "      <td>19.0</td>\n",
              "      <td>0</td>\n",
              "      <td>NaN</td>\n",
              "      <td>NaN</td>\n",
              "      <td>NaN</td>\n",
              "    </tr>\n",
              "    <tr>\n",
              "      <th>1</th>\n",
              "      <td>147119</td>\n",
              "      <td>13865</td>\n",
              "      <td>2021-08-13</td>\n",
              "      <td>1666</td>\n",
              "      <td>26.0</td>\n",
              "      <td>0</td>\n",
              "      <td>NaN</td>\n",
              "      <td>NaN</td>\n",
              "      <td>NaN</td>\n",
              "    </tr>\n",
              "    <tr>\n",
              "      <th>2</th>\n",
              "      <td>1079425</td>\n",
              "      <td>4141</td>\n",
              "      <td>2021-08-13</td>\n",
              "      <td>774</td>\n",
              "      <td>10.0</td>\n",
              "      <td>0</td>\n",
              "      <td>NaN</td>\n",
              "      <td>NaN</td>\n",
              "      <td>NaN</td>\n",
              "    </tr>\n",
              "    <tr>\n",
              "      <th>3</th>\n",
              "      <td>810008</td>\n",
              "      <td>15297</td>\n",
              "      <td>2021-08-13</td>\n",
              "      <td>3</td>\n",
              "      <td>0.0</td>\n",
              "      <td>0</td>\n",
              "      <td>NaN</td>\n",
              "      <td>NaN</td>\n",
              "      <td>NaN</td>\n",
              "    </tr>\n",
              "    <tr>\n",
              "      <th>4</th>\n",
              "      <td>1068123</td>\n",
              "      <td>10440</td>\n",
              "      <td>2021-08-13</td>\n",
              "      <td>492</td>\n",
              "      <td>0.0</td>\n",
              "      <td>0</td>\n",
              "      <td>NaN</td>\n",
              "      <td>NaN</td>\n",
              "      <td>NaN</td>\n",
              "    </tr>\n",
              "  </tbody>\n",
              "</table>\n",
              "</div>"
            ],
            "text/plain": [
              "   user_id  item_id last_watch_dt  total_dur  watched_pct  target  score_topk  \\\n",
              "0   718866     6382    2021-08-13      10309         19.0       0         NaN   \n",
              "1   147119    13865    2021-08-13       1666         26.0       0         NaN   \n",
              "2  1079425     4141    2021-08-13        774         10.0       0         NaN   \n",
              "3   810008    15297    2021-08-13          3          0.0       0         NaN   \n",
              "4  1068123    10440    2021-08-13        492          0.0       0         NaN   \n",
              "\n",
              "   score_als  score_gru  \n",
              "0        NaN        NaN  \n",
              "1        NaN        NaN  \n",
              "2        NaN        NaN  \n",
              "3        NaN        NaN  \n",
              "4        NaN        NaN  "
            ]
          },
          "execution_count": 92,
          "metadata": {},
          "output_type": "execute_result"
        }
      ],
      "source": [
        "df_l2_test_full.head()"
      ]
    },
    {
      "cell_type": "code",
      "execution_count": null,
      "id": "578e11e0",
      "metadata": {
        "execution": {
          "iopub.execute_input": "2025-04-07T01:22:22.796225Z",
          "iopub.status.busy": "2025-04-07T01:22:22.795935Z",
          "iopub.status.idle": "2025-04-07T01:22:22.871714Z",
          "shell.execute_reply": "2025-04-07T01:22:22.870941Z"
        },
        "papermill": {
          "duration": 0.112004,
          "end_time": "2025-04-07T01:22:22.873232",
          "exception": false,
          "start_time": "2025-04-07T01:22:22.761228",
          "status": "completed"
        },
        "tags": [],
        "id": "578e11e0"
      },
      "outputs": [],
      "source": [
        "from tqdm.notebook import tqdm\n",
        "df_l2_train_full['last_watch_dt'] = pd.to_datetime(df_l2_train_full['last_watch_dt'])\n",
        "df_l2_test_full['last_watch_dt'] = pd.to_datetime(df_l2_test_full['last_watch_dt'])"
      ]
    },
    {
      "cell_type": "code",
      "execution_count": null,
      "id": "4eba9faf",
      "metadata": {
        "execution": {
          "iopub.execute_input": "2025-04-07T01:22:22.942619Z",
          "iopub.status.busy": "2025-04-07T01:22:22.942263Z",
          "iopub.status.idle": "2025-04-07T01:22:22.950702Z",
          "shell.execute_reply": "2025-04-07T01:22:22.949814Z"
        },
        "papermill": {
          "duration": 0.044468,
          "end_time": "2025-04-07T01:22:22.951973",
          "exception": false,
          "start_time": "2025-04-07T01:22:22.907505",
          "status": "completed"
        },
        "tags": [],
        "id": "4eba9faf"
      },
      "outputs": [],
      "source": [
        "from tqdm import tqdm\n",
        "\n",
        "def generate_features_by_day(df_l2, history_df):\n",
        "    df_l2 = df_l2.copy()\n",
        "    history_df = history_df.copy()\n",
        "\n",
        "    df_l2['last_watch_dt'] = pd.to_datetime(df_l2['last_watch_dt'])\n",
        "    history_df['last_watch_dt'] = pd.to_datetime(history_df['last_watch_dt'])\n",
        "\n",
        "    user_feats = []\n",
        "    item_feats = []\n",
        "    user_item_feats = []\n",
        "\n",
        "    for date in tqdm(df_l2['last_watch_dt'].sort_values().unique()):\n",
        "        current_mask = df_l2['last_watch_dt'] == date\n",
        "        current_df = df_l2[current_mask]\n",
        "\n",
        "        past = history_df[history_df['last_watch_dt'] < date]\n",
        "\n",
        "        user_agg = past.groupby('user_id')['watched_pct'].agg([\n",
        "            ('user_mean_watch_pct', 'mean'),\n",
        "            ('user_total_watches', 'count')\n",
        "        ]).reset_index()\n",
        "\n",
        "        item_agg = past.groupby('item_id')['watched_pct'].agg([\n",
        "            ('item_avg_watch_pct', 'mean'),\n",
        "            ('item_watch_count', 'count')\n",
        "        ]).reset_index()\n",
        "\n",
        "        ui = past.groupby(['user_id', 'item_id'])['watched_pct'].agg([\n",
        "            ('user_item_mean_pct', 'mean'),\n",
        "            ('user_item_watch_count', 'count'),\n",
        "            ('user_max_watch_pct_item', 'max'),\n",
        "        ]).reset_index()\n",
        "\n",
        "        last_pct = past.sort_values('last_watch_dt') \\\n",
        "                       .groupby(['user_id', 'item_id'])['watched_pct'] \\\n",
        "                       .last().reset_index(name='user_recent_watch_pct_item')\n",
        "\n",
        "        rewatched = ui.copy()\n",
        "        rewatched['user_rewatched_item'] = (rewatched['user_item_watch_count'] > 1).astype(int)\n",
        "        rewatched = rewatched[['user_id', 'item_id', 'user_rewatched_item']]\n",
        "\n",
        "        share = past.groupby('user_id')['item_id'].count().reset_index(name='total_user_views')\n",
        "        ui_share = ui.merge(share, on='user_id')\n",
        "        ui_share['user_watch_share_of_total'] = ui_share['user_item_watch_count'] / ui_share['total_user_views']\n",
        "        ui_share = ui_share[['user_id', 'item_id', 'user_watch_share_of_total']]\n",
        "\n",
        "        merged = current_df.merge(user_agg, on='user_id', how='left') \\\n",
        "                           .merge(item_agg, on='item_id', how='left') \\\n",
        "                           .merge(ui, on=['user_id', 'item_id'], how='left') \\\n",
        "                           .merge(last_pct, on=['user_id', 'item_id'], how='left') \\\n",
        "                           .merge(rewatched, on=['user_id', 'item_id'], how='left') \\\n",
        "                           .merge(ui_share, on=['user_id', 'item_id'], how='left')\n",
        "\n",
        "        user_feats.append(merged)\n",
        "\n",
        "    result = pd.concat(user_feats, ignore_index=True)\n",
        "\n",
        "    result.fillna(0.0, inplace=True)\n",
        "    return result"
      ]
    },
    {
      "cell_type": "code",
      "execution_count": null,
      "id": "2a5eeb40",
      "metadata": {
        "execution": {
          "iopub.execute_input": "2025-04-07T01:22:23.021367Z",
          "iopub.status.busy": "2025-04-07T01:22:23.021092Z",
          "iopub.status.idle": "2025-04-07T01:29:01.614798Z",
          "shell.execute_reply": "2025-04-07T01:29:01.613964Z"
        },
        "papermill": {
          "duration": 398.629546,
          "end_time": "2025-04-07T01:29:01.616081",
          "exception": false,
          "start_time": "2025-04-07T01:22:22.986535",
          "status": "completed"
        },
        "tags": [],
        "id": "2a5eeb40",
        "outputId": "cbcba281-0954-4fab-9609-6c34f73b2117"
      },
      "outputs": [
        {
          "name": "stderr",
          "output_type": "stream",
          "text": [
            "100%|██████████| 28/28 [04:20<00:00,  9.32s/it]\n",
            "100%|██████████| 10/10 [01:57<00:00, 11.79s/it]\n"
          ]
        },
        {
          "name": "stdout",
          "output_type": "stream",
          "text": [
            "CPU times: user 5min 37s, sys: 1min 2s, total: 6min 39s\n",
            "Wall time: 6min 38s\n"
          ]
        }
      ],
      "source": [
        "%%time\n",
        "\n",
        "history_full = pd.concat([train_stage_1, valid_stage_1, test], ignore_index=True)\n",
        "df_l2_train_full_feats = generate_features_by_day(df_l2_train_full, history_full)\n",
        "df_l2_test_full_feats = generate_features_by_day(df_l2_test_full, history_full)"
      ]
    },
    {
      "cell_type": "code",
      "execution_count": null,
      "id": "e020d2c7",
      "metadata": {
        "execution": {
          "iopub.execute_input": "2025-04-07T01:29:01.708952Z",
          "iopub.status.busy": "2025-04-07T01:29:01.708672Z",
          "iopub.status.idle": "2025-04-07T01:29:01.713879Z",
          "shell.execute_reply": "2025-04-07T01:29:01.712861Z"
        },
        "papermill": {
          "duration": 0.058521,
          "end_time": "2025-04-07T01:29:01.715661",
          "exception": false,
          "start_time": "2025-04-07T01:29:01.657140",
          "status": "completed"
        },
        "tags": [],
        "id": "e020d2c7",
        "outputId": "f3016b94-7985-4d1e-f6cd-b536f2cfb793"
      },
      "outputs": [
        {
          "data": {
            "text/plain": [
              "((1456245, 19), (608467, 19))"
            ]
          },
          "execution_count": 96,
          "metadata": {},
          "output_type": "execute_result"
        }
      ],
      "source": [
        "df_l2_train_full_feats.shape, df_l2_test_full_feats.shape"
      ]
    },
    {
      "cell_type": "code",
      "execution_count": null,
      "id": "6aedaf9c",
      "metadata": {
        "execution": {
          "iopub.execute_input": "2025-04-07T01:29:01.792758Z",
          "iopub.status.busy": "2025-04-07T01:29:01.792487Z",
          "iopub.status.idle": "2025-04-07T01:29:01.807906Z",
          "shell.execute_reply": "2025-04-07T01:29:01.807185Z"
        },
        "papermill": {
          "duration": 0.052339,
          "end_time": "2025-04-07T01:29:01.809099",
          "exception": false,
          "start_time": "2025-04-07T01:29:01.756760",
          "status": "completed"
        },
        "tags": [],
        "id": "6aedaf9c",
        "outputId": "cadceee8-5093-43be-a7c8-a7c112a7503d"
      },
      "outputs": [
        {
          "data": {
            "text/html": [
              "<div>\n",
              "<style scoped>\n",
              "    .dataframe tbody tr th:only-of-type {\n",
              "        vertical-align: middle;\n",
              "    }\n",
              "\n",
              "    .dataframe tbody tr th {\n",
              "        vertical-align: top;\n",
              "    }\n",
              "\n",
              "    .dataframe thead th {\n",
              "        text-align: right;\n",
              "    }\n",
              "</style>\n",
              "<table border=\"1\" class=\"dataframe\">\n",
              "  <thead>\n",
              "    <tr style=\"text-align: right;\">\n",
              "      <th></th>\n",
              "      <th>user_id</th>\n",
              "      <th>item_id</th>\n",
              "      <th>last_watch_dt</th>\n",
              "      <th>total_dur</th>\n",
              "      <th>watched_pct</th>\n",
              "      <th>target</th>\n",
              "      <th>score_topk</th>\n",
              "      <th>score_als</th>\n",
              "      <th>score_gru</th>\n",
              "      <th>user_mean_watch_pct</th>\n",
              "      <th>user_total_watches</th>\n",
              "      <th>item_avg_watch_pct</th>\n",
              "      <th>item_watch_count</th>\n",
              "      <th>user_item_mean_pct</th>\n",
              "      <th>user_item_watch_count</th>\n",
              "      <th>user_max_watch_pct_item</th>\n",
              "      <th>user_recent_watch_pct_item</th>\n",
              "      <th>user_rewatched_item</th>\n",
              "      <th>user_watch_share_of_total</th>\n",
              "    </tr>\n",
              "  </thead>\n",
              "  <tbody>\n",
              "    <tr>\n",
              "      <th>0</th>\n",
              "      <td>208171</td>\n",
              "      <td>3182</td>\n",
              "      <td>2021-07-16</td>\n",
              "      <td>28798</td>\n",
              "      <td>100.0</td>\n",
              "      <td>1</td>\n",
              "      <td>0.0</td>\n",
              "      <td>0.007176</td>\n",
              "      <td>0.0</td>\n",
              "      <td>33.000000</td>\n",
              "      <td>6.0</td>\n",
              "      <td>64.279008</td>\n",
              "      <td>6007.0</td>\n",
              "      <td>0.0</td>\n",
              "      <td>0.0</td>\n",
              "      <td>0.0</td>\n",
              "      <td>0.0</td>\n",
              "      <td>0.0</td>\n",
              "      <td>0.0</td>\n",
              "    </tr>\n",
              "    <tr>\n",
              "      <th>1</th>\n",
              "      <td>192280</td>\n",
              "      <td>11348</td>\n",
              "      <td>2021-07-16</td>\n",
              "      <td>7804</td>\n",
              "      <td>100.0</td>\n",
              "      <td>1</td>\n",
              "      <td>0.0</td>\n",
              "      <td>0.000000</td>\n",
              "      <td>0.0</td>\n",
              "      <td>43.769231</td>\n",
              "      <td>13.0</td>\n",
              "      <td>70.421716</td>\n",
              "      <td>1667.0</td>\n",
              "      <td>0.0</td>\n",
              "      <td>0.0</td>\n",
              "      <td>0.0</td>\n",
              "      <td>0.0</td>\n",
              "      <td>0.0</td>\n",
              "      <td>0.0</td>\n",
              "    </tr>\n",
              "    <tr>\n",
              "      <th>2</th>\n",
              "      <td>808491</td>\n",
              "      <td>10240</td>\n",
              "      <td>2021-07-16</td>\n",
              "      <td>161</td>\n",
              "      <td>3.0</td>\n",
              "      <td>0</td>\n",
              "      <td>0.0</td>\n",
              "      <td>0.000000</td>\n",
              "      <td>0.0</td>\n",
              "      <td>57.545455</td>\n",
              "      <td>11.0</td>\n",
              "      <td>49.634483</td>\n",
              "      <td>145.0</td>\n",
              "      <td>0.0</td>\n",
              "      <td>0.0</td>\n",
              "      <td>0.0</td>\n",
              "      <td>0.0</td>\n",
              "      <td>0.0</td>\n",
              "      <td>0.0</td>\n",
              "    </tr>\n",
              "  </tbody>\n",
              "</table>\n",
              "</div>"
            ],
            "text/plain": [
              "   user_id  item_id last_watch_dt  total_dur  watched_pct  target  score_topk  \\\n",
              "0   208171     3182    2021-07-16      28798        100.0       1         0.0   \n",
              "1   192280    11348    2021-07-16       7804        100.0       1         0.0   \n",
              "2   808491    10240    2021-07-16        161          3.0       0         0.0   \n",
              "\n",
              "   score_als  score_gru  user_mean_watch_pct  user_total_watches  \\\n",
              "0   0.007176        0.0            33.000000                 6.0   \n",
              "1   0.000000        0.0            43.769231                13.0   \n",
              "2   0.000000        0.0            57.545455                11.0   \n",
              "\n",
              "   item_avg_watch_pct  item_watch_count  user_item_mean_pct  \\\n",
              "0           64.279008            6007.0                 0.0   \n",
              "1           70.421716            1667.0                 0.0   \n",
              "2           49.634483             145.0                 0.0   \n",
              "\n",
              "   user_item_watch_count  user_max_watch_pct_item  user_recent_watch_pct_item  \\\n",
              "0                    0.0                      0.0                         0.0   \n",
              "1                    0.0                      0.0                         0.0   \n",
              "2                    0.0                      0.0                         0.0   \n",
              "\n",
              "   user_rewatched_item  user_watch_share_of_total  \n",
              "0                  0.0                        0.0  \n",
              "1                  0.0                        0.0  \n",
              "2                  0.0                        0.0  "
            ]
          },
          "execution_count": 97,
          "metadata": {},
          "output_type": "execute_result"
        }
      ],
      "source": [
        "df_l2_train_full_feats.head(3)"
      ]
    },
    {
      "cell_type": "markdown",
      "id": "d8639da7",
      "metadata": {
        "papermill": {
          "duration": 0.035133,
          "end_time": "2025-04-07T01:29:01.879879",
          "exception": false,
          "start_time": "2025-04-07T01:29:01.844746",
          "status": "completed"
        },
        "tags": [],
        "id": "d8639da7"
      },
      "source": [
        "Теперь удалим колонку watched_pct, как нас просили"
      ]
    },
    {
      "cell_type": "code",
      "execution_count": null,
      "id": "7d18a380",
      "metadata": {
        "execution": {
          "iopub.execute_input": "2025-04-07T01:29:01.951108Z",
          "iopub.status.busy": "2025-04-07T01:29:01.950836Z",
          "iopub.status.idle": "2025-04-07T01:29:02.015673Z",
          "shell.execute_reply": "2025-04-07T01:29:02.014787Z"
        },
        "papermill": {
          "duration": 0.102146,
          "end_time": "2025-04-07T01:29:02.017161",
          "exception": false,
          "start_time": "2025-04-07T01:29:01.915015",
          "status": "completed"
        },
        "tags": [],
        "id": "7d18a380"
      },
      "outputs": [],
      "source": [
        "df_l2_train_full_feats = df_l2_train_full_feats.drop(columns=['watched_pct'])\n",
        "df_l2_test_full_feats = df_l2_test_full_feats.drop(columns=['watched_pct'])"
      ]
    },
    {
      "cell_type": "code",
      "execution_count": null,
      "id": "8f7616fe",
      "metadata": {
        "execution": {
          "iopub.execute_input": "2025-04-07T01:29:02.089436Z",
          "iopub.status.busy": "2025-04-07T01:29:02.089218Z",
          "iopub.status.idle": "2025-04-07T01:29:02.093595Z",
          "shell.execute_reply": "2025-04-07T01:29:02.092976Z"
        },
        "papermill": {
          "duration": 0.041513,
          "end_time": "2025-04-07T01:29:02.094814",
          "exception": false,
          "start_time": "2025-04-07T01:29:02.053301",
          "status": "completed"
        },
        "tags": [],
        "id": "8f7616fe",
        "outputId": "e1551a3e-61d9-4866-e9c4-c509ff1bbd75"
      },
      "outputs": [
        {
          "data": {
            "text/plain": [
              "((1456245, 18), (608467, 18))"
            ]
          },
          "execution_count": 99,
          "metadata": {},
          "output_type": "execute_result"
        }
      ],
      "source": [
        "df_l2_train_full_feats.shape, df_l2_test_full_feats.shape"
      ]
    },
    {
      "cell_type": "markdown",
      "id": "102d97eb",
      "metadata": {
        "id": "102d97eb",
        "papermill": {
          "duration": 0.035169,
          "end_time": "2025-04-07T01:29:02.165427",
          "exception": false,
          "start_time": "2025-04-07T01:29:02.130258",
          "status": "completed"
        },
        "tags": []
      },
      "source": [
        "\n",
        "### 3 Этап. Обучение финального ранкера (max 2 балла)\n",
        "Собрав все признаки из этапа 2, добавив скоры моделей из этапа 1 для каждой пары пользователь-айтем (где это возможно), пришло время обучать ранкер. В качестве ранкера можно использовать либо [xgboost](https://xgboost.readthedocs.io/en/stable/) или [catboost](https://catboost.ai/). Обучать можно как `Classfier`, так и `Ranker`, выбираем то, что лучше сработает. Обучение ранкера будет проходить на `valid_stage_1`, как  раз на которой мы валидировали модели, а тестировать на `test`, которую мы до сих пор не трогали.  Заметьте, что у нас в тесте есть холодные пользователи – те, кого не было в train и активные – те, кто был в train. Возможно их стоит обработать по отдельности (а может и нет).  \n",
        "(1 балл)\n",
        "\n",
        "После получения лучшей модели надо посмотреть на важность признаков и [shap values](https://shap.readthedocs.io/en/latest/index.html), чтобы:\n",
        "1. Интерпритировать признаки, которые вы собрали, насколько они полезные\n",
        "2. Проверить наличие ликов – если важность фичи в 100 раз больше, чем у всех остальных, то явно что-то не то  \n",
        "\n",
        "(1 балл)\n",
        "\n",
        "\n",
        "\n",
        "\n"
      ]
    },
    {
      "cell_type": "code",
      "execution_count": null,
      "id": "5e7491a5",
      "metadata": {
        "execution": {
          "iopub.execute_input": "2025-04-07T01:29:02.237112Z",
          "iopub.status.busy": "2025-04-07T01:29:02.236892Z",
          "iopub.status.idle": "2025-04-07T01:29:02.241280Z",
          "shell.execute_reply": "2025-04-07T01:29:02.240501Z"
        },
        "papermill": {
          "duration": 0.041605,
          "end_time": "2025-04-07T01:29:02.242594",
          "exception": false,
          "start_time": "2025-04-07T01:29:02.200989",
          "status": "completed"
        },
        "tags": [],
        "id": "5e7491a5",
        "outputId": "a98c87bf-923f-4151-b808-8123a6124185"
      },
      "outputs": [
        {
          "data": {
            "text/plain": [
              "((1456245, 6), (1456245, 18))"
            ]
          },
          "execution_count": 100,
          "metadata": {},
          "output_type": "execute_result"
        }
      ],
      "source": [
        "valid_stage_1.shape, df_l2_train_full_feats.shape"
      ]
    },
    {
      "cell_type": "code",
      "execution_count": null,
      "id": "ea69a2b6",
      "metadata": {
        "execution": {
          "iopub.execute_input": "2025-04-07T01:29:02.314143Z",
          "iopub.status.busy": "2025-04-07T01:29:02.313937Z",
          "iopub.status.idle": "2025-04-07T01:29:02.350800Z",
          "shell.execute_reply": "2025-04-07T01:29:02.350155Z"
        },
        "papermill": {
          "duration": 0.073807,
          "end_time": "2025-04-07T01:29:02.352077",
          "exception": false,
          "start_time": "2025-04-07T01:29:02.278270",
          "status": "completed"
        },
        "tags": [],
        "id": "ea69a2b6"
      },
      "outputs": [],
      "source": [
        "feature_cols = [col for col in df_l2_train_full_feats.columns if col not in ['user_id', 'item_id', 'last_watch_dt', 'target']]\n",
        "X_train = df_l2_train_full_feats[feature_cols]\n",
        "y_train = df_l2_train_full_feats['target']"
      ]
    },
    {
      "cell_type": "code",
      "execution_count": null,
      "id": "3f7d882f",
      "metadata": {
        "execution": {
          "iopub.execute_input": "2025-04-07T01:29:02.424306Z",
          "iopub.status.busy": "2025-04-07T01:29:02.424093Z",
          "iopub.status.idle": "2025-04-07T01:29:02.429162Z",
          "shell.execute_reply": "2025-04-07T01:29:02.428538Z"
        },
        "papermill": {
          "duration": 0.042156,
          "end_time": "2025-04-07T01:29:02.430299",
          "exception": false,
          "start_time": "2025-04-07T01:29:02.388143",
          "status": "completed"
        },
        "tags": [],
        "id": "3f7d882f",
        "outputId": "9c51f5ac-21ec-40d5-96d3-acf0a68a6b56"
      },
      "outputs": [
        {
          "data": {
            "text/plain": [
              "((1456245, 14), 553396)"
            ]
          },
          "execution_count": 102,
          "metadata": {},
          "output_type": "execute_result"
        }
      ],
      "source": [
        "X_train.shape, y_train.sum()"
      ]
    },
    {
      "cell_type": "code",
      "execution_count": null,
      "id": "5f99008c",
      "metadata": {
        "execution": {
          "iopub.execute_input": "2025-04-07T01:29:02.502846Z",
          "iopub.status.busy": "2025-04-07T01:29:02.502641Z",
          "iopub.status.idle": "2025-04-07T01:29:02.520580Z",
          "shell.execute_reply": "2025-04-07T01:29:02.519915Z"
        },
        "papermill": {
          "duration": 0.055273,
          "end_time": "2025-04-07T01:29:02.521822",
          "exception": false,
          "start_time": "2025-04-07T01:29:02.466549",
          "status": "completed"
        },
        "tags": [],
        "id": "5f99008c"
      },
      "outputs": [],
      "source": [
        "X_test = df_l2_test_full_feats[feature_cols]\n",
        "y_test = df_l2_test_full_feats['target']"
      ]
    },
    {
      "cell_type": "code",
      "execution_count": null,
      "id": "055a0e97",
      "metadata": {
        "execution": {
          "iopub.execute_input": "2025-04-07T01:29:02.593748Z",
          "iopub.status.busy": "2025-04-07T01:29:02.593537Z",
          "iopub.status.idle": "2025-04-07T01:29:02.598004Z",
          "shell.execute_reply": "2025-04-07T01:29:02.597380Z"
        },
        "papermill": {
          "duration": 0.041448,
          "end_time": "2025-04-07T01:29:02.599155",
          "exception": false,
          "start_time": "2025-04-07T01:29:02.557707",
          "status": "completed"
        },
        "tags": [],
        "id": "055a0e97",
        "outputId": "c573c4df-c0af-44b9-a24b-ebdc45e3eb45"
      },
      "outputs": [
        {
          "data": {
            "text/plain": [
              "((608467, 14), 212645)"
            ]
          },
          "execution_count": 104,
          "metadata": {},
          "output_type": "execute_result"
        }
      ],
      "source": [
        "X_test.shape, y_test.sum()"
      ]
    },
    {
      "cell_type": "code",
      "execution_count": null,
      "id": "8bad0ae6",
      "metadata": {
        "execution": {
          "iopub.execute_input": "2025-04-07T01:29:02.671117Z",
          "iopub.status.busy": "2025-04-07T01:29:02.670874Z",
          "iopub.status.idle": "2025-04-07T01:29:11.207493Z",
          "shell.execute_reply": "2025-04-07T01:29:11.206492Z"
        },
        "papermill": {
          "duration": 8.574007,
          "end_time": "2025-04-07T01:29:11.208997",
          "exception": false,
          "start_time": "2025-04-07T01:29:02.634990",
          "status": "completed"
        },
        "tags": [],
        "id": "8bad0ae6",
        "outputId": "27477974-71f7-4637-f772-efd1e7977742"
      },
      "outputs": [
        {
          "data": {
            "text/html": [
              "<style>#sk-container-id-1 {color: black;background-color: white;}#sk-container-id-1 pre{padding: 0;}#sk-container-id-1 div.sk-toggleable {background-color: white;}#sk-container-id-1 label.sk-toggleable__label {cursor: pointer;display: block;width: 100%;margin-bottom: 0;padding: 0.3em;box-sizing: border-box;text-align: center;}#sk-container-id-1 label.sk-toggleable__label-arrow:before {content: \"▸\";float: left;margin-right: 0.25em;color: #696969;}#sk-container-id-1 label.sk-toggleable__label-arrow:hover:before {color: black;}#sk-container-id-1 div.sk-estimator:hover label.sk-toggleable__label-arrow:before {color: black;}#sk-container-id-1 div.sk-toggleable__content {max-height: 0;max-width: 0;overflow: hidden;text-align: left;background-color: #f0f8ff;}#sk-container-id-1 div.sk-toggleable__content pre {margin: 0.2em;color: black;border-radius: 0.25em;background-color: #f0f8ff;}#sk-container-id-1 input.sk-toggleable__control:checked~div.sk-toggleable__content {max-height: 200px;max-width: 100%;overflow: auto;}#sk-container-id-1 input.sk-toggleable__control:checked~label.sk-toggleable__label-arrow:before {content: \"▾\";}#sk-container-id-1 div.sk-estimator input.sk-toggleable__control:checked~label.sk-toggleable__label {background-color: #d4ebff;}#sk-container-id-1 div.sk-label input.sk-toggleable__control:checked~label.sk-toggleable__label {background-color: #d4ebff;}#sk-container-id-1 input.sk-hidden--visually {border: 0;clip: rect(1px 1px 1px 1px);clip: rect(1px, 1px, 1px, 1px);height: 1px;margin: -1px;overflow: hidden;padding: 0;position: absolute;width: 1px;}#sk-container-id-1 div.sk-estimator {font-family: monospace;background-color: #f0f8ff;border: 1px dotted black;border-radius: 0.25em;box-sizing: border-box;margin-bottom: 0.5em;}#sk-container-id-1 div.sk-estimator:hover {background-color: #d4ebff;}#sk-container-id-1 div.sk-parallel-item::after {content: \"\";width: 100%;border-bottom: 1px solid gray;flex-grow: 1;}#sk-container-id-1 div.sk-label:hover label.sk-toggleable__label {background-color: #d4ebff;}#sk-container-id-1 div.sk-serial::before {content: \"\";position: absolute;border-left: 1px solid gray;box-sizing: border-box;top: 0;bottom: 0;left: 50%;z-index: 0;}#sk-container-id-1 div.sk-serial {display: flex;flex-direction: column;align-items: center;background-color: white;padding-right: 0.2em;padding-left: 0.2em;position: relative;}#sk-container-id-1 div.sk-item {position: relative;z-index: 1;}#sk-container-id-1 div.sk-parallel {display: flex;align-items: stretch;justify-content: center;background-color: white;position: relative;}#sk-container-id-1 div.sk-item::before, #sk-container-id-1 div.sk-parallel-item::before {content: \"\";position: absolute;border-left: 1px solid gray;box-sizing: border-box;top: 0;bottom: 0;left: 50%;z-index: -1;}#sk-container-id-1 div.sk-parallel-item {display: flex;flex-direction: column;z-index: 1;position: relative;background-color: white;}#sk-container-id-1 div.sk-parallel-item:first-child::after {align-self: flex-end;width: 50%;}#sk-container-id-1 div.sk-parallel-item:last-child::after {align-self: flex-start;width: 50%;}#sk-container-id-1 div.sk-parallel-item:only-child::after {width: 0;}#sk-container-id-1 div.sk-dashed-wrapped {border: 1px dashed gray;margin: 0 0.4em 0.5em 0.4em;box-sizing: border-box;padding-bottom: 0.4em;background-color: white;}#sk-container-id-1 div.sk-label label {font-family: monospace;font-weight: bold;display: inline-block;line-height: 1.2em;}#sk-container-id-1 div.sk-label-container {text-align: center;}#sk-container-id-1 div.sk-container {/* jupyter's `normalize.less` sets `[hidden] { display: none; }` but bootstrap.min.css set `[hidden] { display: none !important; }` so we also need the `!important` here to be able to override the default hidden behavior on the sphinx rendered scikit-learn.org. See: https://github.com/scikit-learn/scikit-learn/issues/21755 */display: inline-block !important;position: relative;}#sk-container-id-1 div.sk-text-repr-fallback {display: none;}</style><div id=\"sk-container-id-1\" class=\"sk-top-container\"><div class=\"sk-text-repr-fallback\"><pre>XGBClassifier(base_score=None, booster=None, callbacks=None,\n",
              "              colsample_bylevel=None, colsample_bynode=None,\n",
              "              colsample_bytree=None, device=None, early_stopping_rounds=None,\n",
              "              enable_categorical=False, eval_metric=&#x27;logloss&#x27;,\n",
              "              feature_types=None, gamma=None, grow_policy=None,\n",
              "              importance_type=None, interaction_constraints=None,\n",
              "              learning_rate=0.1, max_bin=None, max_cat_threshold=None,\n",
              "              max_cat_to_onehot=None, max_delta_step=None, max_depth=6,\n",
              "              max_leaves=None, min_child_weight=None, missing=nan,\n",
              "              monotone_constraints=None, multi_strategy=None, n_estimators=100,\n",
              "              n_jobs=None, num_parallel_tree=None, random_state=42, ...)</pre><b>In a Jupyter environment, please rerun this cell to show the HTML representation or trust the notebook. <br />On GitHub, the HTML representation is unable to render, please try loading this page with nbviewer.org.</b></div><div class=\"sk-container\" hidden><div class=\"sk-item\"><div class=\"sk-estimator sk-toggleable\"><input class=\"sk-toggleable__control sk-hidden--visually\" id=\"sk-estimator-id-1\" type=\"checkbox\" checked><label for=\"sk-estimator-id-1\" class=\"sk-toggleable__label sk-toggleable__label-arrow\">XGBClassifier</label><div class=\"sk-toggleable__content\"><pre>XGBClassifier(base_score=None, booster=None, callbacks=None,\n",
              "              colsample_bylevel=None, colsample_bynode=None,\n",
              "              colsample_bytree=None, device=None, early_stopping_rounds=None,\n",
              "              enable_categorical=False, eval_metric=&#x27;logloss&#x27;,\n",
              "              feature_types=None, gamma=None, grow_policy=None,\n",
              "              importance_type=None, interaction_constraints=None,\n",
              "              learning_rate=0.1, max_bin=None, max_cat_threshold=None,\n",
              "              max_cat_to_onehot=None, max_delta_step=None, max_depth=6,\n",
              "              max_leaves=None, min_child_weight=None, missing=nan,\n",
              "              monotone_constraints=None, multi_strategy=None, n_estimators=100,\n",
              "              n_jobs=None, num_parallel_tree=None, random_state=42, ...)</pre></div></div></div></div></div>"
            ],
            "text/plain": [
              "XGBClassifier(base_score=None, booster=None, callbacks=None,\n",
              "              colsample_bylevel=None, colsample_bynode=None,\n",
              "              colsample_bytree=None, device=None, early_stopping_rounds=None,\n",
              "              enable_categorical=False, eval_metric='logloss',\n",
              "              feature_types=None, gamma=None, grow_policy=None,\n",
              "              importance_type=None, interaction_constraints=None,\n",
              "              learning_rate=0.1, max_bin=None, max_cat_threshold=None,\n",
              "              max_cat_to_onehot=None, max_delta_step=None, max_depth=6,\n",
              "              max_leaves=None, min_child_weight=None, missing=nan,\n",
              "              monotone_constraints=None, multi_strategy=None, n_estimators=100,\n",
              "              n_jobs=None, num_parallel_tree=None, random_state=42, ...)"
            ]
          },
          "execution_count": 105,
          "metadata": {},
          "output_type": "execute_result"
        }
      ],
      "source": [
        "import xgboost as xgb\n",
        "\n",
        "model_xgb = xgb.XGBClassifier(\n",
        "    objective='binary:logistic',\n",
        "    eval_metric='logloss',\n",
        "    use_label_encoder=False,\n",
        "    tree_method='hist',\n",
        "    max_depth=6,\n",
        "    learning_rate=0.1,\n",
        "    n_estimators=100,\n",
        "    random_state=42\n",
        ")\n",
        "\n",
        "model_xgb.fit(X_train, y_train)"
      ]
    },
    {
      "cell_type": "code",
      "execution_count": null,
      "id": "3e35a1cb",
      "metadata": {
        "execution": {
          "iopub.execute_input": "2025-04-07T01:29:11.284529Z",
          "iopub.status.busy": "2025-04-07T01:29:11.284213Z",
          "iopub.status.idle": "2025-04-07T01:29:12.200654Z",
          "shell.execute_reply": "2025-04-07T01:29:12.199756Z"
        },
        "papermill": {
          "duration": 0.954711,
          "end_time": "2025-04-07T01:29:12.202049",
          "exception": false,
          "start_time": "2025-04-07T01:29:11.247338",
          "status": "completed"
        },
        "tags": [],
        "id": "3e35a1cb",
        "outputId": "2149e91f-6ea4-4a15-fecf-9b70c08cf2af"
      },
      "outputs": [
        {
          "name": "stdout",
          "output_type": "stream",
          "text": [
            "ROC-AUC: 0.9865052064964716\n",
            "Average Precision: 0.9754024466657328\n"
          ]
        }
      ],
      "source": [
        "from sklearn.metrics import roc_auc_score, average_precision_score\n",
        "\n",
        "y_pred = model_xgb.predict_proba(X_test)[:, 1]\n",
        "print(\"ROC-AUC:\", roc_auc_score(y_test, y_pred))\n",
        "print(\"Average Precision:\", average_precision_score(y_test, y_pred))"
      ]
    },
    {
      "cell_type": "markdown",
      "id": "fe0a7744",
      "metadata": {
        "papermill": {
          "duration": 0.036271,
          "end_time": "2025-04-07T01:29:12.276475",
          "exception": false,
          "start_time": "2025-04-07T01:29:12.240204",
          "status": "completed"
        },
        "tags": [],
        "id": "fe0a7744"
      },
      "source": [
        "Ого, неплохо!"
      ]
    },
    {
      "cell_type": "code",
      "execution_count": null,
      "id": "cec2a8d2",
      "metadata": {
        "execution": {
          "iopub.execute_input": "2025-04-07T01:29:12.350873Z",
          "iopub.status.busy": "2025-04-07T01:29:12.350378Z",
          "iopub.status.idle": "2025-04-07T01:29:12.355627Z",
          "shell.execute_reply": "2025-04-07T01:29:12.354911Z"
        },
        "papermill": {
          "duration": 0.043995,
          "end_time": "2025-04-07T01:29:12.356925",
          "exception": false,
          "start_time": "2025-04-07T01:29:12.312930",
          "status": "completed"
        },
        "tags": [],
        "id": "cec2a8d2",
        "outputId": "328dd741-71ea-4dad-b09f-e2868ba34b5b"
      },
      "outputs": [
        {
          "data": {
            "text/plain": [
              "(1456245, 14)"
            ]
          },
          "execution_count": 107,
          "metadata": {},
          "output_type": "execute_result"
        }
      ],
      "source": [
        "X_train.shape"
      ]
    },
    {
      "cell_type": "code",
      "execution_count": null,
      "id": "f25f21ac",
      "metadata": {
        "execution": {
          "iopub.execute_input": "2025-04-07T01:29:12.431661Z",
          "iopub.status.busy": "2025-04-07T01:29:12.431394Z",
          "iopub.status.idle": "2025-04-07T01:29:12.507240Z",
          "shell.execute_reply": "2025-04-07T01:29:12.506534Z"
        },
        "papermill": {
          "duration": 0.114832,
          "end_time": "2025-04-07T01:29:12.508916",
          "exception": false,
          "start_time": "2025-04-07T01:29:12.394084",
          "status": "completed"
        },
        "tags": [],
        "id": "f25f21ac"
      },
      "outputs": [],
      "source": [
        "X_sample = X_train.sample(200_000, random_state=42)"
      ]
    },
    {
      "cell_type": "code",
      "execution_count": null,
      "id": "00f3f9e8",
      "metadata": {
        "execution": {
          "iopub.execute_input": "2025-04-07T01:29:12.624142Z",
          "iopub.status.busy": "2025-04-07T01:29:12.623851Z",
          "iopub.status.idle": "2025-04-07T01:29:12.637360Z",
          "shell.execute_reply": "2025-04-07T01:29:12.636513Z"
        },
        "papermill": {
          "duration": 0.052528,
          "end_time": "2025-04-07T01:29:12.638677",
          "exception": false,
          "start_time": "2025-04-07T01:29:12.586149",
          "status": "completed"
        },
        "tags": [],
        "id": "00f3f9e8",
        "outputId": "e18a061d-9c50-459a-af19-134aad36a975"
      },
      "outputs": [
        {
          "data": {
            "text/html": [
              "<div>\n",
              "<style scoped>\n",
              "    .dataframe tbody tr th:only-of-type {\n",
              "        vertical-align: middle;\n",
              "    }\n",
              "\n",
              "    .dataframe tbody tr th {\n",
              "        vertical-align: top;\n",
              "    }\n",
              "\n",
              "    .dataframe thead th {\n",
              "        text-align: right;\n",
              "    }\n",
              "</style>\n",
              "<table border=\"1\" class=\"dataframe\">\n",
              "  <thead>\n",
              "    <tr style=\"text-align: right;\">\n",
              "      <th></th>\n",
              "      <th>total_dur</th>\n",
              "      <th>score_topk</th>\n",
              "      <th>score_als</th>\n",
              "      <th>score_gru</th>\n",
              "      <th>user_mean_watch_pct</th>\n",
              "      <th>user_total_watches</th>\n",
              "      <th>item_avg_watch_pct</th>\n",
              "      <th>item_watch_count</th>\n",
              "      <th>user_item_mean_pct</th>\n",
              "      <th>user_item_watch_count</th>\n",
              "      <th>user_max_watch_pct_item</th>\n",
              "      <th>user_recent_watch_pct_item</th>\n",
              "      <th>user_rewatched_item</th>\n",
              "      <th>user_watch_share_of_total</th>\n",
              "    </tr>\n",
              "  </thead>\n",
              "  <tbody>\n",
              "    <tr>\n",
              "      <th>0</th>\n",
              "      <td>28798</td>\n",
              "      <td>0.0</td>\n",
              "      <td>0.007176</td>\n",
              "      <td>0.0</td>\n",
              "      <td>33.000000</td>\n",
              "      <td>6.0</td>\n",
              "      <td>64.279008</td>\n",
              "      <td>6007.0</td>\n",
              "      <td>0.0</td>\n",
              "      <td>0.0</td>\n",
              "      <td>0.0</td>\n",
              "      <td>0.0</td>\n",
              "      <td>0.0</td>\n",
              "      <td>0.0</td>\n",
              "    </tr>\n",
              "    <tr>\n",
              "      <th>1</th>\n",
              "      <td>7804</td>\n",
              "      <td>0.0</td>\n",
              "      <td>0.000000</td>\n",
              "      <td>0.0</td>\n",
              "      <td>43.769231</td>\n",
              "      <td>13.0</td>\n",
              "      <td>70.421716</td>\n",
              "      <td>1667.0</td>\n",
              "      <td>0.0</td>\n",
              "      <td>0.0</td>\n",
              "      <td>0.0</td>\n",
              "      <td>0.0</td>\n",
              "      <td>0.0</td>\n",
              "      <td>0.0</td>\n",
              "    </tr>\n",
              "  </tbody>\n",
              "</table>\n",
              "</div>"
            ],
            "text/plain": [
              "   total_dur  score_topk  score_als  score_gru  user_mean_watch_pct  \\\n",
              "0      28798         0.0   0.007176        0.0            33.000000   \n",
              "1       7804         0.0   0.000000        0.0            43.769231   \n",
              "\n",
              "   user_total_watches  item_avg_watch_pct  item_watch_count  \\\n",
              "0                 6.0           64.279008            6007.0   \n",
              "1                13.0           70.421716            1667.0   \n",
              "\n",
              "   user_item_mean_pct  user_item_watch_count  user_max_watch_pct_item  \\\n",
              "0                 0.0                    0.0                      0.0   \n",
              "1                 0.0                    0.0                      0.0   \n",
              "\n",
              "   user_recent_watch_pct_item  user_rewatched_item  user_watch_share_of_total  \n",
              "0                         0.0                  0.0                        0.0  \n",
              "1                         0.0                  0.0                        0.0  "
            ]
          },
          "execution_count": 109,
          "metadata": {},
          "output_type": "execute_result"
        }
      ],
      "source": [
        "X_train.head(2)"
      ]
    },
    {
      "cell_type": "code",
      "execution_count": null,
      "id": "d7879a6a",
      "metadata": {
        "execution": {
          "iopub.execute_input": "2025-04-07T01:29:12.712575Z",
          "iopub.status.busy": "2025-04-07T01:29:12.712317Z",
          "iopub.status.idle": "2025-04-07T01:30:44.691226Z",
          "shell.execute_reply": "2025-04-07T01:30:44.690362Z"
        },
        "papermill": {
          "duration": 92.017958,
          "end_time": "2025-04-07T01:30:44.693231",
          "exception": false,
          "start_time": "2025-04-07T01:29:12.675273",
          "status": "completed"
        },
        "tags": [],
        "id": "d7879a6a",
        "outputId": "5f7fb583-a655-49cd-880b-21574be003e7"
      },
      "outputs": [
        {
          "data": {
            "image/png": "[encoded data removed]",
            "text/plain": [
              "<Figure size 800x710 with 1 Axes>"
            ]
          },
          "metadata": {},
          "output_type": "display_data"
        },
        {
          "data": {
            "image/png": "[encoded data removed]",
            "text/plain": [
              "<Figure size 800x710 with 2 Axes>"
            ]
          },
          "metadata": {},
          "output_type": "display_data"
        }
      ],
      "source": [
        "import shap\n",
        "import matplotlib.pyplot as plt\n",
        "\n",
        "explainer = shap.TreeExplainer(model_xgb)\n",
        "shap_values = explainer(X_sample)\n",
        "\n",
        "shap.summary_plot(shap_values, X_sample, plot_type='bar')\n",
        "shap.summary_plot(shap_values, X_sample)"
      ]
    },
    {
      "cell_type": "markdown",
      "id": "311c46f1",
      "metadata": {
        "papermill": {
          "duration": 0.039487,
          "end_time": "2025-04-07T01:30:44.773763",
          "exception": false,
          "start_time": "2025-04-07T01:30:44.734276",
          "status": "completed"
        },
        "tags": [],
        "id": "311c46f1"
      },
      "source": [
        "Прикольно, что total_dur - время просмотра, роляет больше всего. Ну и наши сгенерированные фичи выбились в топ. А вот score от наших моделек не очень, но там и score этот есть далеко не у всех парь юзер-итем! Логично."
      ]
    },
    {
      "cell_type": "markdown",
      "id": "dd8beda6",
      "metadata": {
        "id": "dd8beda6",
        "papermill": {
          "duration": 0.039092,
          "end_time": "2025-04-07T01:30:44.852361",
          "exception": false,
          "start_time": "2025-04-07T01:30:44.813269",
          "status": "completed"
        },
        "tags": []
      },
      "source": [
        "\n",
        "### 4 Этап. Инференс лучшего ранкера (max 3 балла)\n",
        "\n",
        "Теперь мы хотим построить рекомендации \"на завтра\", для этого нам нужно:\n",
        "\n",
        "1. Обучить модели первого уровня на всех (train+test) данных (0.5 балла)\n",
        "2. Для каждой модели первого уровня для каждого пользователя сгененировать N кандидатов (0.5 балла)\n",
        "3. \"Склеить\" всех кандидатов для каждого пользователя (дубли выкинуть), посчитать скоры от всех моделей (0.5 балла)\n",
        "4. Собрать фичи для ваших кандидатов (теперь можем считать признаки на всех данных) (0.5 балла)\n",
        "5. Проскорить всех кандидатов бустингом и оставить k лучших (0.5 балла)\n",
        "6. Посчитать разнообразие(Diversity) и построить график от Diversity(k) (0.5 балла)\n",
        "\n",
        "\n",
        "Все гиперпараметры (N, k) определяете только Вы!"
      ]
    },
    {
      "cell_type": "code",
      "execution_count": null,
      "id": "dff8cd55",
      "metadata": {
        "execution": {
          "iopub.execute_input": "2025-04-07T01:30:44.935186Z",
          "iopub.status.busy": "2025-04-07T01:30:44.934463Z",
          "iopub.status.idle": "2025-04-07T01:30:51.723570Z",
          "shell.execute_reply": "2025-04-07T01:30:51.722438Z"
        },
        "id": "dff8cd55",
        "papermill": {
          "duration": 6.834016,
          "end_time": "2025-04-07T01:30:51.725877",
          "exception": false,
          "start_time": "2025-04-07T01:30:44.891861",
          "status": "completed"
        },
        "tags": []
      },
      "outputs": [],
      "source": [
        "train_full = pd.concat([train_stage_1, valid_stage_1, test], ignore_index=True)"
      ]
    },
    {
      "cell_type": "code",
      "execution_count": null,
      "id": "33baaba4",
      "metadata": {
        "execution": {
          "iopub.execute_input": "2025-04-07T01:30:51.810255Z",
          "iopub.status.busy": "2025-04-07T01:30:51.809983Z",
          "iopub.status.idle": "2025-04-07T01:30:51.814620Z",
          "shell.execute_reply": "2025-04-07T01:30:51.813833Z"
        },
        "papermill": {
          "duration": 0.047128,
          "end_time": "2025-04-07T01:30:51.815843",
          "exception": false,
          "start_time": "2025-04-07T01:30:51.768715",
          "status": "completed"
        },
        "tags": [],
        "id": "33baaba4",
        "outputId": "512eb174-5984-4f1a-ceec-25066eeacbd2"
      },
      "outputs": [
        {
          "data": {
            "text/plain": [
              "(5475423, 6)"
            ]
          },
          "execution_count": 112,
          "metadata": {},
          "output_type": "execute_result"
        }
      ],
      "source": [
        "train_full.shape"
      ]
    },
    {
      "cell_type": "code",
      "execution_count": null,
      "id": "ce0fdd73",
      "metadata": {
        "execution": {
          "iopub.execute_input": "2025-04-07T01:30:51.895931Z",
          "iopub.status.busy": "2025-04-07T01:30:51.895699Z",
          "iopub.status.idle": "2025-04-07T01:30:52.127265Z",
          "shell.execute_reply": "2025-04-07T01:30:52.126532Z"
        },
        "papermill": {
          "duration": 0.273204,
          "end_time": "2025-04-07T01:30:52.128951",
          "exception": false,
          "start_time": "2025-04-07T01:30:51.855747",
          "status": "completed"
        },
        "tags": [],
        "id": "ce0fdd73"
      },
      "outputs": [],
      "source": [
        "top_model_full = MyHeuristicModel()\n",
        "top_model_full.fit(train_full)\n",
        "\n",
        "top_wrapper_full = TopKHeuristic(top_model_full.popular_items)"
      ]
    },
    {
      "cell_type": "code",
      "execution_count": null,
      "id": "aac1c406",
      "metadata": {
        "execution": {
          "iopub.execute_input": "2025-04-07T01:30:52.211510Z",
          "iopub.status.busy": "2025-04-07T01:30:52.211238Z",
          "iopub.status.idle": "2025-04-07T01:31:22.813093Z",
          "shell.execute_reply": "2025-04-07T01:31:22.812312Z"
        },
        "papermill": {
          "duration": 30.643716,
          "end_time": "2025-04-07T01:31:22.814532",
          "exception": false,
          "start_time": "2025-04-07T01:30:52.170816",
          "status": "completed"
        },
        "tags": [],
        "colab": {
          "referenced_widgets": [
            "de968288ffbb4696b07887407384d226"
          ]
        },
        "id": "aac1c406",
        "outputId": "2db99415-5915-4645-860f-461a2c4694ad"
      },
      "outputs": [
        {
          "data": {
            "application/vnd.jupyter.widget-view+json": {
              "model_id": "de968288ffbb4696b07887407384d226",
              "version_major": 2,
              "version_minor": 0
            },
            "text/plain": [
              "  0%|          | 0/10 [00:00<?, ?it/s]"
            ]
          },
          "metadata": {},
          "output_type": "display_data"
        }
      ],
      "source": [
        "als_full = MyMatrixFactorization()\n",
        "als_full.fit(train_full)\n",
        "als_wrapper_full = ALSWrapper(als_full.model, als_full.user_map, als_full.item_map)"
      ]
    },
    {
      "cell_type": "code",
      "execution_count": null,
      "id": "a92b8187",
      "metadata": {
        "execution": {
          "iopub.execute_input": "2025-04-07T01:31:22.896827Z",
          "iopub.status.busy": "2025-04-07T01:31:22.896523Z",
          "iopub.status.idle": "2025-04-07T01:31:24.355062Z",
          "shell.execute_reply": "2025-04-07T01:31:24.354122Z"
        },
        "papermill": {
          "duration": 1.500306,
          "end_time": "2025-04-07T01:31:24.356571",
          "exception": false,
          "start_time": "2025-04-07T01:31:22.856265",
          "status": "completed"
        },
        "tags": [],
        "id": "a92b8187"
      },
      "outputs": [],
      "source": [
        "import gc\n",
        "import torch\n",
        "\n",
        "gc.collect()\n",
        "\n",
        "if torch.cuda.is_available():\n",
        "    torch.cuda.empty_cache()\n",
        "    torch.cuda.ipc_collect()"
      ]
    },
    {
      "cell_type": "code",
      "execution_count": null,
      "id": "a5894a2e",
      "metadata": {
        "execution": {
          "iopub.execute_input": "2025-04-07T01:31:24.438765Z",
          "iopub.status.busy": "2025-04-07T01:31:24.438422Z",
          "iopub.status.idle": "2025-04-07T01:31:36.278390Z",
          "shell.execute_reply": "2025-04-07T01:31:36.277677Z"
        },
        "papermill": {
          "duration": 11.881926,
          "end_time": "2025-04-07T01:31:36.280006",
          "exception": false,
          "start_time": "2025-04-07T01:31:24.398080",
          "status": "completed"
        },
        "tags": [],
        "id": "a5894a2e"
      },
      "outputs": [],
      "source": [
        "train_full_for_gru = train_full[['user_id', 'item_id', 'last_watch_dt']].copy()\n",
        "\n",
        "train_full_for_gru['timestamp'] = pd.to_datetime(train_full_for_gru['last_watch_dt']).astype('int64') // 10**9\n",
        "train_full_for_gru = train_full_for_gru.drop(columns='last_watch_dt')\n",
        "\n",
        "save_path = 'data/gru4rec/train_full'\n",
        "os.makedirs(save_path, exist_ok=True)\n",
        "\n",
        "with open(os.path.join(save_path, 'train_full.inter'), 'w') as f:\n",
        "    f.write('user_id:token\\titem_id:token\\ttimestamp:float\\n')\n",
        "    train_full_for_gru.to_csv(f, sep='\\t', index=False, header=False)"
      ]
    },
    {
      "cell_type": "code",
      "execution_count": null,
      "id": "391695fd",
      "metadata": {
        "execution": {
          "iopub.execute_input": "2025-04-07T01:31:36.362352Z",
          "iopub.status.busy": "2025-04-07T01:31:36.362062Z",
          "iopub.status.idle": "2025-04-07T01:31:36.382586Z",
          "shell.execute_reply": "2025-04-07T01:31:36.381767Z"
        },
        "papermill": {
          "duration": 0.062486,
          "end_time": "2025-04-07T01:31:36.383860",
          "exception": false,
          "start_time": "2025-04-07T01:31:36.321374",
          "status": "completed"
        },
        "tags": [],
        "id": "391695fd"
      },
      "outputs": [],
      "source": [
        "config_full = Config(\n",
        "    model='GRU4Rec',\n",
        "    dataset='train_full',\n",
        "    config_dict={\n",
        "        'data_path': 'data/gru4rec',\n",
        "        'field_separator': '\\t',\n",
        "        'USER_ID_FIELD': 'user_id',\n",
        "        'ITEM_ID_FIELD': 'item_id',\n",
        "        'TIME_FIELD': 'timestamp',\n",
        "        'load_col': {'inter': ['user_id', 'item_id', 'timestamp']},\n",
        "        'MODEL_INPUT_TYPE': 'sequence',\n",
        "        'MAX_ITEM_LIST_LENGTH': 50,\n",
        "        'eval_args': {\n",
        "            'split': {'RS': [0.8, 0.1, 0.1]},\n",
        "            'order': 'TO',\n",
        "            'mode': 'full',\n",
        "            'group_by': 'user',\n",
        "            'order_by': 'timestamp'\n",
        "        },\n",
        "        'metrics': ['Recall', 'NDCG'],\n",
        "        'topk': [10],\n",
        "        'valid_metric': 'Recall@10',\n",
        "        'eval_batch_size': 8192,\n",
        "        'train_epochs': 5,\n",
        "        'train_batch_size': 4096,\n",
        "        'loss_type': 'CE',\n",
        "        'train_neg_sample_args': None,\n",
        "        'device': 'cuda' if torch.cuda.is_available() else 'cpu',\n",
        "        'train_num_workers': 2,\n",
        "        'eval_num_workers': 1,\n",
        "        'pin_memory': True,\n",
        "        'prefetch': 4,\n",
        "        'eval_step': 1,\n",
        "        'stopping_step': 2,\n",
        "        'show_progress': False\n",
        "    }\n",
        ")"
      ]
    },
    {
      "cell_type": "code",
      "execution_count": null,
      "id": "10f3821a",
      "metadata": {
        "execution": {
          "iopub.execute_input": "2025-04-07T01:31:36.465025Z",
          "iopub.status.busy": "2025-04-07T01:31:36.464791Z",
          "iopub.status.idle": "2025-04-07T01:31:36.474723Z",
          "shell.execute_reply": "2025-04-07T01:31:36.473935Z"
        },
        "papermill": {
          "duration": 0.051312,
          "end_time": "2025-04-07T01:31:36.475847",
          "exception": false,
          "start_time": "2025-04-07T01:31:36.424535",
          "status": "completed"
        },
        "tags": [],
        "id": "10f3821a",
        "outputId": "bf0b9c08-0372-441e-c70c-56fecd766c65"
      },
      "outputs": [
        {
          "name": "stdout",
          "output_type": "stream",
          "text": [
            "CUDA available: True\n",
            "Device: cuda\n"
          ]
        }
      ],
      "source": [
        "import torch\n",
        "print(\"CUDA available:\", torch.cuda.is_available())\n",
        "print(\"Device:\", config['device'])"
      ]
    },
    {
      "cell_type": "code",
      "execution_count": null,
      "id": "716e47d4",
      "metadata": {
        "execution": {
          "iopub.execute_input": "2025-04-07T01:31:36.557760Z",
          "iopub.status.busy": "2025-04-07T01:31:36.557483Z",
          "iopub.status.idle": "2025-04-07T01:33:42.964276Z",
          "shell.execute_reply": "2025-04-07T01:33:42.963516Z"
        },
        "papermill": {
          "duration": 126.449368,
          "end_time": "2025-04-07T01:33:42.965993",
          "exception": false,
          "start_time": "2025-04-07T01:31:36.516625",
          "status": "completed"
        },
        "tags": [],
        "id": "716e47d4",
        "outputId": "1c873f76-3fa6-4e93-b6e2-7f6d95625832"
      },
      "outputs": [
        {
          "name": "stderr",
          "output_type": "stream",
          "text": [
            "A value is trying to be set on a copy of a DataFrame or Series through chained assignment using an inplace method.\n",
            "The behavior will change in pandas 3.0. This inplace method will never work because the intermediate object on which we are setting values always behaves as a copy.\n",
            "\n",
            "For example, when doing 'df[col].method(value, inplace=True)', try using 'df.method({col: value}, inplace=True)' or df[col] = df[col].method(value) instead, to perform the operation inplace on the original object.\n",
            "\n",
            "\n",
            "A value is trying to be set on a copy of a DataFrame or Series through chained assignment using an inplace method.\n",
            "The behavior will change in pandas 3.0. This inplace method will never work because the intermediate object on which we are setting values always behaves as a copy.\n",
            "\n",
            "For example, when doing 'df[col].method(value, inplace=True)', try using 'df.method({col: value}, inplace=True)' or df[col] = df[col].method(value) instead, to perform the operation inplace on the original object.\n",
            "\n",
            "\n"
          ]
        }
      ],
      "source": [
        "init_seed(config_full['seed'], config_full['reproducibility'])\n",
        "init_logger(config_full)\n",
        "\n",
        "dataset_full = create_dataset(config_full)\n",
        "train_data, valid_data, test_data = data_preparation(config_full, dataset_full)"
      ]
    },
    {
      "cell_type": "code",
      "execution_count": null,
      "id": "5fbcaafd",
      "metadata": {
        "execution": {
          "iopub.execute_input": "2025-04-07T01:33:43.051414Z",
          "iopub.status.busy": "2025-04-07T01:33:43.051155Z",
          "iopub.status.idle": "2025-04-07T01:33:43.055942Z",
          "shell.execute_reply": "2025-04-07T01:33:43.055251Z"
        },
        "papermill": {
          "duration": 0.048968,
          "end_time": "2025-04-07T01:33:43.057149",
          "exception": false,
          "start_time": "2025-04-07T01:33:43.008181",
          "status": "completed"
        },
        "tags": [],
        "id": "5fbcaafd",
        "outputId": "8ce82ccb-5d03-4050-90ef-b8cf2555c5d9"
      },
      "outputs": [
        {
          "data": {
            "text/plain": [
              "<recbole.data.dataloader.general_dataloader.TrainDataLoader at 0x7dc55fe726e0>"
            ]
          },
          "execution_count": 120,
          "metadata": {},
          "output_type": "execute_result"
        }
      ],
      "source": [
        "train_data"
      ]
    },
    {
      "cell_type": "code",
      "execution_count": null,
      "id": "39d92f59",
      "metadata": {
        "execution": {
          "iopub.execute_input": "2025-04-07T01:33:43.139430Z",
          "iopub.status.busy": "2025-04-07T01:33:43.139201Z",
          "iopub.status.idle": "2025-04-07T02:14:11.003246Z",
          "shell.execute_reply": "2025-04-07T02:14:11.002341Z"
        },
        "papermill": {
          "duration": 2427.949931,
          "end_time": "2025-04-07T02:14:11.048251",
          "exception": false,
          "start_time": "2025-04-07T01:33:43.098320",
          "status": "completed"
        },
        "tags": [],
        "id": "39d92f59",
        "outputId": "0021d23d-1ceb-484c-a51f-b84c23fcc8bd"
      },
      "outputs": [
        {
          "name": "stderr",
          "output_type": "stream",
          "text": [
            "`torch.cuda.amp.GradScaler(args...)` is deprecated. Please use `torch.amp.GradScaler('cuda', args...)` instead.\n"
          ]
        },
        {
          "name": "stdout",
          "output_type": "stream",
          "text": [
            "CPU times: user 48min 50s, sys: 54.2 s, total: 49min 44s\n",
            "Wall time: 40min 27s\n"
          ]
        }
      ],
      "source": [
        "%%time\n",
        "\n",
        "model_full = GRU4Rec(config_full, train_data.dataset).to(config_full['device'])\n",
        "trainer_full = Trainer(config_full, model_full)\n",
        "\n",
        "best_valid_score, best_valid_result = trainer_full.fit(train_data, valid_data, verbose=False, show_progress=False)"
      ]
    },
    {
      "cell_type": "code",
      "execution_count": null,
      "id": "428087ec",
      "metadata": {
        "execution": {
          "iopub.execute_input": "2025-04-07T02:14:11.141413Z",
          "iopub.status.busy": "2025-04-07T02:14:11.141074Z",
          "iopub.status.idle": "2025-04-07T02:42:40.104767Z",
          "shell.execute_reply": "2025-04-07T02:42:40.103901Z"
        },
        "papermill": {
          "duration": 1709.102162,
          "end_time": "2025-04-07T02:42:40.196142",
          "exception": false,
          "start_time": "2025-04-07T02:14:11.093980",
          "status": "completed"
        },
        "tags": [],
        "id": "428087ec",
        "outputId": "3ae93746-b404-41f9-b39f-7906ec317ac2"
      },
      "outputs": [
        {
          "name": "stdout",
          "output_type": "stream",
          "text": [
            "CPU times: user 55min 43s, sys: 8.72 s, total: 55min 52s\n",
            "Wall time: 28min 28s\n"
          ]
        }
      ],
      "source": [
        "%%time\n",
        "\n",
        "candidates_top_full = generate_candidates(top_wrapper_full, train_full['user_id'].unique(), 10, 'topk')\n",
        "candidates_als_full = generate_candidates(als_wrapper_full, train_full['user_id'].unique(), 10, 'als')"
      ]
    },
    {
      "cell_type": "code",
      "execution_count": null,
      "id": "c27c0da4",
      "metadata": {
        "execution": {
          "iopub.execute_input": "2025-04-07T02:42:40.279240Z",
          "iopub.status.busy": "2025-04-07T02:42:40.278958Z",
          "iopub.status.idle": "2025-04-07T02:42:40.283975Z",
          "shell.execute_reply": "2025-04-07T02:42:40.283276Z"
        },
        "papermill": {
          "duration": 0.04759,
          "end_time": "2025-04-07T02:42:40.285119",
          "exception": false,
          "start_time": "2025-04-07T02:42:40.237529",
          "status": "completed"
        },
        "tags": [],
        "id": "c27c0da4",
        "outputId": "b25802c4-fd26-4705-d3d0-3efdd45f64bc"
      },
      "outputs": [
        {
          "data": {
            "text/plain": [
              "((9621510, 4), (9621510, 4))"
            ]
          },
          "execution_count": 123,
          "metadata": {},
          "output_type": "execute_result"
        }
      ],
      "source": [
        "candidates_top_full.shape, candidates_als_full.shape"
      ]
    },
    {
      "cell_type": "code",
      "execution_count": null,
      "id": "e9d24bd1",
      "metadata": {
        "execution": {
          "iopub.execute_input": "2025-04-07T02:42:40.368316Z",
          "iopub.status.busy": "2025-04-07T02:42:40.368094Z",
          "iopub.status.idle": "2025-04-07T02:42:40.401320Z",
          "shell.execute_reply": "2025-04-07T02:42:40.400542Z"
        },
        "papermill": {
          "duration": 0.076335,
          "end_time": "2025-04-07T02:42:40.402500",
          "exception": false,
          "start_time": "2025-04-07T02:42:40.326165",
          "status": "completed"
        },
        "tags": [],
        "id": "e9d24bd1",
        "outputId": "0d9595df-32d1-4637-e7b5-4bdc86d973ff"
      },
      "outputs": [
        {
          "data": {
            "text/plain": [
              "9621510.0"
            ]
          },
          "execution_count": 124,
          "metadata": {},
          "output_type": "execute_result"
        }
      ],
      "source": [
        "candidates_top_full.score.sum()"
      ]
    },
    {
      "cell_type": "code",
      "execution_count": null,
      "id": "23698102",
      "metadata": {
        "execution": {
          "iopub.execute_input": "2025-04-07T02:42:40.484939Z",
          "iopub.status.busy": "2025-04-07T02:42:40.484689Z",
          "iopub.status.idle": "2025-04-07T02:42:40.492721Z",
          "shell.execute_reply": "2025-04-07T02:42:40.491919Z"
        },
        "papermill": {
          "duration": 0.050388,
          "end_time": "2025-04-07T02:42:40.493985",
          "exception": false,
          "start_time": "2025-04-07T02:42:40.443597",
          "status": "completed"
        },
        "tags": [],
        "id": "23698102",
        "outputId": "9fad3927-54c9-42a6-fdfe-f8aaa090c4db"
      },
      "outputs": [
        {
          "data": {
            "text/html": [
              "<div>\n",
              "<style scoped>\n",
              "    .dataframe tbody tr th:only-of-type {\n",
              "        vertical-align: middle;\n",
              "    }\n",
              "\n",
              "    .dataframe tbody tr th {\n",
              "        vertical-align: top;\n",
              "    }\n",
              "\n",
              "    .dataframe thead th {\n",
              "        text-align: right;\n",
              "    }\n",
              "</style>\n",
              "<table border=\"1\" class=\"dataframe\">\n",
              "  <thead>\n",
              "    <tr style=\"text-align: right;\">\n",
              "      <th></th>\n",
              "      <th>user_id</th>\n",
              "      <th>item_id</th>\n",
              "      <th>score</th>\n",
              "      <th>model</th>\n",
              "    </tr>\n",
              "  </thead>\n",
              "  <tbody>\n",
              "    <tr>\n",
              "      <th>0</th>\n",
              "      <td>310745</td>\n",
              "      <td>15297</td>\n",
              "      <td>1.0</td>\n",
              "      <td>topk</td>\n",
              "    </tr>\n",
              "    <tr>\n",
              "      <th>1</th>\n",
              "      <td>310745</td>\n",
              "      <td>10440</td>\n",
              "      <td>1.0</td>\n",
              "      <td>topk</td>\n",
              "    </tr>\n",
              "    <tr>\n",
              "      <th>2</th>\n",
              "      <td>310745</td>\n",
              "      <td>13865</td>\n",
              "      <td>1.0</td>\n",
              "      <td>topk</td>\n",
              "    </tr>\n",
              "    <tr>\n",
              "      <th>3</th>\n",
              "      <td>310745</td>\n",
              "      <td>9728</td>\n",
              "      <td>1.0</td>\n",
              "      <td>topk</td>\n",
              "    </tr>\n",
              "    <tr>\n",
              "      <th>4</th>\n",
              "      <td>310745</td>\n",
              "      <td>3734</td>\n",
              "      <td>1.0</td>\n",
              "      <td>topk</td>\n",
              "    </tr>\n",
              "  </tbody>\n",
              "</table>\n",
              "</div>"
            ],
            "text/plain": [
              "   user_id  item_id  score model\n",
              "0   310745    15297    1.0  topk\n",
              "1   310745    10440    1.0  topk\n",
              "2   310745    13865    1.0  topk\n",
              "3   310745     9728    1.0  topk\n",
              "4   310745     3734    1.0  topk"
            ]
          },
          "execution_count": 125,
          "metadata": {},
          "output_type": "execute_result"
        }
      ],
      "source": [
        "candidates_top_full.head()"
      ]
    },
    {
      "cell_type": "code",
      "execution_count": null,
      "id": "cbbf2e08",
      "metadata": {
        "execution": {
          "iopub.execute_input": "2025-04-07T02:42:40.577586Z",
          "iopub.status.busy": "2025-04-07T02:42:40.577342Z",
          "iopub.status.idle": "2025-04-07T02:42:40.584201Z",
          "shell.execute_reply": "2025-04-07T02:42:40.583546Z"
        },
        "papermill": {
          "duration": 0.049928,
          "end_time": "2025-04-07T02:42:40.585424",
          "exception": false,
          "start_time": "2025-04-07T02:42:40.535496",
          "status": "completed"
        },
        "tags": [],
        "id": "cbbf2e08",
        "outputId": "0f3ebeb6-c278-4349-8430-08a631a81e88"
      },
      "outputs": [
        {
          "data": {
            "text/html": [
              "<div>\n",
              "<style scoped>\n",
              "    .dataframe tbody tr th:only-of-type {\n",
              "        vertical-align: middle;\n",
              "    }\n",
              "\n",
              "    .dataframe tbody tr th {\n",
              "        vertical-align: top;\n",
              "    }\n",
              "\n",
              "    .dataframe thead th {\n",
              "        text-align: right;\n",
              "    }\n",
              "</style>\n",
              "<table border=\"1\" class=\"dataframe\">\n",
              "  <thead>\n",
              "    <tr style=\"text-align: right;\">\n",
              "      <th></th>\n",
              "      <th>user_id</th>\n",
              "      <th>item_id</th>\n",
              "      <th>score</th>\n",
              "      <th>model</th>\n",
              "    </tr>\n",
              "  </thead>\n",
              "  <tbody>\n",
              "    <tr>\n",
              "      <th>0</th>\n",
              "      <td>310745</td>\n",
              "      <td>7571</td>\n",
              "      <td>0.006388</td>\n",
              "      <td>als</td>\n",
              "    </tr>\n",
              "    <tr>\n",
              "      <th>1</th>\n",
              "      <td>310745</td>\n",
              "      <td>12743</td>\n",
              "      <td>0.004687</td>\n",
              "      <td>als</td>\n",
              "    </tr>\n",
              "    <tr>\n",
              "      <th>2</th>\n",
              "      <td>310745</td>\n",
              "      <td>13018</td>\n",
              "      <td>0.004370</td>\n",
              "      <td>als</td>\n",
              "    </tr>\n",
              "    <tr>\n",
              "      <th>3</th>\n",
              "      <td>310745</td>\n",
              "      <td>12965</td>\n",
              "      <td>0.003693</td>\n",
              "      <td>als</td>\n",
              "    </tr>\n",
              "    <tr>\n",
              "      <th>4</th>\n",
              "      <td>310745</td>\n",
              "      <td>6774</td>\n",
              "      <td>0.003309</td>\n",
              "      <td>als</td>\n",
              "    </tr>\n",
              "  </tbody>\n",
              "</table>\n",
              "</div>"
            ],
            "text/plain": [
              "   user_id  item_id     score model\n",
              "0   310745     7571  0.006388   als\n",
              "1   310745    12743  0.004687   als\n",
              "2   310745    13018  0.004370   als\n",
              "3   310745    12965  0.003693   als\n",
              "4   310745     6774  0.003309   als"
            ]
          },
          "execution_count": 126,
          "metadata": {},
          "output_type": "execute_result"
        }
      ],
      "source": [
        "candidates_als_full.head()"
      ]
    },
    {
      "cell_type": "code",
      "execution_count": null,
      "id": "e38efdf1",
      "metadata": {
        "execution": {
          "iopub.execute_input": "2025-04-07T02:42:40.668987Z",
          "iopub.status.busy": "2025-04-07T02:42:40.668769Z",
          "iopub.status.idle": "2025-04-07T02:43:00.625638Z",
          "shell.execute_reply": "2025-04-07T02:43:00.624916Z"
        },
        "papermill": {
          "duration": 20.000137,
          "end_time": "2025-04-07T02:43:00.627157",
          "exception": false,
          "start_time": "2025-04-07T02:42:40.627020",
          "status": "completed"
        },
        "tags": [],
        "id": "e38efdf1"
      },
      "outputs": [],
      "source": [
        "internal_user_history_dict_full = get_internal_user_history_dict(dataset_full)"
      ]
    },
    {
      "cell_type": "code",
      "execution_count": null,
      "id": "9b847e8c",
      "metadata": {
        "execution": {
          "iopub.execute_input": "2025-04-07T02:43:00.712621Z",
          "iopub.status.busy": "2025-04-07T02:43:00.712323Z",
          "iopub.status.idle": "2025-04-07T02:43:00.716962Z",
          "shell.execute_reply": "2025-04-07T02:43:00.716261Z"
        },
        "papermill": {
          "duration": 0.04822,
          "end_time": "2025-04-07T02:43:00.718148",
          "exception": false,
          "start_time": "2025-04-07T02:43:00.669928",
          "status": "completed"
        },
        "tags": [],
        "id": "9b847e8c",
        "outputId": "8553f755-ce5a-4ae4-a08d-565c479fca0f"
      },
      "outputs": [
        {
          "data": {
            "text/plain": [
              "GRU4Rec(\n",
              "  (item_embedding): Embedding(15606, 64, padding_idx=0)\n",
              "  (emb_dropout): Dropout(p=0.3, inplace=False)\n",
              "  (gru_layers): GRU(64, 128, bias=False, batch_first=True)\n",
              "  (dense): Linear(in_features=128, out_features=64, bias=True)\n",
              "  (loss_fct): CrossEntropyLoss()\n",
              ")"
            ]
          },
          "execution_count": 128,
          "metadata": {},
          "output_type": "execute_result"
        }
      ],
      "source": [
        "model_full.eval()"
      ]
    },
    {
      "cell_type": "code",
      "execution_count": null,
      "id": "917f8668",
      "metadata": {
        "execution": {
          "iopub.execute_input": "2025-04-07T02:43:00.801931Z",
          "iopub.status.busy": "2025-04-07T02:43:00.801714Z",
          "iopub.status.idle": "2025-04-07T02:43:00.804654Z",
          "shell.execute_reply": "2025-04-07T02:43:00.804018Z"
        },
        "papermill": {
          "duration": 0.046511,
          "end_time": "2025-04-07T02:43:00.805926",
          "exception": false,
          "start_time": "2025-04-07T02:43:00.759415",
          "status": "completed"
        },
        "tags": [],
        "id": "917f8668"
      },
      "outputs": [],
      "source": [
        "gru_wrapper_full = GRU4RecWrapper(model_full, dataset_full, config_full)"
      ]
    },
    {
      "cell_type": "code",
      "execution_count": null,
      "id": "ffb0d6a7",
      "metadata": {
        "execution": {
          "iopub.execute_input": "2025-04-07T02:43:00.889890Z",
          "iopub.status.busy": "2025-04-07T02:43:00.889685Z",
          "iopub.status.idle": "2025-04-07T02:49:34.291897Z",
          "shell.execute_reply": "2025-04-07T02:49:34.290833Z"
        },
        "papermill": {
          "duration": 393.445971,
          "end_time": "2025-04-07T02:49:34.293664",
          "exception": false,
          "start_time": "2025-04-07T02:43:00.847693",
          "status": "completed"
        },
        "tags": [],
        "id": "ffb0d6a7",
        "outputId": "9f270c56-c409-43e2-a94c-85b81cecca86"
      },
      "outputs": [
        {
          "name": "stdout",
          "output_type": "stream",
          "text": [
            "Обработано 50000 из 606989 пользователей...\n",
            "Обработано 100000 из 606989 пользователей...\n",
            "Обработано 150000 из 606989 пользователей...\n",
            "Обработано 200000 из 606989 пользователей...\n",
            "Обработано 250000 из 606989 пользователей...\n",
            "Обработано 300000 из 606989 пользователей...\n",
            "Обработано 350000 из 606989 пользователей...\n",
            "Обработано 400000 из 606989 пользователей...\n",
            "Обработано 450000 из 606989 пользователей...\n",
            "Обработано 500000 из 606989 пользователей...\n",
            "Обработано 550000 из 606989 пользователей...\n",
            "Обработано 600000 из 606989 пользователей...\n",
            "\n",
            "Завершено. Всего: 606989\n",
            "Обработано: 606989\n",
            "Пропущено (пустые истории): 0\n",
            "Пропущено (NaN/Inf): 0\n",
            "Ошибки: 0\n",
            "CPU times: user 6min 30s, sys: 2.65 s, total: 6min 33s\n",
            "Wall time: 6min 33s\n"
          ]
        }
      ],
      "source": [
        "%%time\n",
        "\n",
        "candidates_gru_full = generate_candidates_userwise(\n",
        "    model=gru_wrapper_full,\n",
        "    user2history=internal_user_history_dict_full,\n",
        "    user_ids=list(internal_user_history_dict_full.keys()),\n",
        "    k=10,\n",
        "    model_name='gru'\n",
        ")"
      ]
    },
    {
      "cell_type": "code",
      "execution_count": null,
      "id": "f7042578",
      "metadata": {
        "execution": {
          "iopub.execute_input": "2025-04-07T02:49:34.382505Z",
          "iopub.status.busy": "2025-04-07T02:49:34.382248Z",
          "iopub.status.idle": "2025-04-07T02:49:34.386457Z",
          "shell.execute_reply": "2025-04-07T02:49:34.385841Z"
        },
        "papermill": {
          "duration": 0.049568,
          "end_time": "2025-04-07T02:49:34.387685",
          "exception": false,
          "start_time": "2025-04-07T02:49:34.338117",
          "status": "completed"
        },
        "tags": [],
        "id": "f7042578",
        "outputId": "bf665221-b3ab-4a88-8e1b-0412aed5f85a"
      },
      "outputs": [
        {
          "data": {
            "text/plain": [
              "(6069890, 4)"
            ]
          },
          "execution_count": 131,
          "metadata": {},
          "output_type": "execute_result"
        }
      ],
      "source": [
        "candidates_gru_full.shape"
      ]
    },
    {
      "cell_type": "code",
      "execution_count": null,
      "id": "5b44e3a9",
      "metadata": {
        "execution": {
          "iopub.execute_input": "2025-04-07T02:49:34.475751Z",
          "iopub.status.busy": "2025-04-07T02:49:34.475534Z",
          "iopub.status.idle": "2025-04-07T02:49:34.483290Z",
          "shell.execute_reply": "2025-04-07T02:49:34.482479Z"
        },
        "papermill": {
          "duration": 0.052427,
          "end_time": "2025-04-07T02:49:34.484582",
          "exception": false,
          "start_time": "2025-04-07T02:49:34.432155",
          "status": "completed"
        },
        "tags": [],
        "id": "5b44e3a9",
        "outputId": "bbd75a1c-2021-43fc-becb-6564c69a7fba"
      },
      "outputs": [
        {
          "data": {
            "text/html": [
              "<div>\n",
              "<style scoped>\n",
              "    .dataframe tbody tr th:only-of-type {\n",
              "        vertical-align: middle;\n",
              "    }\n",
              "\n",
              "    .dataframe tbody tr th {\n",
              "        vertical-align: top;\n",
              "    }\n",
              "\n",
              "    .dataframe thead th {\n",
              "        text-align: right;\n",
              "    }\n",
              "</style>\n",
              "<table border=\"1\" class=\"dataframe\">\n",
              "  <thead>\n",
              "    <tr style=\"text-align: right;\">\n",
              "      <th></th>\n",
              "      <th>user_id</th>\n",
              "      <th>item_id</th>\n",
              "      <th>score</th>\n",
              "      <th>model</th>\n",
              "    </tr>\n",
              "  </thead>\n",
              "  <tbody>\n",
              "    <tr>\n",
              "      <th>0</th>\n",
              "      <td>2</td>\n",
              "      <td>55</td>\n",
              "      <td>4.228240</td>\n",
              "      <td>gru</td>\n",
              "    </tr>\n",
              "    <tr>\n",
              "      <th>1</th>\n",
              "      <td>2</td>\n",
              "      <td>12</td>\n",
              "      <td>3.569906</td>\n",
              "      <td>gru</td>\n",
              "    </tr>\n",
              "    <tr>\n",
              "      <th>2</th>\n",
              "      <td>2</td>\n",
              "      <td>6</td>\n",
              "      <td>3.102523</td>\n",
              "      <td>gru</td>\n",
              "    </tr>\n",
              "    <tr>\n",
              "      <th>3</th>\n",
              "      <td>2</td>\n",
              "      <td>20</td>\n",
              "      <td>3.068337</td>\n",
              "      <td>gru</td>\n",
              "    </tr>\n",
              "    <tr>\n",
              "      <th>4</th>\n",
              "      <td>2</td>\n",
              "      <td>26</td>\n",
              "      <td>1.872598</td>\n",
              "      <td>gru</td>\n",
              "    </tr>\n",
              "  </tbody>\n",
              "</table>\n",
              "</div>"
            ],
            "text/plain": [
              "   user_id  item_id     score model\n",
              "0        2       55  4.228240   gru\n",
              "1        2       12  3.569906   gru\n",
              "2        2        6  3.102523   gru\n",
              "3        2       20  3.068337   gru\n",
              "4        2       26  1.872598   gru"
            ]
          },
          "execution_count": 132,
          "metadata": {},
          "output_type": "execute_result"
        }
      ],
      "source": [
        "candidates_gru_full.head()"
      ]
    },
    {
      "cell_type": "code",
      "execution_count": null,
      "id": "baaae73c",
      "metadata": {
        "execution": {
          "iopub.execute_input": "2025-04-07T02:49:34.572045Z",
          "iopub.status.busy": "2025-04-07T02:49:34.571842Z",
          "iopub.status.idle": "2025-04-07T02:50:09.902227Z",
          "shell.execute_reply": "2025-04-07T02:50:09.901463Z"
        },
        "papermill": {
          "duration": 35.376265,
          "end_time": "2025-04-07T02:50:09.903855",
          "exception": false,
          "start_time": "2025-04-07T02:49:34.527590",
          "status": "completed"
        },
        "tags": [],
        "id": "baaae73c"
      },
      "outputs": [],
      "source": [
        "df_l2_full = merge_model_outputs_for_l2(candidates_top_full, candidates_als_full, candidates_gru_full)"
      ]
    },
    {
      "cell_type": "code",
      "execution_count": null,
      "id": "d121f52e",
      "metadata": {
        "execution": {
          "iopub.execute_input": "2025-04-07T02:50:09.992987Z",
          "iopub.status.busy": "2025-04-07T02:50:09.992740Z",
          "iopub.status.idle": "2025-04-07T02:50:09.997055Z",
          "shell.execute_reply": "2025-04-07T02:50:09.996419Z"
        },
        "papermill": {
          "duration": 0.049152,
          "end_time": "2025-04-07T02:50:09.998193",
          "exception": false,
          "start_time": "2025-04-07T02:50:09.949041",
          "status": "completed"
        },
        "tags": [],
        "id": "d121f52e",
        "outputId": "ad76aca8-2f05-48c3-9ccc-f6aca69d80a6"
      },
      "outputs": [
        {
          "data": {
            "text/plain": [
              "(23781806, 5)"
            ]
          },
          "execution_count": 134,
          "metadata": {},
          "output_type": "execute_result"
        }
      ],
      "source": [
        "df_l2_full.shape"
      ]
    },
    {
      "cell_type": "code",
      "execution_count": null,
      "id": "79009016",
      "metadata": {
        "execution": {
          "iopub.execute_input": "2025-04-07T02:50:10.085648Z",
          "iopub.status.busy": "2025-04-07T02:50:10.085391Z",
          "iopub.status.idle": "2025-04-07T02:50:10.093990Z",
          "shell.execute_reply": "2025-04-07T02:50:10.093318Z"
        },
        "papermill": {
          "duration": 0.053302,
          "end_time": "2025-04-07T02:50:10.095131",
          "exception": false,
          "start_time": "2025-04-07T02:50:10.041829",
          "status": "completed"
        },
        "tags": [],
        "id": "79009016",
        "outputId": "dfc49386-72b7-45aa-d91e-e7c077ea2a38"
      },
      "outputs": [
        {
          "data": {
            "text/html": [
              "<div>\n",
              "<style scoped>\n",
              "    .dataframe tbody tr th:only-of-type {\n",
              "        vertical-align: middle;\n",
              "    }\n",
              "\n",
              "    .dataframe tbody tr th {\n",
              "        vertical-align: top;\n",
              "    }\n",
              "\n",
              "    .dataframe thead th {\n",
              "        text-align: right;\n",
              "    }\n",
              "</style>\n",
              "<table border=\"1\" class=\"dataframe\">\n",
              "  <thead>\n",
              "    <tr style=\"text-align: right;\">\n",
              "      <th></th>\n",
              "      <th>user_id</th>\n",
              "      <th>item_id</th>\n",
              "      <th>score_topk</th>\n",
              "      <th>score_als</th>\n",
              "      <th>score_gru</th>\n",
              "    </tr>\n",
              "  </thead>\n",
              "  <tbody>\n",
              "    <tr>\n",
              "      <th>0</th>\n",
              "      <td>0</td>\n",
              "      <td>142</td>\n",
              "      <td>1.0</td>\n",
              "      <td>0.000000e+00</td>\n",
              "      <td>0.0</td>\n",
              "    </tr>\n",
              "    <tr>\n",
              "      <th>1</th>\n",
              "      <td>0</td>\n",
              "      <td>657</td>\n",
              "      <td>0.0</td>\n",
              "      <td>3.893564e-07</td>\n",
              "      <td>0.0</td>\n",
              "    </tr>\n",
              "    <tr>\n",
              "      <th>2</th>\n",
              "      <td>0</td>\n",
              "      <td>3734</td>\n",
              "      <td>1.0</td>\n",
              "      <td>0.000000e+00</td>\n",
              "      <td>0.0</td>\n",
              "    </tr>\n",
              "    <tr>\n",
              "      <th>3</th>\n",
              "      <td>0</td>\n",
              "      <td>4151</td>\n",
              "      <td>1.0</td>\n",
              "      <td>2.644804e-07</td>\n",
              "      <td>0.0</td>\n",
              "    </tr>\n",
              "    <tr>\n",
              "      <th>4</th>\n",
              "      <td>0</td>\n",
              "      <td>5803</td>\n",
              "      <td>0.0</td>\n",
              "      <td>3.072668e-07</td>\n",
              "      <td>0.0</td>\n",
              "    </tr>\n",
              "  </tbody>\n",
              "</table>\n",
              "</div>"
            ],
            "text/plain": [
              "   user_id  item_id  score_topk     score_als  score_gru\n",
              "0        0      142         1.0  0.000000e+00        0.0\n",
              "1        0      657         0.0  3.893564e-07        0.0\n",
              "2        0     3734         1.0  0.000000e+00        0.0\n",
              "3        0     4151         1.0  2.644804e-07        0.0\n",
              "4        0     5803         0.0  3.072668e-07        0.0"
            ]
          },
          "execution_count": 135,
          "metadata": {},
          "output_type": "execute_result"
        }
      ],
      "source": [
        "df_l2_full.head()"
      ]
    },
    {
      "cell_type": "code",
      "execution_count": null,
      "id": "024401da",
      "metadata": {
        "execution": {
          "iopub.execute_input": "2025-04-07T02:50:10.182302Z",
          "iopub.status.busy": "2025-04-07T02:50:10.182104Z",
          "iopub.status.idle": "2025-04-07T02:50:10.189517Z",
          "shell.execute_reply": "2025-04-07T02:50:10.188858Z"
        },
        "papermill": {
          "duration": 0.052003,
          "end_time": "2025-04-07T02:50:10.190689",
          "exception": false,
          "start_time": "2025-04-07T02:50:10.138686",
          "status": "completed"
        },
        "tags": [],
        "id": "024401da",
        "outputId": "eb434e4f-21f6-47eb-c4d7-f3a3800b6653"
      },
      "outputs": [
        {
          "name": "stdout",
          "output_type": "stream",
          "text": [
            "<class 'pandas.core.frame.DataFrame'>\n",
            "RangeIndex: 23781806 entries, 0 to 23781805\n",
            "Data columns (total 5 columns):\n",
            " #   Column      Dtype  \n",
            "---  ------      -----  \n",
            " 0   user_id     int64  \n",
            " 1   item_id     int64  \n",
            " 2   score_topk  float64\n",
            " 3   score_als   float64\n",
            " 4   score_gru   float64\n",
            "dtypes: float64(3), int64(2)\n",
            "memory usage: 907.2 MB\n"
          ]
        }
      ],
      "source": [
        "df_l2_full.info()"
      ]
    },
    {
      "cell_type": "code",
      "execution_count": null,
      "id": "561148d8",
      "metadata": {
        "execution": {
          "iopub.execute_input": "2025-04-07T02:50:10.278189Z",
          "iopub.status.busy": "2025-04-07T02:50:10.277989Z",
          "iopub.status.idle": "2025-04-07T02:50:10.285022Z",
          "shell.execute_reply": "2025-04-07T02:50:10.284320Z"
        },
        "papermill": {
          "duration": 0.051713,
          "end_time": "2025-04-07T02:50:10.286178",
          "exception": false,
          "start_time": "2025-04-07T02:50:10.234465",
          "status": "completed"
        },
        "tags": [],
        "id": "561148d8",
        "outputId": "99f97b9d-4a4d-4842-ea21-59ce331a62ca"
      },
      "outputs": [
        {
          "name": "stdout",
          "output_type": "stream",
          "text": [
            "<class 'pandas.core.frame.DataFrame'>\n",
            "RangeIndex: 5475423 entries, 0 to 5475422\n",
            "Data columns (total 6 columns):\n",
            " #   Column         Dtype  \n",
            "---  ------         -----  \n",
            " 0   user_id        int64  \n",
            " 1   item_id        int64  \n",
            " 2   last_watch_dt  object \n",
            " 3   total_dur      int64  \n",
            " 4   watched_pct    float64\n",
            " 5   target         int64  \n",
            "dtypes: float64(1), int64(4), object(1)\n",
            "memory usage: 250.6+ MB\n"
          ]
        }
      ],
      "source": [
        "history_full.info()"
      ]
    },
    {
      "cell_type": "code",
      "execution_count": null,
      "id": "94275ed7",
      "metadata": {
        "execution": {
          "iopub.execute_input": "2025-04-07T02:50:10.372961Z",
          "iopub.status.busy": "2025-04-07T02:50:10.372745Z",
          "iopub.status.idle": "2025-04-07T02:50:23.491769Z",
          "shell.execute_reply": "2025-04-07T02:50:23.490796Z"
        },
        "papermill": {
          "duration": 13.16411,
          "end_time": "2025-04-07T02:50:23.493328",
          "exception": false,
          "start_time": "2025-04-07T02:50:10.329218",
          "status": "completed"
        },
        "tags": [],
        "id": "94275ed7"
      },
      "outputs": [],
      "source": [
        "history_full = pd.concat([train_stage_1, valid_stage_1, test], ignore_index=True)\n",
        "history_full['last_watch_dt'] = pd.to_datetime(history_full['last_watch_dt'])"
      ]
    },
    {
      "cell_type": "code",
      "execution_count": null,
      "id": "c48f7b9d",
      "metadata": {
        "execution": {
          "iopub.execute_input": "2025-04-07T02:50:23.585492Z",
          "iopub.status.busy": "2025-04-07T02:50:23.585193Z",
          "iopub.status.idle": "2025-04-07T02:50:23.589761Z",
          "shell.execute_reply": "2025-04-07T02:50:23.588958Z"
        },
        "papermill": {
          "duration": 0.051834,
          "end_time": "2025-04-07T02:50:23.591093",
          "exception": false,
          "start_time": "2025-04-07T02:50:23.539259",
          "status": "completed"
        },
        "tags": [],
        "id": "c48f7b9d",
        "outputId": "489a2770-048e-4eae-91e8-ac2d8ff27361"
      },
      "outputs": [
        {
          "data": {
            "text/plain": [
              "(5475423, 6)"
            ]
          },
          "execution_count": 139,
          "metadata": {},
          "output_type": "execute_result"
        }
      ],
      "source": [
        "history_full.shape"
      ]
    },
    {
      "cell_type": "code",
      "execution_count": null,
      "id": "f27f026e",
      "metadata": {
        "execution": {
          "iopub.execute_input": "2025-04-07T02:50:23.679416Z",
          "iopub.status.busy": "2025-04-07T02:50:23.679176Z",
          "iopub.status.idle": "2025-04-07T02:50:34.550400Z",
          "shell.execute_reply": "2025-04-07T02:50:34.549400Z"
        },
        "papermill": {
          "duration": 10.917068,
          "end_time": "2025-04-07T02:50:34.552028",
          "exception": false,
          "start_time": "2025-04-07T02:50:23.634960",
          "status": "completed"
        },
        "tags": [],
        "id": "f27f026e"
      },
      "outputs": [],
      "source": [
        "df_l2_full_all = history_full.merge(df_l2_full, on=['user_id', 'item_id'], how='left')"
      ]
    },
    {
      "cell_type": "code",
      "execution_count": null,
      "id": "5d5c5fcb",
      "metadata": {
        "execution": {
          "iopub.execute_input": "2025-04-07T02:50:34.643893Z",
          "iopub.status.busy": "2025-04-07T02:50:34.643596Z",
          "iopub.status.idle": "2025-04-07T02:50:34.648339Z",
          "shell.execute_reply": "2025-04-07T02:50:34.647512Z"
        },
        "papermill": {
          "duration": 0.04994,
          "end_time": "2025-04-07T02:50:34.649478",
          "exception": false,
          "start_time": "2025-04-07T02:50:34.599538",
          "status": "completed"
        },
        "tags": [],
        "id": "5d5c5fcb",
        "outputId": "f64657d2-50b5-4eda-d226-6d53fce16438"
      },
      "outputs": [
        {
          "data": {
            "text/plain": [
              "(5475423, 9)"
            ]
          },
          "execution_count": 141,
          "metadata": {},
          "output_type": "execute_result"
        }
      ],
      "source": [
        "df_l2_full_all.shape"
      ]
    },
    {
      "cell_type": "code",
      "execution_count": null,
      "id": "c249b1a5",
      "metadata": {
        "execution": {
          "iopub.execute_input": "2025-04-07T02:50:34.737170Z",
          "iopub.status.busy": "2025-04-07T02:50:34.736913Z",
          "iopub.status.idle": "2025-04-07T02:50:34.746009Z",
          "shell.execute_reply": "2025-04-07T02:50:34.745287Z"
        },
        "papermill": {
          "duration": 0.054352,
          "end_time": "2025-04-07T02:50:34.747284",
          "exception": false,
          "start_time": "2025-04-07T02:50:34.692932",
          "status": "completed"
        },
        "tags": [],
        "id": "c249b1a5",
        "outputId": "c168a3a5-fbe9-47bf-fa7a-8bc993903ac1"
      },
      "outputs": [
        {
          "name": "stdout",
          "output_type": "stream",
          "text": [
            "<class 'pandas.core.frame.DataFrame'>\n",
            "RangeIndex: 5475423 entries, 0 to 5475422\n",
            "Data columns (total 9 columns):\n",
            " #   Column         Dtype         \n",
            "---  ------         -----         \n",
            " 0   user_id        int64         \n",
            " 1   item_id        int64         \n",
            " 2   last_watch_dt  datetime64[ns]\n",
            " 3   total_dur      int64         \n",
            " 4   watched_pct    float64       \n",
            " 5   target         int64         \n",
            " 6   score_topk     float64       \n",
            " 7   score_als      float64       \n",
            " 8   score_gru      float64       \n",
            "dtypes: datetime64[ns](1), float64(4), int64(4)\n",
            "memory usage: 376.0 MB\n"
          ]
        }
      ],
      "source": [
        "df_l2_full_all.info()"
      ]
    },
    {
      "cell_type": "code",
      "execution_count": null,
      "id": "0ac7f502",
      "metadata": {
        "execution": {
          "iopub.execute_input": "2025-04-07T02:50:34.836745Z",
          "iopub.status.busy": "2025-04-07T02:50:34.836524Z",
          "iopub.status.idle": "2025-04-07T03:01:42.896361Z",
          "shell.execute_reply": "2025-04-07T03:01:42.895618Z"
        },
        "papermill": {
          "duration": 668.105902,
          "end_time": "2025-04-07T03:01:42.897774",
          "exception": false,
          "start_time": "2025-04-07T02:50:34.791872",
          "status": "completed"
        },
        "tags": [],
        "id": "0ac7f502",
        "outputId": "ac29abd6-f065-460e-baec-6d162d38e1e3"
      },
      "outputs": [
        {
          "name": "stderr",
          "output_type": "stream",
          "text": [
            "100%|██████████| 163/163 [11:05<00:00,  4.08s/it]\n"
          ]
        },
        {
          "name": "stdout",
          "output_type": "stream",
          "text": [
            "CPU times: user 9min 28s, sys: 1min 42s, total: 11min 10s\n",
            "Wall time: 11min 8s\n"
          ]
        }
      ],
      "source": [
        "%%time\n",
        "\n",
        "df_l2_full_feats = generate_features_by_day(df_l2_full_all, history_full)"
      ]
    },
    {
      "cell_type": "code",
      "execution_count": null,
      "id": "ffd5490f",
      "metadata": {
        "execution": {
          "iopub.execute_input": "2025-04-07T03:01:43.003918Z",
          "iopub.status.busy": "2025-04-07T03:01:43.003653Z",
          "iopub.status.idle": "2025-04-07T03:01:43.175286Z",
          "shell.execute_reply": "2025-04-07T03:01:43.174641Z"
        },
        "papermill": {
          "duration": 0.225003,
          "end_time": "2025-04-07T03:01:43.176520",
          "exception": false,
          "start_time": "2025-04-07T03:01:42.951517",
          "status": "completed"
        },
        "tags": [],
        "id": "ffd5490f"
      },
      "outputs": [],
      "source": [
        "df_l2_full_feats = df_l2_full_feats.drop(columns=['watched_pct'])"
      ]
    },
    {
      "cell_type": "code",
      "execution_count": null,
      "id": "41cdb88d",
      "metadata": {
        "execution": {
          "iopub.execute_input": "2025-04-07T03:01:43.278777Z",
          "iopub.status.busy": "2025-04-07T03:01:43.278542Z",
          "iopub.status.idle": "2025-04-07T03:01:43.283064Z",
          "shell.execute_reply": "2025-04-07T03:01:43.282256Z"
        },
        "papermill": {
          "duration": 0.056635,
          "end_time": "2025-04-07T03:01:43.284198",
          "exception": false,
          "start_time": "2025-04-07T03:01:43.227563",
          "status": "completed"
        },
        "tags": [],
        "id": "41cdb88d",
        "outputId": "67b237b4-7fce-4c01-a8ae-66f6373cacce"
      },
      "outputs": [
        {
          "data": {
            "text/plain": [
              "(5475423, 18)"
            ]
          },
          "execution_count": 145,
          "metadata": {},
          "output_type": "execute_result"
        }
      ],
      "source": [
        "df_l2_full_feats.shape"
      ]
    },
    {
      "cell_type": "code",
      "execution_count": null,
      "id": "86b72991",
      "metadata": {
        "execution": {
          "iopub.execute_input": "2025-04-07T03:01:43.388409Z",
          "iopub.status.busy": "2025-04-07T03:01:43.388199Z",
          "iopub.status.idle": "2025-04-07T03:01:43.403789Z",
          "shell.execute_reply": "2025-04-07T03:01:43.403067Z"
        },
        "papermill": {
          "duration": 0.06831,
          "end_time": "2025-04-07T03:01:43.404962",
          "exception": false,
          "start_time": "2025-04-07T03:01:43.336652",
          "status": "completed"
        },
        "tags": [],
        "id": "86b72991",
        "outputId": "6bd766eb-d7c2-45c1-8154-2fef46a21ed7"
      },
      "outputs": [
        {
          "data": {
            "text/html": [
              "<div>\n",
              "<style scoped>\n",
              "    .dataframe tbody tr th:only-of-type {\n",
              "        vertical-align: middle;\n",
              "    }\n",
              "\n",
              "    .dataframe tbody tr th {\n",
              "        vertical-align: top;\n",
              "    }\n",
              "\n",
              "    .dataframe thead th {\n",
              "        text-align: right;\n",
              "    }\n",
              "</style>\n",
              "<table border=\"1\" class=\"dataframe\">\n",
              "  <thead>\n",
              "    <tr style=\"text-align: right;\">\n",
              "      <th></th>\n",
              "      <th>user_id</th>\n",
              "      <th>item_id</th>\n",
              "      <th>last_watch_dt</th>\n",
              "      <th>total_dur</th>\n",
              "      <th>target</th>\n",
              "      <th>score_topk</th>\n",
              "      <th>score_als</th>\n",
              "      <th>score_gru</th>\n",
              "      <th>user_mean_watch_pct</th>\n",
              "      <th>user_total_watches</th>\n",
              "      <th>item_avg_watch_pct</th>\n",
              "      <th>item_watch_count</th>\n",
              "      <th>user_item_mean_pct</th>\n",
              "      <th>user_item_watch_count</th>\n",
              "      <th>user_max_watch_pct_item</th>\n",
              "      <th>user_recent_watch_pct_item</th>\n",
              "      <th>user_rewatched_item</th>\n",
              "      <th>user_watch_share_of_total</th>\n",
              "    </tr>\n",
              "  </thead>\n",
              "  <tbody>\n",
              "    <tr>\n",
              "      <th>0</th>\n",
              "      <td>310745</td>\n",
              "      <td>13373</td>\n",
              "      <td>2021-03-13</td>\n",
              "      <td>4485</td>\n",
              "      <td>1</td>\n",
              "      <td>0.0</td>\n",
              "      <td>0.000000</td>\n",
              "      <td>0.0</td>\n",
              "      <td>0.0</td>\n",
              "      <td>0.0</td>\n",
              "      <td>0.0</td>\n",
              "      <td>0.0</td>\n",
              "      <td>0.0</td>\n",
              "      <td>0.0</td>\n",
              "      <td>0.0</td>\n",
              "      <td>0.0</td>\n",
              "      <td>0.0</td>\n",
              "      <td>0.0</td>\n",
              "    </tr>\n",
              "    <tr>\n",
              "      <th>1</th>\n",
              "      <td>952323</td>\n",
              "      <td>15997</td>\n",
              "      <td>2021-03-13</td>\n",
              "      <td>7507</td>\n",
              "      <td>1</td>\n",
              "      <td>0.0</td>\n",
              "      <td>0.000000</td>\n",
              "      <td>0.0</td>\n",
              "      <td>0.0</td>\n",
              "      <td>0.0</td>\n",
              "      <td>0.0</td>\n",
              "      <td>0.0</td>\n",
              "      <td>0.0</td>\n",
              "      <td>0.0</td>\n",
              "      <td>0.0</td>\n",
              "      <td>0.0</td>\n",
              "      <td>0.0</td>\n",
              "      <td>0.0</td>\n",
              "    </tr>\n",
              "    <tr>\n",
              "      <th>2</th>\n",
              "      <td>889459</td>\n",
              "      <td>11460</td>\n",
              "      <td>2021-03-13</td>\n",
              "      <td>60</td>\n",
              "      <td>0</td>\n",
              "      <td>0.0</td>\n",
              "      <td>0.000000</td>\n",
              "      <td>0.0</td>\n",
              "      <td>0.0</td>\n",
              "      <td>0.0</td>\n",
              "      <td>0.0</td>\n",
              "      <td>0.0</td>\n",
              "      <td>0.0</td>\n",
              "      <td>0.0</td>\n",
              "      <td>0.0</td>\n",
              "      <td>0.0</td>\n",
              "      <td>0.0</td>\n",
              "      <td>0.0</td>\n",
              "    </tr>\n",
              "    <tr>\n",
              "      <th>3</th>\n",
              "      <td>854016</td>\n",
              "      <td>11237</td>\n",
              "      <td>2021-03-13</td>\n",
              "      <td>5381</td>\n",
              "      <td>1</td>\n",
              "      <td>1.0</td>\n",
              "      <td>1.010682</td>\n",
              "      <td>0.0</td>\n",
              "      <td>0.0</td>\n",
              "      <td>0.0</td>\n",
              "      <td>0.0</td>\n",
              "      <td>0.0</td>\n",
              "      <td>0.0</td>\n",
              "      <td>0.0</td>\n",
              "      <td>0.0</td>\n",
              "      <td>0.0</td>\n",
              "      <td>0.0</td>\n",
              "      <td>0.0</td>\n",
              "    </tr>\n",
              "    <tr>\n",
              "      <th>4</th>\n",
              "      <td>307257</td>\n",
              "      <td>9132</td>\n",
              "      <td>2021-03-13</td>\n",
              "      <td>5814</td>\n",
              "      <td>1</td>\n",
              "      <td>0.0</td>\n",
              "      <td>0.000000</td>\n",
              "      <td>0.0</td>\n",
              "      <td>0.0</td>\n",
              "      <td>0.0</td>\n",
              "      <td>0.0</td>\n",
              "      <td>0.0</td>\n",
              "      <td>0.0</td>\n",
              "      <td>0.0</td>\n",
              "      <td>0.0</td>\n",
              "      <td>0.0</td>\n",
              "      <td>0.0</td>\n",
              "      <td>0.0</td>\n",
              "    </tr>\n",
              "  </tbody>\n",
              "</table>\n",
              "</div>"
            ],
            "text/plain": [
              "   user_id  item_id last_watch_dt  total_dur  target  score_topk  score_als  \\\n",
              "0   310745    13373    2021-03-13       4485       1         0.0   0.000000   \n",
              "1   952323    15997    2021-03-13       7507       1         0.0   0.000000   \n",
              "2   889459    11460    2021-03-13         60       0         0.0   0.000000   \n",
              "3   854016    11237    2021-03-13       5381       1         1.0   1.010682   \n",
              "4   307257     9132    2021-03-13       5814       1         0.0   0.000000   \n",
              "\n",
              "   score_gru  user_mean_watch_pct  user_total_watches  item_avg_watch_pct  \\\n",
              "0        0.0                  0.0                 0.0                 0.0   \n",
              "1        0.0                  0.0                 0.0                 0.0   \n",
              "2        0.0                  0.0                 0.0                 0.0   \n",
              "3        0.0                  0.0                 0.0                 0.0   \n",
              "4        0.0                  0.0                 0.0                 0.0   \n",
              "\n",
              "   item_watch_count  user_item_mean_pct  user_item_watch_count  \\\n",
              "0               0.0                 0.0                    0.0   \n",
              "1               0.0                 0.0                    0.0   \n",
              "2               0.0                 0.0                    0.0   \n",
              "3               0.0                 0.0                    0.0   \n",
              "4               0.0                 0.0                    0.0   \n",
              "\n",
              "   user_max_watch_pct_item  user_recent_watch_pct_item  user_rewatched_item  \\\n",
              "0                      0.0                         0.0                  0.0   \n",
              "1                      0.0                         0.0                  0.0   \n",
              "2                      0.0                         0.0                  0.0   \n",
              "3                      0.0                         0.0                  0.0   \n",
              "4                      0.0                         0.0                  0.0   \n",
              "\n",
              "   user_watch_share_of_total  \n",
              "0                        0.0  \n",
              "1                        0.0  \n",
              "2                        0.0  \n",
              "3                        0.0  \n",
              "4                        0.0  "
            ]
          },
          "execution_count": 146,
          "metadata": {},
          "output_type": "execute_result"
        }
      ],
      "source": [
        "df_l2_full_feats.head()"
      ]
    },
    {
      "cell_type": "code",
      "execution_count": null,
      "id": "2b835bef",
      "metadata": {
        "execution": {
          "iopub.execute_input": "2025-04-07T03:01:43.508973Z",
          "iopub.status.busy": "2025-04-07T03:01:43.508704Z",
          "iopub.status.idle": "2025-04-07T03:01:43.705176Z",
          "shell.execute_reply": "2025-04-07T03:01:43.704279Z"
        },
        "papermill": {
          "duration": 0.249513,
          "end_time": "2025-04-07T03:01:43.706493",
          "exception": false,
          "start_time": "2025-04-07T03:01:43.456980",
          "status": "completed"
        },
        "tags": [],
        "id": "2b835bef",
        "outputId": "f680bcca-df95-4f49-b656-f3381efb6d53"
      },
      "outputs": [
        {
          "data": {
            "text/plain": [
              "(5475423, 14)"
            ]
          },
          "execution_count": 147,
          "metadata": {},
          "output_type": "execute_result"
        }
      ],
      "source": [
        "feature_cols = [col for col in df_l2_full_feats.columns if col not in ['user_id', 'item_id', 'last_watch_dt', 'target']]\n",
        "X_final = df_l2_full_feats[feature_cols]\n",
        "y_train = df_l2_full_feats['target']\n",
        "X_final.shape"
      ]
    },
    {
      "cell_type": "code",
      "execution_count": null,
      "id": "e2a95bb9",
      "metadata": {
        "execution": {
          "iopub.execute_input": "2025-04-07T03:01:43.918413Z",
          "iopub.status.busy": "2025-04-07T03:01:43.918209Z",
          "iopub.status.idle": "2025-04-07T03:01:43.922647Z",
          "shell.execute_reply": "2025-04-07T03:01:43.921945Z"
        },
        "papermill": {
          "duration": 0.057339,
          "end_time": "2025-04-07T03:01:43.923881",
          "exception": false,
          "start_time": "2025-04-07T03:01:43.866542",
          "status": "completed"
        },
        "tags": [],
        "id": "e2a95bb9",
        "outputId": "a186e894-e590-4d36-e038-1af25f4a7edf"
      },
      "outputs": [
        {
          "data": {
            "text/plain": [
              "(1456245, 14)"
            ]
          },
          "execution_count": 149,
          "metadata": {},
          "output_type": "execute_result"
        }
      ],
      "source": [
        "X_train.shape"
      ]
    },
    {
      "cell_type": "code",
      "execution_count": null,
      "id": "8d648f9a",
      "metadata": {
        "execution": {
          "iopub.execute_input": "2025-04-07T03:01:44.028330Z",
          "iopub.status.busy": "2025-04-07T03:01:44.028097Z",
          "iopub.status.idle": "2025-04-07T03:01:54.810178Z",
          "shell.execute_reply": "2025-04-07T03:01:54.809199Z"
        },
        "papermill": {
          "duration": 10.835918,
          "end_time": "2025-04-07T03:01:54.811824",
          "exception": false,
          "start_time": "2025-04-07T03:01:43.975906",
          "status": "completed"
        },
        "tags": [],
        "id": "8d648f9a"
      },
      "outputs": [],
      "source": [
        "df_l2_full_feats['ranker_score'] = model_xgb.predict_proba(X_final)[:, 1]\n",
        "\n",
        "k = 10\n",
        "topk_final = (\n",
        "    df_l2_full_feats\n",
        "    .sort_values(by=['user_id', 'ranker_score'], ascending=[True, False])\n",
        "    .groupby('user_id')\n",
        "    .head(k)\n",
        "    .reset_index(drop=True)\n",
        ")"
      ]
    },
    {
      "cell_type": "code",
      "execution_count": null,
      "id": "79f18f65",
      "metadata": {
        "execution": {
          "iopub.execute_input": "2025-04-07T03:01:54.920010Z",
          "iopub.status.busy": "2025-04-07T03:01:54.919695Z",
          "iopub.status.idle": "2025-04-07T03:01:54.939926Z",
          "shell.execute_reply": "2025-04-07T03:01:54.939154Z"
        },
        "papermill": {
          "duration": 0.076119,
          "end_time": "2025-04-07T03:01:54.941219",
          "exception": false,
          "start_time": "2025-04-07T03:01:54.865100",
          "status": "completed"
        },
        "tags": [],
        "id": "79f18f65",
        "outputId": "85355de7-56b1-48af-8d4b-e5b1b877a44b"
      },
      "outputs": [
        {
          "data": {
            "text/html": [
              "<div>\n",
              "<style scoped>\n",
              "    .dataframe tbody tr th:only-of-type {\n",
              "        vertical-align: middle;\n",
              "    }\n",
              "\n",
              "    .dataframe tbody tr th {\n",
              "        vertical-align: top;\n",
              "    }\n",
              "\n",
              "    .dataframe thead th {\n",
              "        text-align: right;\n",
              "    }\n",
              "</style>\n",
              "<table border=\"1\" class=\"dataframe\">\n",
              "  <thead>\n",
              "    <tr style=\"text-align: right;\">\n",
              "      <th></th>\n",
              "      <th>user_id</th>\n",
              "      <th>item_id</th>\n",
              "      <th>last_watch_dt</th>\n",
              "      <th>total_dur</th>\n",
              "      <th>target</th>\n",
              "      <th>score_topk</th>\n",
              "      <th>score_als</th>\n",
              "      <th>score_gru</th>\n",
              "      <th>user_mean_watch_pct</th>\n",
              "      <th>user_total_watches</th>\n",
              "      <th>item_avg_watch_pct</th>\n",
              "      <th>item_watch_count</th>\n",
              "      <th>user_item_mean_pct</th>\n",
              "      <th>user_item_watch_count</th>\n",
              "      <th>user_max_watch_pct_item</th>\n",
              "      <th>user_recent_watch_pct_item</th>\n",
              "      <th>user_rewatched_item</th>\n",
              "      <th>user_watch_share_of_total</th>\n",
              "      <th>ranker_score</th>\n",
              "    </tr>\n",
              "  </thead>\n",
              "  <tbody>\n",
              "    <tr>\n",
              "      <th>0</th>\n",
              "      <td>310745</td>\n",
              "      <td>13373</td>\n",
              "      <td>2021-03-13</td>\n",
              "      <td>4485</td>\n",
              "      <td>1</td>\n",
              "      <td>0.0</td>\n",
              "      <td>0.000000</td>\n",
              "      <td>0.0</td>\n",
              "      <td>0.0</td>\n",
              "      <td>0.0</td>\n",
              "      <td>0.0</td>\n",
              "      <td>0.0</td>\n",
              "      <td>0.0</td>\n",
              "      <td>0.0</td>\n",
              "      <td>0.0</td>\n",
              "      <td>0.0</td>\n",
              "      <td>0.0</td>\n",
              "      <td>0.0</td>\n",
              "      <td>0.830061</td>\n",
              "    </tr>\n",
              "    <tr>\n",
              "      <th>1</th>\n",
              "      <td>952323</td>\n",
              "      <td>15997</td>\n",
              "      <td>2021-03-13</td>\n",
              "      <td>7507</td>\n",
              "      <td>1</td>\n",
              "      <td>0.0</td>\n",
              "      <td>0.000000</td>\n",
              "      <td>0.0</td>\n",
              "      <td>0.0</td>\n",
              "      <td>0.0</td>\n",
              "      <td>0.0</td>\n",
              "      <td>0.0</td>\n",
              "      <td>0.0</td>\n",
              "      <td>0.0</td>\n",
              "      <td>0.0</td>\n",
              "      <td>0.0</td>\n",
              "      <td>0.0</td>\n",
              "      <td>0.0</td>\n",
              "      <td>0.847814</td>\n",
              "    </tr>\n",
              "    <tr>\n",
              "      <th>2</th>\n",
              "      <td>889459</td>\n",
              "      <td>11460</td>\n",
              "      <td>2021-03-13</td>\n",
              "      <td>60</td>\n",
              "      <td>0</td>\n",
              "      <td>0.0</td>\n",
              "      <td>0.000000</td>\n",
              "      <td>0.0</td>\n",
              "      <td>0.0</td>\n",
              "      <td>0.0</td>\n",
              "      <td>0.0</td>\n",
              "      <td>0.0</td>\n",
              "      <td>0.0</td>\n",
              "      <td>0.0</td>\n",
              "      <td>0.0</td>\n",
              "      <td>0.0</td>\n",
              "      <td>0.0</td>\n",
              "      <td>0.0</td>\n",
              "      <td>0.002912</td>\n",
              "    </tr>\n",
              "    <tr>\n",
              "      <th>3</th>\n",
              "      <td>854016</td>\n",
              "      <td>11237</td>\n",
              "      <td>2021-03-13</td>\n",
              "      <td>5381</td>\n",
              "      <td>1</td>\n",
              "      <td>1.0</td>\n",
              "      <td>1.010682</td>\n",
              "      <td>0.0</td>\n",
              "      <td>0.0</td>\n",
              "      <td>0.0</td>\n",
              "      <td>0.0</td>\n",
              "      <td>0.0</td>\n",
              "      <td>0.0</td>\n",
              "      <td>0.0</td>\n",
              "      <td>0.0</td>\n",
              "      <td>0.0</td>\n",
              "      <td>0.0</td>\n",
              "      <td>0.0</td>\n",
              "      <td>0.919657</td>\n",
              "    </tr>\n",
              "    <tr>\n",
              "      <th>4</th>\n",
              "      <td>307257</td>\n",
              "      <td>9132</td>\n",
              "      <td>2021-03-13</td>\n",
              "      <td>5814</td>\n",
              "      <td>1</td>\n",
              "      <td>0.0</td>\n",
              "      <td>0.000000</td>\n",
              "      <td>0.0</td>\n",
              "      <td>0.0</td>\n",
              "      <td>0.0</td>\n",
              "      <td>0.0</td>\n",
              "      <td>0.0</td>\n",
              "      <td>0.0</td>\n",
              "      <td>0.0</td>\n",
              "      <td>0.0</td>\n",
              "      <td>0.0</td>\n",
              "      <td>0.0</td>\n",
              "      <td>0.0</td>\n",
              "      <td>0.887922</td>\n",
              "    </tr>\n",
              "  </tbody>\n",
              "</table>\n",
              "</div>"
            ],
            "text/plain": [
              "   user_id  item_id last_watch_dt  total_dur  target  score_topk  score_als  \\\n",
              "0   310745    13373    2021-03-13       4485       1         0.0   0.000000   \n",
              "1   952323    15997    2021-03-13       7507       1         0.0   0.000000   \n",
              "2   889459    11460    2021-03-13         60       0         0.0   0.000000   \n",
              "3   854016    11237    2021-03-13       5381       1         1.0   1.010682   \n",
              "4   307257     9132    2021-03-13       5814       1         0.0   0.000000   \n",
              "\n",
              "   score_gru  user_mean_watch_pct  user_total_watches  item_avg_watch_pct  \\\n",
              "0        0.0                  0.0                 0.0                 0.0   \n",
              "1        0.0                  0.0                 0.0                 0.0   \n",
              "2        0.0                  0.0                 0.0                 0.0   \n",
              "3        0.0                  0.0                 0.0                 0.0   \n",
              "4        0.0                  0.0                 0.0                 0.0   \n",
              "\n",
              "   item_watch_count  user_item_mean_pct  user_item_watch_count  \\\n",
              "0               0.0                 0.0                    0.0   \n",
              "1               0.0                 0.0                    0.0   \n",
              "2               0.0                 0.0                    0.0   \n",
              "3               0.0                 0.0                    0.0   \n",
              "4               0.0                 0.0                    0.0   \n",
              "\n",
              "   user_max_watch_pct_item  user_recent_watch_pct_item  user_rewatched_item  \\\n",
              "0                      0.0                         0.0                  0.0   \n",
              "1                      0.0                         0.0                  0.0   \n",
              "2                      0.0                         0.0                  0.0   \n",
              "3                      0.0                         0.0                  0.0   \n",
              "4                      0.0                         0.0                  0.0   \n",
              "\n",
              "   user_watch_share_of_total  ranker_score  \n",
              "0                        0.0      0.830061  \n",
              "1                        0.0      0.847814  \n",
              "2                        0.0      0.002912  \n",
              "3                        0.0      0.919657  \n",
              "4                        0.0      0.887922  "
            ]
          },
          "execution_count": 151,
          "metadata": {},
          "output_type": "execute_result"
        }
      ],
      "source": [
        "df_l2_full_feats.head()"
      ]
    },
    {
      "cell_type": "code",
      "execution_count": null,
      "id": "d65af57a",
      "metadata": {
        "execution": {
          "iopub.execute_input": "2025-04-07T03:01:55.100229Z",
          "iopub.status.busy": "2025-04-07T03:01:55.099947Z",
          "iopub.status.idle": "2025-04-07T03:01:55.104819Z",
          "shell.execute_reply": "2025-04-07T03:01:55.103968Z"
        },
        "papermill": {
          "duration": 0.107346,
          "end_time": "2025-04-07T03:01:55.106046",
          "exception": false,
          "start_time": "2025-04-07T03:01:54.998700",
          "status": "completed"
        },
        "tags": [],
        "id": "d65af57a",
        "outputId": "cba4b27b-83c5-45b6-bb2c-ab246ff086ca"
      },
      "outputs": [
        {
          "data": {
            "text/plain": [
              "(3669171, 19)"
            ]
          },
          "execution_count": 152,
          "metadata": {},
          "output_type": "execute_result"
        }
      ],
      "source": [
        "topk_final.shape"
      ]
    },
    {
      "cell_type": "code",
      "execution_count": null,
      "id": "49f5b691",
      "metadata": {
        "execution": {
          "iopub.execute_input": "2025-04-07T03:01:55.209364Z",
          "iopub.status.busy": "2025-04-07T03:01:55.209140Z",
          "iopub.status.idle": "2025-04-07T03:01:55.225720Z",
          "shell.execute_reply": "2025-04-07T03:01:55.225042Z"
        },
        "papermill": {
          "duration": 0.069409,
          "end_time": "2025-04-07T03:01:55.226835",
          "exception": false,
          "start_time": "2025-04-07T03:01:55.157426",
          "status": "completed"
        },
        "tags": [],
        "id": "49f5b691",
        "outputId": "8ccab9cb-c74f-4eec-b725-0a8e65f7d06c"
      },
      "outputs": [
        {
          "data": {
            "text/html": [
              "<div>\n",
              "<style scoped>\n",
              "    .dataframe tbody tr th:only-of-type {\n",
              "        vertical-align: middle;\n",
              "    }\n",
              "\n",
              "    .dataframe tbody tr th {\n",
              "        vertical-align: top;\n",
              "    }\n",
              "\n",
              "    .dataframe thead th {\n",
              "        text-align: right;\n",
              "    }\n",
              "</style>\n",
              "<table border=\"1\" class=\"dataframe\">\n",
              "  <thead>\n",
              "    <tr style=\"text-align: right;\">\n",
              "      <th></th>\n",
              "      <th>user_id</th>\n",
              "      <th>item_id</th>\n",
              "      <th>last_watch_dt</th>\n",
              "      <th>total_dur</th>\n",
              "      <th>target</th>\n",
              "      <th>score_topk</th>\n",
              "      <th>score_als</th>\n",
              "      <th>score_gru</th>\n",
              "      <th>user_mean_watch_pct</th>\n",
              "      <th>user_total_watches</th>\n",
              "      <th>item_avg_watch_pct</th>\n",
              "      <th>item_watch_count</th>\n",
              "      <th>user_item_mean_pct</th>\n",
              "      <th>user_item_watch_count</th>\n",
              "      <th>user_max_watch_pct_item</th>\n",
              "      <th>user_recent_watch_pct_item</th>\n",
              "      <th>user_rewatched_item</th>\n",
              "      <th>user_watch_share_of_total</th>\n",
              "      <th>ranker_score</th>\n",
              "    </tr>\n",
              "  </thead>\n",
              "  <tbody>\n",
              "    <tr>\n",
              "      <th>0</th>\n",
              "      <td>0</td>\n",
              "      <td>14359</td>\n",
              "      <td>2021-07-19</td>\n",
              "      <td>130</td>\n",
              "      <td>0</td>\n",
              "      <td>0.0</td>\n",
              "      <td>0.000000</td>\n",
              "      <td>0.0</td>\n",
              "      <td>0.0</td>\n",
              "      <td>1.0</td>\n",
              "      <td>56.379929</td>\n",
              "      <td>5909.0</td>\n",
              "      <td>0.0</td>\n",
              "      <td>0.0</td>\n",
              "      <td>0.0</td>\n",
              "      <td>0.0</td>\n",
              "      <td>0.0</td>\n",
              "      <td>0.0</td>\n",
              "      <td>0.000223</td>\n",
              "    </tr>\n",
              "    <tr>\n",
              "      <th>1</th>\n",
              "      <td>0</td>\n",
              "      <td>7102</td>\n",
              "      <td>2021-07-19</td>\n",
              "      <td>169</td>\n",
              "      <td>0</td>\n",
              "      <td>0.0</td>\n",
              "      <td>0.000000</td>\n",
              "      <td>0.0</td>\n",
              "      <td>0.0</td>\n",
              "      <td>1.0</td>\n",
              "      <td>51.233581</td>\n",
              "      <td>10232.0</td>\n",
              "      <td>0.0</td>\n",
              "      <td>0.0</td>\n",
              "      <td>0.0</td>\n",
              "      <td>0.0</td>\n",
              "      <td>0.0</td>\n",
              "      <td>0.0</td>\n",
              "      <td>0.000194</td>\n",
              "    </tr>\n",
              "    <tr>\n",
              "      <th>2</th>\n",
              "      <td>0</td>\n",
              "      <td>12192</td>\n",
              "      <td>2021-07-16</td>\n",
              "      <td>89</td>\n",
              "      <td>0</td>\n",
              "      <td>0.0</td>\n",
              "      <td>0.000000</td>\n",
              "      <td>0.0</td>\n",
              "      <td>0.0</td>\n",
              "      <td>0.0</td>\n",
              "      <td>4.806444</td>\n",
              "      <td>8938.0</td>\n",
              "      <td>0.0</td>\n",
              "      <td>0.0</td>\n",
              "      <td>0.0</td>\n",
              "      <td>0.0</td>\n",
              "      <td>0.0</td>\n",
              "      <td>0.0</td>\n",
              "      <td>0.000166</td>\n",
              "    </tr>\n",
              "    <tr>\n",
              "      <th>3</th>\n",
              "      <td>0</td>\n",
              "      <td>15297</td>\n",
              "      <td>2021-07-19</td>\n",
              "      <td>459</td>\n",
              "      <td>0</td>\n",
              "      <td>1.0</td>\n",
              "      <td>0.000031</td>\n",
              "      <td>0.0</td>\n",
              "      <td>0.0</td>\n",
              "      <td>1.0</td>\n",
              "      <td>57.041289</td>\n",
              "      <td>130375.0</td>\n",
              "      <td>0.0</td>\n",
              "      <td>0.0</td>\n",
              "      <td>0.0</td>\n",
              "      <td>0.0</td>\n",
              "      <td>0.0</td>\n",
              "      <td>0.0</td>\n",
              "      <td>0.000124</td>\n",
              "    </tr>\n",
              "    <tr>\n",
              "      <th>4</th>\n",
              "      <td>0</td>\n",
              "      <td>9728</td>\n",
              "      <td>2021-07-19</td>\n",
              "      <td>4</td>\n",
              "      <td>0</td>\n",
              "      <td>1.0</td>\n",
              "      <td>0.000000</td>\n",
              "      <td>0.0</td>\n",
              "      <td>0.0</td>\n",
              "      <td>1.0</td>\n",
              "      <td>65.340352</td>\n",
              "      <td>71905.0</td>\n",
              "      <td>0.0</td>\n",
              "      <td>0.0</td>\n",
              "      <td>0.0</td>\n",
              "      <td>0.0</td>\n",
              "      <td>0.0</td>\n",
              "      <td>0.0</td>\n",
              "      <td>0.000046</td>\n",
              "    </tr>\n",
              "  </tbody>\n",
              "</table>\n",
              "</div>"
            ],
            "text/plain": [
              "   user_id  item_id last_watch_dt  total_dur  target  score_topk  score_als  \\\n",
              "0        0    14359    2021-07-19        130       0         0.0   0.000000   \n",
              "1        0     7102    2021-07-19        169       0         0.0   0.000000   \n",
              "2        0    12192    2021-07-16         89       0         0.0   0.000000   \n",
              "3        0    15297    2021-07-19        459       0         1.0   0.000031   \n",
              "4        0     9728    2021-07-19          4       0         1.0   0.000000   \n",
              "\n",
              "   score_gru  user_mean_watch_pct  user_total_watches  item_avg_watch_pct  \\\n",
              "0        0.0                  0.0                 1.0           56.379929   \n",
              "1        0.0                  0.0                 1.0           51.233581   \n",
              "2        0.0                  0.0                 0.0            4.806444   \n",
              "3        0.0                  0.0                 1.0           57.041289   \n",
              "4        0.0                  0.0                 1.0           65.340352   \n",
              "\n",
              "   item_watch_count  user_item_mean_pct  user_item_watch_count  \\\n",
              "0            5909.0                 0.0                    0.0   \n",
              "1           10232.0                 0.0                    0.0   \n",
              "2            8938.0                 0.0                    0.0   \n",
              "3          130375.0                 0.0                    0.0   \n",
              "4           71905.0                 0.0                    0.0   \n",
              "\n",
              "   user_max_watch_pct_item  user_recent_watch_pct_item  user_rewatched_item  \\\n",
              "0                      0.0                         0.0                  0.0   \n",
              "1                      0.0                         0.0                  0.0   \n",
              "2                      0.0                         0.0                  0.0   \n",
              "3                      0.0                         0.0                  0.0   \n",
              "4                      0.0                         0.0                  0.0   \n",
              "\n",
              "   user_watch_share_of_total  ranker_score  \n",
              "0                        0.0      0.000223  \n",
              "1                        0.0      0.000194  \n",
              "2                        0.0      0.000166  \n",
              "3                        0.0      0.000124  \n",
              "4                        0.0      0.000046  "
            ]
          },
          "execution_count": 153,
          "metadata": {},
          "output_type": "execute_result"
        }
      ],
      "source": [
        "topk_final.head()"
      ]
    },
    {
      "cell_type": "code",
      "execution_count": null,
      "id": "018baccb",
      "metadata": {
        "execution": {
          "iopub.execute_input": "2025-04-07T03:01:55.332042Z",
          "iopub.status.busy": "2025-04-07T03:01:55.331690Z",
          "iopub.status.idle": "2025-04-07T03:02:10.243327Z",
          "shell.execute_reply": "2025-04-07T03:02:10.242619Z"
        },
        "papermill": {
          "duration": 14.965428,
          "end_time": "2025-04-07T03:02:10.244492",
          "exception": false,
          "start_time": "2025-04-07T03:01:55.279064",
          "status": "completed"
        },
        "tags": [],
        "id": "018baccb",
        "outputId": "4656f4bb-ad5e-4c04-9fe4-b11dd4756582"
      },
      "outputs": [
        {
          "name": "stdout",
          "output_type": "stream",
          "text": [
            "Diversity@10: 0.0013\n"
          ]
        }
      ],
      "source": [
        "topk_lists = (\n",
        "    topk_final\n",
        "    .groupby('user_id')['item_id']\n",
        "    .apply(list)\n",
        "    .tolist()\n",
        ")\n",
        "\n",
        "unique_items = len(set(item for user_list in topk_lists for item in user_list))\n",
        "num_users = len(topk_lists)\n",
        "k = 10\n",
        "\n",
        "diversity_k = unique_items / (k * num_users)\n",
        "print(f\"Diversity@{k}: {diversity_k:.4f}\")"
      ]
    },
    {
      "cell_type": "markdown",
      "id": "72b64a95",
      "metadata": {
        "papermill": {
          "duration": 0.05671,
          "end_time": "2025-04-07T03:02:10.354725",
          "exception": false,
          "start_time": "2025-04-07T03:02:10.298015",
          "status": "completed"
        },
        "tags": [],
        "id": "72b64a95"
      },
      "source": [
        "Diversity@10 = 0.0013 — это крайне низкое разнообразие.  \n",
        "Среди всех рекомендаций для всех пользователей очень мало разных айтемов.  \n",
        "Это признак того, что модель рекомендует одно и то же всем (скорее всего, самые популярные айтемы)."
      ]
    },
    {
      "cell_type": "code",
      "execution_count": null,
      "id": "dfc003ce",
      "metadata": {
        "execution": {
          "iopub.execute_input": "2025-04-07T03:02:10.462899Z",
          "iopub.status.busy": "2025-04-07T03:02:10.462594Z",
          "iopub.status.idle": "2025-04-07T03:04:54.039398Z",
          "shell.execute_reply": "2025-04-07T03:04:54.038549Z"
        },
        "papermill": {
          "duration": 163.687502,
          "end_time": "2025-04-07T03:04:54.096613",
          "exception": false,
          "start_time": "2025-04-07T03:02:10.409111",
          "status": "completed"
        },
        "tags": [],
        "id": "dfc003ce",
        "outputId": "f294c80e-ea34-456f-8e9f-d6ed6d667b39"
      },
      "outputs": [
        {
          "data": {
            "image/png": "[encoded data removed]",
            "text/plain": [
              "<Figure size 800x500 with 1 Axes>"
            ]
          },
          "metadata": {},
          "output_type": "display_data"
        }
      ],
      "source": [
        "from collections import defaultdict\n",
        "import matplotlib.pyplot as plt\n",
        "\n",
        "user2items = defaultdict(list)\n",
        "for _, row in topk_final.iterrows():\n",
        "    user2items[row['user_id']].append(row['item_id'])\n",
        "\n",
        "diversity_scores = []\n",
        "for k_val in range(1, 21):\n",
        "    unique_items = set()\n",
        "    for items in user2items.values():\n",
        "        unique_items.update(items[:k_val])\n",
        "    diversity = len(unique_items) / (k_val * len(user2items))\n",
        "    diversity_scores.append(diversity)\n",
        "\n",
        "plt.figure(figsize=(8, 5))\n",
        "plt.plot(range(1, 21), diversity_scores, marker='o')\n",
        "plt.xlabel(\"k\")\n",
        "plt.ylabel(\"Diversity@k\")\n",
        "plt.title(\"График Diversity@k\")\n",
        "plt.grid()\n",
        "plt.show()"
      ]
    },
    {
      "cell_type": "markdown",
      "id": "41b81c3c",
      "metadata": {
        "papermill": {
          "duration": 0.052305,
          "end_time": "2025-04-07T03:04:54.200808",
          "exception": false,
          "start_time": "2025-04-07T03:04:54.148503",
          "status": "completed"
        },
        "tags": [],
        "id": "41b81c3c"
      },
      "source": [
        "* У нас очень низкое разнообразие рекомендаций - например, при k=10 модель почти всем юзерам рекомендует одни и те же 10 айтемов.\n",
        "* Это может быть признаком переобучения на популярные айтемы или сильного перекоса в сторону хита (hit bias).\n",
        "* Модель не персонализирует выдачу: пользователи получают одинаковые рекомендации, особенно на больших k."
      ]
    }
  ],
  "metadata": {
    "accelerator": "GPU",
    "colab": {
      "gpuType": "T4",
      "provenance": []
    },
    "kaggle": {
      "accelerator": "gpu",
      "dataSources": [],
      "dockerImageVersionId": 30919,
      "isGpuEnabled": true,
      "isInternetEnabled": true,
      "language": "python",
      "sourceType": "notebook"
    },
    "kernelspec": {
      "display_name": "Python 3",
      "language": "python",
      "name": "python3"
    },
    "language_info": {
      "codemirror_mode": {
        "name": "ipython",
        "version": 3
      },
      "file_extension": ".py",
      "mimetype": "text/x-python",
      "name": "python",
      "nbconvert_exporter": "python",
      "pygments_lexer": "ipython3",
      "version": "3.10.12"
    },
    "papermill": {
      "default_parameters": {},
      "duration": 8012.550171,
      "end_time": "2025-04-07T03:04:58.083699",
      "environment_variables": {},
      "exception": null,
      "input_path": "__notebook__.ipynb",
      "output_path": "__notebook__.ipynb",
      "parameters": {},
      "start_time": "2025-04-07T00:51:25.533528",
      "version": "2.6.0"
    },
    "widgets": {
      "application/vnd.jupyter.widget-state+json": {}
    }
  },
  "nbformat": 4,
  "nbformat_minor": 5
}